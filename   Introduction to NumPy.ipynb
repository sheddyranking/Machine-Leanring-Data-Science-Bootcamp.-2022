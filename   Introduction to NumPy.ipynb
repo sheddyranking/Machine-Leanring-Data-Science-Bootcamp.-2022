{
 "cells": [
  {
   "cell_type": "code",
   "execution_count": 6,
   "id": "4a94634a",
   "metadata": {},
   "outputs": [],
   "source": [
    "import numpy as np"
   ]
  },
  {
   "cell_type": "markdown",
   "id": "f9aee615",
   "metadata": {},
   "source": [
    "###  Attributes and Datatypes"
   ]
  },
  {
   "cell_type": "code",
   "execution_count": 7,
   "id": "cf4cb80c",
   "metadata": {},
   "outputs": [],
   "source": [
    "### The Main DataType of Numpy is ndarray."
   ]
  },
  {
   "cell_type": "code",
   "execution_count": 8,
   "id": "4a829b6a",
   "metadata": {},
   "outputs": [
    {
     "data": {
      "text/plain": [
       "array([1, 2, 3])"
      ]
     },
     "execution_count": 8,
     "metadata": {},
     "output_type": "execute_result"
    }
   ],
   "source": [
    "a1 =  np.array([1,2,3])\n",
    "\n",
    "a1"
   ]
  },
  {
   "cell_type": "code",
   "execution_count": 9,
   "id": "73675c9b",
   "metadata": {},
   "outputs": [
    {
     "data": {
      "text/plain": [
       "numpy.ndarray"
      ]
     },
     "execution_count": 9,
     "metadata": {},
     "output_type": "execute_result"
    }
   ],
   "source": [
    "type(a1)"
   ]
  },
  {
   "cell_type": "code",
   "execution_count": 10,
   "id": "8b13f82e",
   "metadata": {},
   "outputs": [
    {
     "data": {
      "text/plain": [
       "array([[1. , 2.1, 3. ],\n",
       "       [4.1, 5. , 2.7]])"
      ]
     },
     "execution_count": 10,
     "metadata": {},
     "output_type": "execute_result"
    }
   ],
   "source": [
    "a2 =  np.array([[1,2.1,3.0],\n",
    "                [4.1,5,2.7]])\n",
    "a2"
   ]
  },
  {
   "cell_type": "code",
   "execution_count": 11,
   "id": "5d3d7b3b",
   "metadata": {},
   "outputs": [
    {
     "data": {
      "text/plain": [
       "array([[[1., 2., 3.],\n",
       "        [2., 3., 2.],\n",
       "        [2., 4., 5.]],\n",
       "\n",
       "       [[1., 0., 3.],\n",
       "        [2., 3., 7.],\n",
       "        [2., 4., 6.]]])"
      ]
     },
     "execution_count": 11,
     "metadata": {},
     "output_type": "execute_result"
    }
   ],
   "source": [
    "a3 = np.array([\n",
    "    [[1,2,3],[2.0,3.0,2],[2,4,5]],\n",
    "                \n",
    "     [[1,0,3],[2.0,3.0,7],[2,4,6]]\n",
    "           ])\n",
    "\n",
    "a3"
   ]
  },
  {
   "cell_type": "code",
   "execution_count": 12,
   "id": "4d86d85e",
   "metadata": {},
   "outputs": [
    {
     "data": {
      "text/plain": [
       "(3, 6, 18)"
      ]
     },
     "execution_count": 12,
     "metadata": {},
     "output_type": "execute_result"
    }
   ],
   "source": [
    "a1.size, a2.size, a3.size"
   ]
  },
  {
   "cell_type": "code",
   "execution_count": 13,
   "id": "045ceeaa",
   "metadata": {},
   "outputs": [
    {
     "data": {
      "text/plain": [
       "((3,), (2, 3), (2, 3, 3))"
      ]
     },
     "execution_count": 13,
     "metadata": {},
     "output_type": "execute_result"
    }
   ],
   "source": [
    "a1.shape, a2.shape, a3.shape"
   ]
  },
  {
   "cell_type": "code",
   "execution_count": 14,
   "id": "8c251f74",
   "metadata": {},
   "outputs": [
    {
     "data": {
      "text/plain": [
       "(1, 2, 3)"
      ]
     },
     "execution_count": 14,
     "metadata": {},
     "output_type": "execute_result"
    }
   ],
   "source": [
    "a1.ndim, a2.ndim, a3.ndim"
   ]
  },
  {
   "cell_type": "code",
   "execution_count": 15,
   "id": "95b09d64",
   "metadata": {},
   "outputs": [
    {
     "data": {
      "text/plain": [
       "(dtype('int32'), dtype('float64'), dtype('float64'))"
      ]
     },
     "execution_count": 15,
     "metadata": {},
     "output_type": "execute_result"
    }
   ],
   "source": [
    "a1.dtype, a2.dtype, a3.dtype"
   ]
  },
  {
   "cell_type": "code",
   "execution_count": 16,
   "id": "fce33bda",
   "metadata": {},
   "outputs": [
    {
     "data": {
      "text/plain": [
       "(numpy.ndarray, numpy.ndarray, numpy.ndarray)"
      ]
     },
     "execution_count": 16,
     "metadata": {},
     "output_type": "execute_result"
    }
   ],
   "source": [
    "type(a1), type(a2), type(a3)"
   ]
  },
  {
   "cell_type": "code",
   "execution_count": 17,
   "id": "63e655d0",
   "metadata": {},
   "outputs": [],
   "source": [
    "import pandas as pd "
   ]
  },
  {
   "cell_type": "code",
   "execution_count": 18,
   "id": "2c14e66c",
   "metadata": {},
   "outputs": [
    {
     "data": {
      "text/html": [
       "<div>\n",
       "<style scoped>\n",
       "    .dataframe tbody tr th:only-of-type {\n",
       "        vertical-align: middle;\n",
       "    }\n",
       "\n",
       "    .dataframe tbody tr th {\n",
       "        vertical-align: top;\n",
       "    }\n",
       "\n",
       "    .dataframe thead th {\n",
       "        text-align: right;\n",
       "    }\n",
       "</style>\n",
       "<table border=\"1\" class=\"dataframe\">\n",
       "  <thead>\n",
       "    <tr style=\"text-align: right;\">\n",
       "      <th></th>\n",
       "      <th>0</th>\n",
       "      <th>1</th>\n",
       "      <th>2</th>\n",
       "    </tr>\n",
       "  </thead>\n",
       "  <tbody>\n",
       "    <tr>\n",
       "      <th>0</th>\n",
       "      <td>1.0</td>\n",
       "      <td>2.1</td>\n",
       "      <td>3.0</td>\n",
       "    </tr>\n",
       "    <tr>\n",
       "      <th>1</th>\n",
       "      <td>4.1</td>\n",
       "      <td>5.0</td>\n",
       "      <td>2.7</td>\n",
       "    </tr>\n",
       "  </tbody>\n",
       "</table>\n",
       "</div>"
      ],
      "text/plain": [
       "     0    1    2\n",
       "0  1.0  2.1  3.0\n",
       "1  4.1  5.0  2.7"
      ]
     },
     "execution_count": 18,
     "metadata": {},
     "output_type": "execute_result"
    }
   ],
   "source": [
    "df = pd.DataFrame(a2)\n",
    "df"
   ]
  },
  {
   "cell_type": "markdown",
   "id": "d8b8e647",
   "metadata": {},
   "source": [
    "   ### Creating arrays from Functions"
   ]
  },
  {
   "cell_type": "code",
   "execution_count": 19,
   "id": "d563a81a",
   "metadata": {},
   "outputs": [
    {
     "data": {
      "text/plain": [
       "array([[1., 1., 1.],\n",
       "       [1., 1., 1.],\n",
       "       [1., 1., 1.],\n",
       "       [1., 1., 1.],\n",
       "       [1., 1., 1.]])"
      ]
     },
     "execution_count": 19,
     "metadata": {},
     "output_type": "execute_result"
    }
   ],
   "source": [
    "ones = np.ones((5,3))\n",
    "ones"
   ]
  },
  {
   "cell_type": "code",
   "execution_count": 20,
   "id": "51f0ffb1",
   "metadata": {},
   "outputs": [
    {
     "data": {
      "text/plain": [
       "numpy.ndarray"
      ]
     },
     "execution_count": 20,
     "metadata": {},
     "output_type": "execute_result"
    }
   ],
   "source": [
    "type(ones)"
   ]
  },
  {
   "cell_type": "code",
   "execution_count": 21,
   "id": "a4d882b3",
   "metadata": {},
   "outputs": [
    {
     "data": {
      "text/plain": [
       "array([[0., 0., 0., 0., 0.],\n",
       "       [0., 0., 0., 0., 0.],\n",
       "       [0., 0., 0., 0., 0.]])"
      ]
     },
     "execution_count": 21,
     "metadata": {},
     "output_type": "execute_result"
    }
   ],
   "source": [
    "Zeros =  np.zeros((3,5))\n",
    "Zeros"
   ]
  },
  {
   "cell_type": "code",
   "execution_count": 22,
   "id": "3401c8e7",
   "metadata": {},
   "outputs": [
    {
     "data": {
      "text/plain": [
       "numpy.ndarray"
      ]
     },
     "execution_count": 22,
     "metadata": {},
     "output_type": "execute_result"
    }
   ],
   "source": [
    "type(Zeros)"
   ]
  },
  {
   "cell_type": "code",
   "execution_count": 23,
   "id": "4f4cbce8",
   "metadata": {},
   "outputs": [
    {
     "data": {
      "text/plain": [
       "array([0, 2, 4, 6, 8])"
      ]
     },
     "execution_count": 23,
     "metadata": {},
     "output_type": "execute_result"
    }
   ],
   "source": [
    "## start=0, end=0, step=2\n",
    "array_range = np.arange(0,10,2)\n",
    "\n",
    "array_range"
   ]
  },
  {
   "cell_type": "code",
   "execution_count": 24,
   "id": "32e9f98f",
   "metadata": {},
   "outputs": [
    {
     "data": {
      "text/plain": [
       "array([[8, 7, 2],\n",
       "       [5, 1, 9],\n",
       "       [9, 3, 2],\n",
       "       [4, 3, 7],\n",
       "       [6, 3, 2]])"
      ]
     },
     "execution_count": 24,
     "metadata": {},
     "output_type": "execute_result"
    }
   ],
   "source": [
    "## random numbers between 0&10 with a shape 5,3\n",
    "rand= np.random.randint(0,10, size=(5,3))\n",
    "rand"
   ]
  },
  {
   "cell_type": "code",
   "execution_count": 25,
   "id": "d9fdaedc",
   "metadata": {},
   "outputs": [
    {
     "data": {
      "text/plain": [
       "array([[0.00273962, 0.24564409, 0.96035533, 0.4490123 ],\n",
       "       [0.67125568, 0.22851656, 0.34241777, 0.88841154],\n",
       "       [0.05102709, 0.8692993 , 0.90519483, 0.52183872],\n",
       "       [0.37228094, 0.47652723, 0.20636428, 0.5847181 ],\n",
       "       [0.25123982, 0.78105566, 0.90999468, 0.19012352]])"
      ]
     },
     "execution_count": 25,
     "metadata": {},
     "output_type": "execute_result"
    }
   ],
   "source": [
    "randoms= np.random.random((5,4))\n",
    "\n",
    "randoms"
   ]
  },
  {
   "cell_type": "code",
   "execution_count": 26,
   "id": "7698b1ef",
   "metadata": {},
   "outputs": [
    {
     "data": {
      "text/plain": [
       "array([[0.37635316, 0.08136875, 0.81538097, 0.15093889],\n",
       "       [0.85406948, 0.61908172, 0.40489405, 0.55764871],\n",
       "       [0.3544971 , 0.14195965, 0.44678913, 0.9339127 ],\n",
       "       [0.2315338 , 0.8166074 , 0.28631712, 0.43332506],\n",
       "       [0.27054382, 0.87683815, 0.12074626, 0.50818713]])"
      ]
     },
     "execution_count": 26,
     "metadata": {},
     "output_type": "execute_result"
    }
   ],
   "source": [
    "#this works almost same as  the Above.\n",
    "\n",
    "a_rand = np.random.rand(5,4)\n",
    "a_rand"
   ]
  },
  {
   "cell_type": "code",
   "execution_count": 27,
   "id": "53850039",
   "metadata": {},
   "outputs": [
    {
     "data": {
      "text/plain": [
       "array([[5, 0, 3, 3],\n",
       "       [7, 9, 3, 5],\n",
       "       [2, 4, 7, 6],\n",
       "       [8, 8, 1, 6],\n",
       "       [7, 7, 8, 1]])"
      ]
     },
     "execution_count": 27,
     "metadata": {},
     "output_type": "execute_result"
    }
   ],
   "source": [
    "### Pseudo Random Numbers\n",
    "np.random.seed(0)\n",
    "#the seed() function prevent a numpy function from generating random numbers once the seed parameter is met so that someone\n",
    "# can run the same code with generating random numbers\n",
    "\n",
    "rand_4 = np.random.randint(0,10, (5,4))\n",
    "rand_4"
   ]
  },
  {
   "cell_type": "code",
   "execution_count": 28,
   "id": "3ee243db",
   "metadata": {},
   "outputs": [
    {
     "data": {
      "text/plain": [
       "array([[0.07630829, 0.77991879, 0.43840923, 0.72346518],\n",
       "       [0.97798951, 0.53849587, 0.50112046, 0.07205113],\n",
       "       [0.26843898, 0.4998825 , 0.67923   , 0.80373904],\n",
       "       [0.38094113, 0.06593635, 0.2881456 , 0.90959353],\n",
       "       [0.21338535, 0.45212396, 0.93120602, 0.02489923]])"
      ]
     },
     "execution_count": 28,
     "metadata": {},
     "output_type": "execute_result"
    }
   ],
   "source": [
    "np.random.seed(7) #the rand numbes are static and can be shareavle\n",
    "a_rand = np.random.rand(5,4)\n",
    "a_rand"
   ]
  },
  {
   "cell_type": "markdown",
   "id": "ebf0ac23",
   "metadata": {},
   "source": [
    "### Viewing Arrays and Metrices "
   ]
  },
  {
   "cell_type": "code",
   "execution_count": 29,
   "id": "76f895d3",
   "metadata": {},
   "outputs": [
    {
     "data": {
      "text/plain": [
       "array([0, 1, 2, 3, 4, 5, 6, 7, 8, 9])"
      ]
     },
     "execution_count": 29,
     "metadata": {},
     "output_type": "execute_result"
    }
   ],
   "source": [
    "## this return the Uniques Number from the random Arrays \n",
    "np.unique(rand_4)"
   ]
  },
  {
   "cell_type": "code",
   "execution_count": 30,
   "id": "e5b89da3",
   "metadata": {},
   "outputs": [
    {
     "data": {
      "text/plain": [
       "array([1, 2, 3])"
      ]
     },
     "execution_count": 30,
     "metadata": {},
     "output_type": "execute_result"
    }
   ],
   "source": [
    "a1"
   ]
  },
  {
   "cell_type": "code",
   "execution_count": 31,
   "id": "6709378f",
   "metadata": {},
   "outputs": [
    {
     "data": {
      "text/plain": [
       "array([[1. , 2.1, 3. ],\n",
       "       [4.1, 5. , 2.7]])"
      ]
     },
     "execution_count": 31,
     "metadata": {},
     "output_type": "execute_result"
    }
   ],
   "source": [
    "a2"
   ]
  },
  {
   "cell_type": "code",
   "execution_count": 32,
   "id": "85e50b0c",
   "metadata": {},
   "outputs": [
    {
     "data": {
      "text/plain": [
       "array([[[1., 2., 3.],\n",
       "        [2., 3., 2.],\n",
       "        [2., 4., 5.]],\n",
       "\n",
       "       [[1., 0., 3.],\n",
       "        [2., 3., 7.],\n",
       "        [2., 4., 6.]]])"
      ]
     },
     "execution_count": 32,
     "metadata": {},
     "output_type": "execute_result"
    }
   ],
   "source": [
    "a3"
   ]
  },
  {
   "cell_type": "markdown",
   "id": "a23ed699",
   "metadata": {},
   "source": [
    "#### Selecting a single array within the columns"
   ]
  },
  {
   "cell_type": "code",
   "execution_count": 33,
   "id": "99b3e39d",
   "metadata": {},
   "outputs": [
    {
     "data": {
      "text/plain": [
       "2"
      ]
     },
     "execution_count": 33,
     "metadata": {},
     "output_type": "execute_result"
    }
   ],
   "source": [
    "a1[1]"
   ]
  },
  {
   "cell_type": "code",
   "execution_count": 34,
   "id": "a1c78c19",
   "metadata": {},
   "outputs": [
    {
     "data": {
      "text/plain": [
       "array([1. , 2.1, 3. ])"
      ]
     },
     "execution_count": 34,
     "metadata": {},
     "output_type": "execute_result"
    }
   ],
   "source": [
    "a2[0] # Returns the firt row"
   ]
  },
  {
   "cell_type": "code",
   "execution_count": 35,
   "id": "41259f6d",
   "metadata": {},
   "outputs": [
    {
     "data": {
      "text/plain": [
       "array([4.1, 5. , 2.7])"
      ]
     },
     "execution_count": 35,
     "metadata": {},
     "output_type": "execute_result"
    }
   ],
   "source": [
    "a2[1] # return the second row"
   ]
  },
  {
   "cell_type": "code",
   "execution_count": 36,
   "id": "569c0b5d",
   "metadata": {},
   "outputs": [
    {
     "data": {
      "text/plain": [
       "array([[1. , 2.1],\n",
       "       [4.1, 5. ]])"
      ]
     },
     "execution_count": 36,
     "metadata": {},
     "output_type": "execute_result"
    }
   ],
   "source": [
    "a2[:2,:2] #return the first two values of each row"
   ]
  },
  {
   "cell_type": "code",
   "execution_count": 37,
   "id": "9328fde2",
   "metadata": {},
   "outputs": [
    {
     "data": {
      "text/plain": [
       "array([[[1., 2., 3.],\n",
       "        [2., 3., 2.],\n",
       "        [2., 4., 5.]],\n",
       "\n",
       "       [[1., 0., 3.],\n",
       "        [2., 3., 7.],\n",
       "        [2., 4., 6.]]])"
      ]
     },
     "execution_count": 37,
     "metadata": {},
     "output_type": "execute_result"
    }
   ],
   "source": [
    "a3"
   ]
  },
  {
   "cell_type": "code",
   "execution_count": 38,
   "id": "bc59b7d1",
   "metadata": {},
   "outputs": [
    {
     "data": {
      "text/plain": [
       "array([[1., 2., 3.],\n",
       "       [2., 3., 2.],\n",
       "       [2., 4., 5.]])"
      ]
     },
     "execution_count": 38,
     "metadata": {},
     "output_type": "execute_result"
    }
   ],
   "source": [
    "a3[0] # returns the entire first row"
   ]
  },
  {
   "cell_type": "code",
   "execution_count": 39,
   "id": "f41e6e40",
   "metadata": {},
   "outputs": [
    {
     "data": {
      "text/plain": [
       "array([1., 2., 3.])"
      ]
     },
     "execution_count": 39,
     "metadata": {},
     "output_type": "execute_result"
    }
   ],
   "source": [
    "a3[0,0] #get the second row from the first row above"
   ]
  },
  {
   "cell_type": "code",
   "execution_count": 40,
   "id": "e0df4c04",
   "metadata": {},
   "outputs": [
    {
     "data": {
      "text/plain": [
       "2.0"
      ]
     },
     "execution_count": 40,
     "metadata": {},
     "output_type": "execute_result"
    }
   ],
   "source": [
    "a3[0,2,0] # Selecting  the last value from the last row in the first index metrix [0]"
   ]
  },
  {
   "cell_type": "markdown",
   "id": "ea9011b7",
   "metadata": {},
   "source": [
    "#### Selecting the Entire Array"
   ]
  },
  {
   "cell_type": "code",
   "execution_count": 41,
   "id": "b46e2a73",
   "metadata": {},
   "outputs": [
    {
     "data": {
      "text/plain": [
       "array([[[1., 2., 3.]]])"
      ]
     },
     "execution_count": 41,
     "metadata": {},
     "output_type": "execute_result"
    }
   ],
   "source": [
    "a3[:1,:1]  # Selecting the Enter Array to return the first cell"
   ]
  },
  {
   "cell_type": "code",
   "execution_count": 42,
   "id": "078b4dd7",
   "metadata": {},
   "outputs": [
    {
     "data": {
      "text/plain": [
       "array([[[1., 2., 3.],\n",
       "        [2., 3., 2.]],\n",
       "\n",
       "       [[1., 0., 3.],\n",
       "        [2., 3., 7.]]])"
      ]
     },
     "execution_count": 42,
     "metadata": {},
     "output_type": "execute_result"
    }
   ],
   "source": [
    "a3[:2,:2]  # Selecting the Enter Array to return the second cell"
   ]
  },
  {
   "cell_type": "code",
   "execution_count": 43,
   "id": "535ce3c5",
   "metadata": {},
   "outputs": [
    {
     "data": {
      "text/plain": [
       "array([[[1., 2.],\n",
       "        [2., 3.]],\n",
       "\n",
       "       [[1., 0.],\n",
       "        [2., 3.]]])"
      ]
     },
     "execution_count": 43,
     "metadata": {},
     "output_type": "execute_result"
    }
   ],
   "source": [
    "a3[:2,:2,:2] ##Select the first Two Rows, and return the first two columns"
   ]
  },
  {
   "cell_type": "code",
   "execution_count": 44,
   "id": "8bceef4d",
   "metadata": {},
   "outputs": [
    {
     "data": {
      "text/plain": [
       "array([[[[0, 2, 8, 9, 6],\n",
       "         [4, 9, 7, 3, 3],\n",
       "         [8, 3, 0, 1, 0],\n",
       "         [0, 6, 7, 7, 9]],\n",
       "\n",
       "        [[3, 0, 7, 7, 7],\n",
       "         [0, 5, 4, 3, 1],\n",
       "         [3, 1, 3, 4, 3],\n",
       "         [1, 9, 5, 9, 1]],\n",
       "\n",
       "        [[2, 3, 2, 2, 5],\n",
       "         [7, 3, 0, 9, 9],\n",
       "         [3, 4, 5, 3, 0],\n",
       "         [4, 8, 6, 7, 2]]],\n",
       "\n",
       "\n",
       "       [[[7, 3, 8, 6, 6],\n",
       "         [5, 6, 5, 7, 1],\n",
       "         [5, 4, 4, 9, 9],\n",
       "         [0, 6, 2, 6, 8]],\n",
       "\n",
       "        [[2, 4, 1, 6, 1],\n",
       "         [5, 1, 6, 9, 8],\n",
       "         [6, 5, 9, 7, 5],\n",
       "         [4, 9, 6, 8, 1]],\n",
       "\n",
       "        [[5, 5, 8, 3, 7],\n",
       "         [7, 9, 4, 7, 5],\n",
       "         [9, 6, 2, 0, 5],\n",
       "         [3, 0, 5, 7, 1]]]])"
      ]
     },
     "execution_count": 44,
     "metadata": {},
     "output_type": "execute_result"
    }
   ],
   "source": [
    "#2,3,4,5 array, alway count backward to get the dim\n",
    "rand_5 = np.random.randint(10,size=(2,3,4,5))\n",
    "rand_5"
   ]
  },
  {
   "cell_type": "code",
   "execution_count": null,
   "id": "28e278b2",
   "metadata": {},
   "outputs": [],
   "source": []
  },
  {
   "cell_type": "code",
   "execution_count": 45,
   "id": "0ffc9f87",
   "metadata": {},
   "outputs": [
    {
     "data": {
      "text/plain": [
       "array([[[0, 2, 8, 9, 6],\n",
       "        [4, 9, 7, 3, 3],\n",
       "        [8, 3, 0, 1, 0],\n",
       "        [0, 6, 7, 7, 9]],\n",
       "\n",
       "       [[3, 0, 7, 7, 7],\n",
       "        [0, 5, 4, 3, 1],\n",
       "        [3, 1, 3, 4, 3],\n",
       "        [1, 9, 5, 9, 1]],\n",
       "\n",
       "       [[2, 3, 2, 2, 5],\n",
       "        [7, 3, 0, 9, 9],\n",
       "        [3, 4, 5, 3, 0],\n",
       "        [4, 8, 6, 7, 2]]])"
      ]
     },
     "execution_count": 45,
     "metadata": {},
     "output_type": "execute_result"
    }
   ],
   "source": [
    "rand_5[0] #first index metrix(0)"
   ]
  },
  {
   "cell_type": "code",
   "execution_count": 46,
   "id": "bc3f9b6f",
   "metadata": {},
   "outputs": [
    {
     "data": {
      "text/plain": [
       "array([[3, 0, 7, 7, 7],\n",
       "       [0, 5, 4, 3, 1],\n",
       "       [3, 1, 3, 4, 3],\n",
       "       [1, 9, 5, 9, 1]])"
      ]
     },
     "execution_count": 46,
     "metadata": {},
     "output_type": "execute_result"
    }
   ],
   "source": [
    "rand_5[0,1] ## getting the second metric from the first index metrix(0)"
   ]
  },
  {
   "cell_type": "code",
   "execution_count": 47,
   "id": "226cdd0a",
   "metadata": {},
   "outputs": [
    {
     "data": {
      "text/plain": [
       "array([[2, 3, 2, 2, 5],\n",
       "       [7, 3, 0, 9, 9],\n",
       "       [3, 4, 5, 3, 0],\n",
       "       [4, 8, 6, 7, 2]])"
      ]
     },
     "execution_count": 47,
     "metadata": {},
     "output_type": "execute_result"
    }
   ],
   "source": [
    "rand_5[0,2] #getting the third metric from the first index metrix(0)"
   ]
  },
  {
   "cell_type": "code",
   "execution_count": 48,
   "id": "e996d065",
   "metadata": {},
   "outputs": [
    {
     "data": {
      "text/plain": [
       "array([3, 4, 5, 3, 0])"
      ]
     },
     "execution_count": 48,
     "metadata": {},
     "output_type": "execute_result"
    }
   ],
   "source": [
    "rand_5[0,2,2] #getting the third row from the third metrix of the first index metrix(0)"
   ]
  },
  {
   "cell_type": "code",
   "execution_count": 49,
   "id": "929cb943",
   "metadata": {},
   "outputs": [
    {
     "data": {
      "text/plain": [
       "array([[2, 3, 2, 2, 5],\n",
       "       [7, 3, 0, 9, 9]])"
      ]
     },
     "execution_count": 49,
     "metadata": {},
     "output_type": "execute_result"
    }
   ],
   "source": [
    "rand_5[0,2,:2]  #getting the first 2 row from the third metrix of the first index metrix(0)"
   ]
  },
  {
   "cell_type": "code",
   "execution_count": 50,
   "id": "2657fdc4",
   "metadata": {},
   "outputs": [
    {
     "data": {
      "text/plain": [
       "array([[[7, 3, 8, 6, 6],\n",
       "        [5, 6, 5, 7, 1],\n",
       "        [5, 4, 4, 9, 9],\n",
       "        [0, 6, 2, 6, 8]],\n",
       "\n",
       "       [[2, 4, 1, 6, 1],\n",
       "        [5, 1, 6, 9, 8],\n",
       "        [6, 5, 9, 7, 5],\n",
       "        [4, 9, 6, 8, 1]],\n",
       "\n",
       "       [[5, 5, 8, 3, 7],\n",
       "        [7, 9, 4, 7, 5],\n",
       "        [9, 6, 2, 0, 5],\n",
       "        [3, 0, 5, 7, 1]]])"
      ]
     },
     "execution_count": 50,
     "metadata": {},
     "output_type": "execute_result"
    }
   ],
   "source": [
    "rand_5[1] #second index metrix(1)"
   ]
  },
  {
   "cell_type": "code",
   "execution_count": 51,
   "id": "1a21e563",
   "metadata": {},
   "outputs": [
    {
     "data": {
      "text/plain": [
       "array([3, 0, 5, 7, 1])"
      ]
     },
     "execution_count": 51,
     "metadata": {},
     "output_type": "execute_result"
    }
   ],
   "source": [
    "rand_5[1,2,3]  #getting the last row from the third metrix in the second index metix(1)"
   ]
  },
  {
   "cell_type": "code",
   "execution_count": 52,
   "id": "cf9d3461",
   "metadata": {},
   "outputs": [
    {
     "data": {
      "text/plain": [
       "array([[0, 6, 2, 6, 8],\n",
       "       [4, 9, 6, 8, 1],\n",
       "       [3, 0, 5, 7, 1]])"
      ]
     },
     "execution_count": 52,
     "metadata": {},
     "output_type": "execute_result"
    }
   ],
   "source": [
    "rand_5[1,:3,-1] #select all the columns and return only the last rows"
   ]
  },
  {
   "cell_type": "code",
   "execution_count": 53,
   "id": "778377bc",
   "metadata": {},
   "outputs": [
    {
     "data": {
      "text/plain": [
       "array([5, 1, 6, 9, 8])"
      ]
     },
     "execution_count": 53,
     "metadata": {},
     "output_type": "execute_result"
    }
   ],
   "source": [
    "rand_5[1,1,1]  #Selecting the second row from the second metrix in the second index metrix(1)"
   ]
  },
  {
   "cell_type": "code",
   "execution_count": 54,
   "id": "3619216c",
   "metadata": {},
   "outputs": [
    {
     "data": {
      "text/plain": [
       "array([[[[0, 2, 8, 9],\n",
       "         [4, 9, 7, 3],\n",
       "         [8, 3, 0, 1],\n",
       "         [0, 6, 7, 7]],\n",
       "\n",
       "        [[3, 0, 7, 7],\n",
       "         [0, 5, 4, 3],\n",
       "         [3, 1, 3, 4],\n",
       "         [1, 9, 5, 9]],\n",
       "\n",
       "        [[2, 3, 2, 2],\n",
       "         [7, 3, 0, 9],\n",
       "         [3, 4, 5, 3],\n",
       "         [4, 8, 6, 7]]],\n",
       "\n",
       "\n",
       "       [[[7, 3, 8, 6],\n",
       "         [5, 6, 5, 7],\n",
       "         [5, 4, 4, 9],\n",
       "         [0, 6, 2, 6]],\n",
       "\n",
       "        [[2, 4, 1, 6],\n",
       "         [5, 1, 6, 9],\n",
       "         [6, 5, 9, 7],\n",
       "         [4, 9, 6, 8]],\n",
       "\n",
       "        [[5, 5, 8, 3],\n",
       "         [7, 9, 4, 7],\n",
       "         [9, 6, 2, 0],\n",
       "         [3, 0, 5, 7]]]])"
      ]
     },
     "execution_count": 54,
     "metadata": {},
     "output_type": "execute_result"
    }
   ],
   "source": [
    "rand_5[:,:,:,:4]  ## Getting the first 4-Numbers of the innermost dimensions from all the index"
   ]
  },
  {
   "cell_type": "code",
   "execution_count": 55,
   "id": "02f45101",
   "metadata": {},
   "outputs": [
    {
     "data": {
      "text/plain": [
       "array([[[[0, 2],\n",
       "         [4, 9],\n",
       "         [8, 3],\n",
       "         [0, 6]],\n",
       "\n",
       "        [[3, 0],\n",
       "         [0, 5],\n",
       "         [3, 1],\n",
       "         [1, 9]],\n",
       "\n",
       "        [[2, 3],\n",
       "         [7, 3],\n",
       "         [3, 4],\n",
       "         [4, 8]]],\n",
       "\n",
       "\n",
       "       [[[7, 3],\n",
       "         [5, 6],\n",
       "         [5, 4],\n",
       "         [0, 6]],\n",
       "\n",
       "        [[2, 4],\n",
       "         [5, 1],\n",
       "         [6, 5],\n",
       "         [4, 9]],\n",
       "\n",
       "        [[5, 5],\n",
       "         [7, 9],\n",
       "         [9, 6],\n",
       "         [3, 0]]]])"
      ]
     },
     "execution_count": 55,
     "metadata": {},
     "output_type": "execute_result"
    }
   ],
   "source": [
    "rand_5[:,:,:,:2]  ## Getting the first 2-column of the innermost dimensions from all the metrix"
   ]
  },
  {
   "cell_type": "code",
   "execution_count": 56,
   "id": "1b9c31aa",
   "metadata": {},
   "outputs": [
    {
     "data": {
      "text/plain": [
       "array([[[[0, 2, 8, 9, 6],\n",
       "         [4, 9, 7, 3, 3],\n",
       "         [8, 3, 0, 1, 0],\n",
       "         [0, 6, 7, 7, 9]],\n",
       "\n",
       "        [[3, 0, 7, 7, 7],\n",
       "         [0, 5, 4, 3, 1],\n",
       "         [3, 1, 3, 4, 3],\n",
       "         [1, 9, 5, 9, 1]],\n",
       "\n",
       "        [[2, 3, 2, 2, 5],\n",
       "         [7, 3, 0, 9, 9],\n",
       "         [3, 4, 5, 3, 0],\n",
       "         [4, 8, 6, 7, 2]]],\n",
       "\n",
       "\n",
       "       [[[7, 3, 8, 6, 6],\n",
       "         [5, 6, 5, 7, 1],\n",
       "         [5, 4, 4, 9, 9],\n",
       "         [0, 6, 2, 6, 8]],\n",
       "\n",
       "        [[2, 4, 1, 6, 1],\n",
       "         [5, 1, 6, 9, 8],\n",
       "         [6, 5, 9, 7, 5],\n",
       "         [4, 9, 6, 8, 1]],\n",
       "\n",
       "        [[5, 5, 8, 3, 7],\n",
       "         [7, 9, 4, 7, 5],\n",
       "         [9, 6, 2, 0, 5],\n",
       "         [3, 0, 5, 7, 1]]]])"
      ]
     },
     "execution_count": 56,
     "metadata": {},
     "output_type": "execute_result"
    }
   ],
   "source": [
    "rand_5"
   ]
  },
  {
   "cell_type": "code",
   "execution_count": 57,
   "id": "c58639f6",
   "metadata": {},
   "outputs": [
    {
     "data": {
      "text/plain": [
       "array([[5, 5, 8, 3, 7],\n",
       "       [7, 9, 4, 7, 5],\n",
       "       [9, 6, 2, 0, 5],\n",
       "       [3, 0, 5, 7, 1]])"
      ]
     },
     "execution_count": 57,
     "metadata": {},
     "output_type": "execute_result"
    }
   ],
   "source": [
    "rand_5[1,2] #third metrix in the second index metrix [1]"
   ]
  },
  {
   "cell_type": "code",
   "execution_count": 58,
   "id": "0477864a",
   "metadata": {},
   "outputs": [
    {
     "data": {
      "text/plain": [
       "3"
      ]
     },
     "execution_count": 58,
     "metadata": {},
     "output_type": "execute_result"
    }
   ],
   "source": [
    "rand_5[1,2,3,0] ## Selecting the last value from the third metrix in the second index metrix [1]"
   ]
  },
  {
   "cell_type": "code",
   "execution_count": 59,
   "id": "08851c3f",
   "metadata": {},
   "outputs": [
    {
     "data": {
      "text/plain": [
       "array([[5, 5, 8, 3, 7],\n",
       "       [7, 9, 4, 7, 5],\n",
       "       [9, 6, 2, 0, 5],\n",
       "       [3, 0, 5, 7, 1]])"
      ]
     },
     "execution_count": 59,
     "metadata": {},
     "output_type": "execute_result"
    }
   ],
   "source": [
    "rand_5[1,2]   #third metrix in the second index metrix [1]"
   ]
  },
  {
   "cell_type": "code",
   "execution_count": 60,
   "id": "93ae0ef7",
   "metadata": {},
   "outputs": [
    {
     "data": {
      "text/plain": [
       "array([[5, 5],\n",
       "       [7, 9],\n",
       "       [9, 6],\n",
       "       [3, 0]])"
      ]
     },
     "execution_count": 60,
     "metadata": {},
     "output_type": "execute_result"
    }
   ],
   "source": [
    "rand_5[1,2,:,:2] ## Selecting the first two columns from the third metrix in the second index metrix [1]"
   ]
  },
  {
   "cell_type": "code",
   "execution_count": 61,
   "id": "3d9668c2",
   "metadata": {},
   "outputs": [
    {
     "data": {
      "text/plain": [
       "array([[5, 5, 8, 3, 7],\n",
       "       [7, 9, 4, 7, 5],\n",
       "       [9, 6, 2, 0, 5],\n",
       "       [3, 0, 5, 7, 1]])"
      ]
     },
     "execution_count": 61,
     "metadata": {},
     "output_type": "execute_result"
    }
   ],
   "source": [
    "rand_5[1,2]   #third metrix in the second index metrix [1]"
   ]
  },
  {
   "cell_type": "code",
   "execution_count": 62,
   "id": "635d8b15",
   "metadata": {},
   "outputs": [
    {
     "data": {
      "text/plain": [
       "array([[9, 6],\n",
       "       [3, 0]])"
      ]
     },
     "execution_count": 62,
     "metadata": {},
     "output_type": "execute_result"
    }
   ],
   "source": [
    "rand_5[1, 2, 2:4,:2] #slicing the 2nd,3rd row & 1st,2nd Column, from the third metrix in the second index metrix [1]"
   ]
  },
  {
   "cell_type": "code",
   "execution_count": 63,
   "id": "01113beb",
   "metadata": {},
   "outputs": [
    {
     "data": {
      "text/plain": [
       "array([[5, 5, 8, 3, 7],\n",
       "       [7, 9, 4, 7, 5],\n",
       "       [9, 6, 2, 0, 5],\n",
       "       [3, 0, 5, 7, 1]])"
      ]
     },
     "execution_count": 63,
     "metadata": {},
     "output_type": "execute_result"
    }
   ],
   "source": [
    "rand_5[1,2]  #third metrix in the second index metrix [1]"
   ]
  },
  {
   "cell_type": "code",
   "execution_count": 64,
   "id": "2932837b",
   "metadata": {},
   "outputs": [
    {
     "data": {
      "text/plain": [
       "array([[6, 2],\n",
       "       [0, 5]])"
      ]
     },
     "execution_count": 64,
     "metadata": {},
     "output_type": "execute_result"
    }
   ],
   "source": [
    "rand_5[1,2,2:4,1:3] #slicing the 2nd,3rd row & 2nd,3rd Column, from the third metrix in the second index metrix [1]"
   ]
  },
  {
   "cell_type": "code",
   "execution_count": 65,
   "id": "a3aadbb2",
   "metadata": {},
   "outputs": [
    {
     "data": {
      "text/plain": [
       "array([[5, 5, 8, 3, 7],\n",
       "       [7, 9, 4, 7, 5],\n",
       "       [9, 6, 2, 0, 5],\n",
       "       [3, 0, 5, 7, 1]])"
      ]
     },
     "execution_count": 65,
     "metadata": {},
     "output_type": "execute_result"
    }
   ],
   "source": [
    "rand_5[1,2]   #third metrix in the second index metrix [1]"
   ]
  },
  {
   "cell_type": "code",
   "execution_count": 66,
   "id": "980a63df",
   "metadata": {},
   "outputs": [
    {
     "data": {
      "text/plain": [
       "array([[0, 5],\n",
       "       [7, 1]])"
      ]
     },
     "execution_count": 66,
     "metadata": {},
     "output_type": "execute_result"
    }
   ],
   "source": [
    "rand_5[1,2,2:4,3:5]  #slicing the 2nd,3rd row & 4th,5th Column, from the third metrix in the second index metrix [1]"
   ]
  },
  {
   "cell_type": "markdown",
   "id": "f60c43ec",
   "metadata": {},
   "source": [
    "\n",
    "### Manipulation of Arrays\n",
    "\n",
    "Arithemetics"
   ]
  },
  {
   "cell_type": "code",
   "execution_count": 67,
   "id": "0870a0be",
   "metadata": {},
   "outputs": [
    {
     "data": {
      "text/plain": [
       "array([1, 2, 3])"
      ]
     },
     "execution_count": 67,
     "metadata": {},
     "output_type": "execute_result"
    }
   ],
   "source": [
    "a1"
   ]
  },
  {
   "cell_type": "code",
   "execution_count": 68,
   "id": "41771dd6",
   "metadata": {},
   "outputs": [
    {
     "data": {
      "text/plain": [
       "array([[1., 1., 1.],\n",
       "       [1., 1., 1.],\n",
       "       [1., 1., 1.],\n",
       "       [1., 1., 1.],\n",
       "       [1., 1., 1.]])"
      ]
     },
     "execution_count": 68,
     "metadata": {},
     "output_type": "execute_result"
    }
   ],
   "source": [
    "ones"
   ]
  },
  {
   "cell_type": "code",
   "execution_count": 69,
   "id": "26b2db00",
   "metadata": {},
   "outputs": [
    {
     "data": {
      "text/plain": [
       "array([[2., 3., 4.],\n",
       "       [2., 3., 4.],\n",
       "       [2., 3., 4.],\n",
       "       [2., 3., 4.],\n",
       "       [2., 3., 4.]])"
      ]
     },
     "execution_count": 69,
     "metadata": {},
     "output_type": "execute_result"
    }
   ],
   "source": [
    "a1+ones"
   ]
  },
  {
   "cell_type": "code",
   "execution_count": 70,
   "id": "9a900541",
   "metadata": {},
   "outputs": [
    {
     "data": {
      "text/plain": [
       "array([[0., 1., 2.],\n",
       "       [0., 1., 2.],\n",
       "       [0., 1., 2.],\n",
       "       [0., 1., 2.],\n",
       "       [0., 1., 2.]])"
      ]
     },
     "execution_count": 70,
     "metadata": {},
     "output_type": "execute_result"
    }
   ],
   "source": [
    "a1-ones"
   ]
  },
  {
   "cell_type": "code",
   "execution_count": 71,
   "id": "3a24496e",
   "metadata": {},
   "outputs": [
    {
     "data": {
      "text/plain": [
       "array([[1. , 2.1, 3. ],\n",
       "       [4.1, 5. , 2.7]])"
      ]
     },
     "execution_count": 71,
     "metadata": {},
     "output_type": "execute_result"
    }
   ],
   "source": [
    "a2"
   ]
  },
  {
   "cell_type": "code",
   "execution_count": 72,
   "id": "81efba74",
   "metadata": {},
   "outputs": [
    {
     "data": {
      "text/plain": [
       "array([1, 2, 3])"
      ]
     },
     "execution_count": 72,
     "metadata": {},
     "output_type": "execute_result"
    }
   ],
   "source": [
    "a1"
   ]
  },
  {
   "cell_type": "code",
   "execution_count": 73,
   "id": "0705dd43",
   "metadata": {},
   "outputs": [
    {
     "data": {
      "text/plain": [
       "array([[ 1. ,  4.2,  9. ],\n",
       "       [ 4.1, 10. ,  8.1]])"
      ]
     },
     "execution_count": 73,
     "metadata": {},
     "output_type": "execute_result"
    }
   ],
   "source": [
    "a1*a2"
   ]
  },
  {
   "cell_type": "code",
   "execution_count": 74,
   "id": "4a41eee9",
   "metadata": {},
   "outputs": [
    {
     "data": {
      "text/plain": [
       "array([[1.        , 0.95238095, 1.        ],\n",
       "       [0.24390244, 0.4       , 1.11111111]])"
      ]
     },
     "execution_count": 74,
     "metadata": {},
     "output_type": "execute_result"
    }
   ],
   "source": [
    "a1/a2"
   ]
  },
  {
   "cell_type": "code",
   "execution_count": 75,
   "id": "2de88b37",
   "metadata": {},
   "outputs": [
    {
     "data": {
      "text/plain": [
       "array([[0. , 2. , 0. ],\n",
       "       [1. , 2. , 0.3]])"
      ]
     },
     "execution_count": 75,
     "metadata": {},
     "output_type": "execute_result"
    }
   ],
   "source": [
    "a1%a2"
   ]
  },
  {
   "cell_type": "code",
   "execution_count": 76,
   "id": "06e71fcd",
   "metadata": {},
   "outputs": [
    {
     "data": {
      "text/plain": [
       "array([[0.5 , 1.05, 1.5 ],\n",
       "       [2.05, 2.5 , 1.35]])"
      ]
     },
     "execution_count": 76,
     "metadata": {},
     "output_type": "execute_result"
    }
   ],
   "source": [
    "a2/2"
   ]
  },
  {
   "cell_type": "code",
   "execution_count": 77,
   "id": "6e20a351",
   "metadata": {},
   "outputs": [
    {
     "data": {
      "text/plain": [
       "array([[1. , 0.1, 1. ],\n",
       "       [0.1, 1. , 0.7]])"
      ]
     },
     "execution_count": 77,
     "metadata": {},
     "output_type": "execute_result"
    }
   ],
   "source": [
    "a2%2 #remainder"
   ]
  },
  {
   "cell_type": "code",
   "execution_count": 78,
   "id": "364bbb02",
   "metadata": {},
   "outputs": [
    {
     "data": {
      "text/plain": [
       "array([[2. , 4.1, 6. ],\n",
       "       [5.1, 7. , 5.7]])"
      ]
     },
     "execution_count": 78,
     "metadata": {},
     "output_type": "execute_result"
    }
   ],
   "source": [
    "np.add(a1,a2) #function can be used as well "
   ]
  },
  {
   "cell_type": "code",
   "execution_count": 79,
   "id": "60849cb8",
   "metadata": {},
   "outputs": [
    {
     "data": {
      "text/plain": [
       "array([[ 1.  ,  4.41,  9.  ],\n",
       "       [16.81, 25.  ,  7.29]])"
      ]
     },
     "execution_count": 79,
     "metadata": {},
     "output_type": "execute_result"
    }
   ],
   "source": [
    "a2**2 "
   ]
  },
  {
   "cell_type": "code",
   "execution_count": 80,
   "id": "9bcf7716",
   "metadata": {},
   "outputs": [
    {
     "data": {
      "text/plain": [
       "array([[ 1.  ,  4.41,  9.  ],\n",
       "       [16.81, 25.  ,  7.29]])"
      ]
     },
     "execution_count": 80,
     "metadata": {},
     "output_type": "execute_result"
    }
   ],
   "source": [
    "np.square(a2)  # this does same above"
   ]
  },
  {
   "cell_type": "code",
   "execution_count": 81,
   "id": "beb7da75",
   "metadata": {},
   "outputs": [
    {
     "data": {
      "text/plain": [
       "array([[  2.71828183,   8.16616991,  20.08553692],\n",
       "       [ 60.3402876 , 148.4131591 ,  14.87973172]])"
      ]
     },
     "execution_count": 81,
     "metadata": {},
     "output_type": "execute_result"
    }
   ],
   "source": [
    "np.exp(a2) #exponetial"
   ]
  },
  {
   "cell_type": "code",
   "execution_count": 82,
   "id": "b3fb0c53",
   "metadata": {},
   "outputs": [
    {
     "ename": "ValueError",
     "evalue": "operands could not be broadcast together with shapes (2,3) (2,3,3) ",
     "output_type": "error",
     "traceback": [
      "\u001b[1;31m---------------------------------------------------------------------------\u001b[0m",
      "\u001b[1;31mValueError\u001b[0m                                Traceback (most recent call last)",
      "Input \u001b[1;32mIn [82]\u001b[0m, in \u001b[0;36m<cell line: 1>\u001b[1;34m()\u001b[0m\n\u001b[1;32m----> 1\u001b[0m \u001b[43ma2\u001b[49m\u001b[38;5;241;43m/\u001b[39;49m\u001b[38;5;241;43m/\u001b[39;49m\u001b[43ma3\u001b[49m\n",
      "\u001b[1;31mValueError\u001b[0m: operands could not be broadcast together with shapes (2,3) (2,3,3) "
     ]
    }
   ],
   "source": [
    "a2//a3\n",
    "\n",
    "##this dosent work google solution. with ValueError below Or use StackOverflow."
   ]
  },
  {
   "cell_type": "code",
   "execution_count": 84,
   "id": "fe8fa6ab",
   "metadata": {},
   "outputs": [
    {
     "name": "stderr",
     "output_type": "stream",
     "text": [
      "C:\\Users\\sheddyranking\\AppData\\Local\\Temp\\ipykernel_13868\\1844188880.py:1: RuntimeWarning: divide by zero encountered in log\n",
      "  np.log(a3)\n"
     ]
    },
    {
     "data": {
      "text/plain": [
       "array([[[0.        , 0.69314718, 1.09861229],\n",
       "        [0.69314718, 1.09861229, 0.69314718],\n",
       "        [0.69314718, 1.38629436, 1.60943791]],\n",
       "\n",
       "       [[0.        ,       -inf, 1.09861229],\n",
       "        [0.69314718, 1.09861229, 1.94591015],\n",
       "        [0.69314718, 1.38629436, 1.79175947]]])"
      ]
     },
     "execution_count": 84,
     "metadata": {},
     "output_type": "execute_result"
    }
   ],
   "source": [
    "np.log(a3)"
   ]
  },
  {
   "cell_type": "markdown",
   "id": "7dd95047",
   "metadata": {},
   "source": [
    "### Aggregation\n",
    "\n",
    "Use `Sum()` on Python DataTypes and `np.sum()` on Numpy DataTypes\n",
    "See Exampel below."
   ]
  },
  {
   "cell_type": "code",
   "execution_count": 94,
   "id": "933d3b40",
   "metadata": {},
   "outputs": [
    {
     "data": {
      "text/plain": [
       "list"
      ]
     },
     "execution_count": 94,
     "metadata": {},
     "output_type": "execute_result"
    }
   ],
   "source": [
    "#Python datatypes\n",
    "listy_list = [1,2,3]\n",
    "type(listy_list)"
   ]
  },
  {
   "cell_type": "code",
   "execution_count": 96,
   "id": "a522b87b",
   "metadata": {},
   "outputs": [
    {
     "data": {
      "text/plain": [
       "6"
      ]
     },
     "execution_count": 96,
     "metadata": {},
     "output_type": "execute_result"
    }
   ],
   "source": [
    "sum(listy_list)"
   ]
  },
  {
   "cell_type": "code",
   "execution_count": 91,
   "id": "82c872fd",
   "metadata": {},
   "outputs": [
    {
     "data": {
      "text/plain": [
       "array([1, 2, 3])"
      ]
     },
     "execution_count": 91,
     "metadata": {},
     "output_type": "execute_result"
    }
   ],
   "source": [
    "a1"
   ]
  },
  {
   "cell_type": "code",
   "execution_count": 92,
   "id": "22ab1cb5",
   "metadata": {},
   "outputs": [
    {
     "data": {
      "text/plain": [
       "numpy.ndarray"
      ]
     },
     "execution_count": 92,
     "metadata": {},
     "output_type": "execute_result"
    }
   ],
   "source": [
    "type(a1)"
   ]
  },
  {
   "cell_type": "code",
   "execution_count": 97,
   "id": "669ab46d",
   "metadata": {},
   "outputs": [
    {
     "data": {
      "text/plain": [
       "6"
      ]
     },
     "execution_count": 97,
     "metadata": {},
     "output_type": "execute_result"
    }
   ],
   "source": [
    "np.sum(a1)"
   ]
  },
  {
   "cell_type": "markdown",
   "id": "94f0ec3e",
   "metadata": {},
   "source": [
    "####  Both the Python and Numpy Datatype return the result but there excecution time diffirers. let's creat a Massive \n",
    "#### array below and see and example."
   ]
  },
  {
   "cell_type": "code",
   "execution_count": 98,
   "id": "fa486c66",
   "metadata": {},
   "outputs": [
    {
     "data": {
      "text/plain": [
       "numpy.ndarray"
      ]
     },
     "execution_count": 98,
     "metadata": {},
     "output_type": "execute_result"
    }
   ],
   "source": [
    "massive_a= np.random.random(10000)\n",
    "\n",
    "type(massive_a)"
   ]
  },
  {
   "cell_type": "code",
   "execution_count": 100,
   "id": "c61df84e",
   "metadata": {},
   "outputs": [
    {
     "data": {
      "text/plain": [
       "array([0.79808141, 0.54427185, 0.41841659, 0.01915666, 0.68377373,\n",
       "       0.48809792, 0.22057967, 0.55054305, 0.52259111, 0.48755248])"
      ]
     },
     "execution_count": 100,
     "metadata": {},
     "output_type": "execute_result"
    }
   ],
   "source": [
    "massive_a[:10] # view first 10"
   ]
  },
  {
   "cell_type": "code",
   "execution_count": 102,
   "id": "651556b1",
   "metadata": {},
   "outputs": [
    {
     "name": "stdout",
     "output_type": "stream",
     "text": [
      "1.87 ms ± 98.4 µs per loop (mean ± std. dev. of 7 runs, 1,000 loops each)\n",
      "20.5 µs ± 2.36 µs per loop (mean ± std. dev. of 7 runs, 10,000 loops each)\n"
     ]
    }
   ],
   "source": [
    "# Check the execution\n",
    "\n",
    "%timeit sum(massive_a) ## Python list\n",
    "%timeit np.sum(massive_a) ## Numpy \n",
    "\n",
    "# Results shows that Numpy runs faster"
   ]
  },
  {
   "cell_type": "code",
   "execution_count": 103,
   "id": "487eb7ce",
   "metadata": {},
   "outputs": [
    {
     "data": {
      "text/plain": [
       "array([[1. , 2.1, 3. ],\n",
       "       [4.1, 5. , 2.7]])"
      ]
     },
     "execution_count": 103,
     "metadata": {},
     "output_type": "execute_result"
    }
   ],
   "source": [
    "a2"
   ]
  },
  {
   "cell_type": "code",
   "execution_count": 105,
   "id": "ce24e95f",
   "metadata": {},
   "outputs": [
    {
     "data": {
      "text/plain": [
       "2.983333333333333"
      ]
     },
     "execution_count": 105,
     "metadata": {},
     "output_type": "execute_result"
    }
   ],
   "source": [
    "a2.mean()"
   ]
  },
  {
   "cell_type": "code",
   "execution_count": 106,
   "id": "6897803b",
   "metadata": {},
   "outputs": [
    {
     "data": {
      "text/plain": [
       "1.6847222222222218"
      ]
     },
     "execution_count": 106,
     "metadata": {},
     "output_type": "execute_result"
    }
   ],
   "source": [
    "a2.var()"
   ]
  },
  {
   "cell_type": "code",
   "execution_count": 107,
   "id": "eedd7a2a",
   "metadata": {},
   "outputs": [
    {
     "data": {
      "text/plain": [
       "1.2979684981625024"
      ]
     },
     "execution_count": 107,
     "metadata": {},
     "output_type": "execute_result"
    }
   ],
   "source": [
    "a2.std()"
   ]
  },
  {
   "cell_type": "code",
   "execution_count": 108,
   "id": "127ead0e",
   "metadata": {},
   "outputs": [
    {
     "data": {
      "text/plain": [
       "1.2979684981625024"
      ]
     },
     "execution_count": 108,
     "metadata": {},
     "output_type": "execute_result"
    }
   ],
   "source": [
    "np.sqrt(a2.var()) #Std is the sqrt of variance. "
   ]
  },
  {
   "cell_type": "code",
   "execution_count": null,
   "id": "ec5a030d",
   "metadata": {},
   "outputs": [],
   "source": []
  },
  {
   "cell_type": "code",
   "execution_count": null,
   "id": "47932574",
   "metadata": {},
   "outputs": [],
   "source": []
  },
  {
   "cell_type": "code",
   "execution_count": null,
   "id": "5e3b0c7e",
   "metadata": {},
   "outputs": [],
   "source": []
  },
  {
   "cell_type": "code",
   "execution_count": null,
   "id": "4498c58e",
   "metadata": {},
   "outputs": [],
   "source": []
  }
 ],
 "metadata": {
  "kernelspec": {
   "display_name": "Python 3 (ipykernel)",
   "language": "python",
   "name": "python3"
  },
  "language_info": {
   "codemirror_mode": {
    "name": "ipython",
    "version": 3
   },
   "file_extension": ".py",
   "mimetype": "text/x-python",
   "name": "python",
   "nbconvert_exporter": "python",
   "pygments_lexer": "ipython3",
   "version": "3.10.4"
  },
  "toc": {
   "base_numbering": 1,
   "nav_menu": {},
   "number_sections": true,
   "sideBar": true,
   "skip_h1_title": false,
   "title_cell": "Table of Contents",
   "title_sidebar": "Contents",
   "toc_cell": false,
   "toc_position": {},
   "toc_section_display": true,
   "toc_window_display": false
  },
  "varInspector": {
   "cols": {
    "lenName": 16,
    "lenType": 16,
    "lenVar": 40
   },
   "kernels_config": {
    "python": {
     "delete_cmd_postfix": "",
     "delete_cmd_prefix": "del ",
     "library": "var_list.py",
     "varRefreshCmd": "print(var_dic_list())"
    },
    "r": {
     "delete_cmd_postfix": ") ",
     "delete_cmd_prefix": "rm(",
     "library": "var_list.r",
     "varRefreshCmd": "cat(var_dic_list()) "
    }
   },
   "types_to_exclude": [
    "module",
    "function",
    "builtin_function_or_method",
    "instance",
    "_Feature"
   ],
   "window_display": false
  }
 },
 "nbformat": 4,
 "nbformat_minor": 5
}
