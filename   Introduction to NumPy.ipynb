{
 "cells": [
  {
   "cell_type": "code",
   "execution_count": 169,
   "id": "4a94634a",
   "metadata": {},
   "outputs": [],
   "source": [
    "import numpy as np"
   ]
  },
  {
   "cell_type": "markdown",
   "id": "f9aee615",
   "metadata": {},
   "source": [
    "###  Attributes and Datatypes"
   ]
  },
  {
   "cell_type": "code",
   "execution_count": 170,
   "id": "cf4cb80c",
   "metadata": {},
   "outputs": [],
   "source": [
    "### The Main DataType of Numpy is ndarray."
   ]
  },
  {
   "cell_type": "code",
   "execution_count": 171,
   "id": "4a829b6a",
   "metadata": {},
   "outputs": [
    {
     "data": {
      "text/plain": [
       "array([1, 2, 3])"
      ]
     },
     "execution_count": 171,
     "metadata": {},
     "output_type": "execute_result"
    }
   ],
   "source": [
    "a1 =  np.array([1,2,3])\n",
    "\n",
    "a1"
   ]
  },
  {
   "cell_type": "code",
   "execution_count": 172,
   "id": "73675c9b",
   "metadata": {},
   "outputs": [
    {
     "data": {
      "text/plain": [
       "numpy.ndarray"
      ]
     },
     "execution_count": 172,
     "metadata": {},
     "output_type": "execute_result"
    }
   ],
   "source": [
    "type(a1)"
   ]
  },
  {
   "cell_type": "code",
   "execution_count": 173,
   "id": "8b13f82e",
   "metadata": {},
   "outputs": [
    {
     "data": {
      "text/plain": [
       "array([[1. , 2.1, 3. ],\n",
       "       [4.1, 5. , 2.7]])"
      ]
     },
     "execution_count": 173,
     "metadata": {},
     "output_type": "execute_result"
    }
   ],
   "source": [
    "a2 =  np.array([[1,2.1,3.0],\n",
    "                [4.1,5,2.7]])\n",
    "a2"
   ]
  },
  {
   "cell_type": "code",
   "execution_count": 174,
   "id": "5d3d7b3b",
   "metadata": {},
   "outputs": [
    {
     "data": {
      "text/plain": [
       "array([[[1., 2., 3.],\n",
       "        [2., 3., 2.],\n",
       "        [2., 4., 5.]],\n",
       "\n",
       "       [[1., 0., 3.],\n",
       "        [2., 3., 7.],\n",
       "        [2., 4., 6.]]])"
      ]
     },
     "execution_count": 174,
     "metadata": {},
     "output_type": "execute_result"
    }
   ],
   "source": [
    "a3 = np.array([\n",
    "    [[1,2,3],[2.0,3.0,2],[2,4,5]],\n",
    "                \n",
    "     [[1,0,3],[2.0,3.0,7],[2,4,6]]\n",
    "           ])\n",
    "\n",
    "a3"
   ]
  },
  {
   "cell_type": "code",
   "execution_count": 175,
   "id": "4d86d85e",
   "metadata": {},
   "outputs": [
    {
     "data": {
      "text/plain": [
       "(3, 6, 18)"
      ]
     },
     "execution_count": 175,
     "metadata": {},
     "output_type": "execute_result"
    }
   ],
   "source": [
    "a1.size, a2.size, a3.size"
   ]
  },
  {
   "cell_type": "code",
   "execution_count": 176,
   "id": "045ceeaa",
   "metadata": {},
   "outputs": [
    {
     "data": {
      "text/plain": [
       "((3,), (2, 3), (2, 3, 3))"
      ]
     },
     "execution_count": 176,
     "metadata": {},
     "output_type": "execute_result"
    }
   ],
   "source": [
    "a1.shape, a2.shape, a3.shape"
   ]
  },
  {
   "cell_type": "code",
   "execution_count": 177,
   "id": "8c251f74",
   "metadata": {},
   "outputs": [
    {
     "data": {
      "text/plain": [
       "(1, 2, 3)"
      ]
     },
     "execution_count": 177,
     "metadata": {},
     "output_type": "execute_result"
    }
   ],
   "source": [
    "a1.ndim, a2.ndim, a3.ndim"
   ]
  },
  {
   "cell_type": "code",
   "execution_count": 178,
   "id": "95b09d64",
   "metadata": {},
   "outputs": [
    {
     "data": {
      "text/plain": [
       "(dtype('int32'), dtype('float64'), dtype('float64'))"
      ]
     },
     "execution_count": 178,
     "metadata": {},
     "output_type": "execute_result"
    }
   ],
   "source": [
    "a1.dtype, a2.dtype, a3.dtype"
   ]
  },
  {
   "cell_type": "code",
   "execution_count": 179,
   "id": "fce33bda",
   "metadata": {},
   "outputs": [
    {
     "data": {
      "text/plain": [
       "(numpy.ndarray, numpy.ndarray, numpy.ndarray)"
      ]
     },
     "execution_count": 179,
     "metadata": {},
     "output_type": "execute_result"
    }
   ],
   "source": [
    "type(a1), type(a2), type(a3)"
   ]
  },
  {
   "cell_type": "code",
   "execution_count": 180,
   "id": "63e655d0",
   "metadata": {},
   "outputs": [],
   "source": [
    "import pandas as pd "
   ]
  },
  {
   "cell_type": "code",
   "execution_count": 181,
   "id": "2c14e66c",
   "metadata": {},
   "outputs": [
    {
     "data": {
      "text/html": [
       "<div>\n",
       "<style scoped>\n",
       "    .dataframe tbody tr th:only-of-type {\n",
       "        vertical-align: middle;\n",
       "    }\n",
       "\n",
       "    .dataframe tbody tr th {\n",
       "        vertical-align: top;\n",
       "    }\n",
       "\n",
       "    .dataframe thead th {\n",
       "        text-align: right;\n",
       "    }\n",
       "</style>\n",
       "<table border=\"1\" class=\"dataframe\">\n",
       "  <thead>\n",
       "    <tr style=\"text-align: right;\">\n",
       "      <th></th>\n",
       "      <th>0</th>\n",
       "      <th>1</th>\n",
       "      <th>2</th>\n",
       "    </tr>\n",
       "  </thead>\n",
       "  <tbody>\n",
       "    <tr>\n",
       "      <th>0</th>\n",
       "      <td>1.0</td>\n",
       "      <td>2.1</td>\n",
       "      <td>3.0</td>\n",
       "    </tr>\n",
       "    <tr>\n",
       "      <th>1</th>\n",
       "      <td>4.1</td>\n",
       "      <td>5.0</td>\n",
       "      <td>2.7</td>\n",
       "    </tr>\n",
       "  </tbody>\n",
       "</table>\n",
       "</div>"
      ],
      "text/plain": [
       "     0    1    2\n",
       "0  1.0  2.1  3.0\n",
       "1  4.1  5.0  2.7"
      ]
     },
     "execution_count": 181,
     "metadata": {},
     "output_type": "execute_result"
    }
   ],
   "source": [
    "df = pd.DataFrame(a2)\n",
    "df"
   ]
  },
  {
   "cell_type": "markdown",
   "id": "d8b8e647",
   "metadata": {},
   "source": [
    "   ### Creating arrays from Functions"
   ]
  },
  {
   "cell_type": "code",
   "execution_count": 182,
   "id": "d563a81a",
   "metadata": {},
   "outputs": [
    {
     "data": {
      "text/plain": [
       "array([[1., 1., 1.],\n",
       "       [1., 1., 1.],\n",
       "       [1., 1., 1.],\n",
       "       [1., 1., 1.],\n",
       "       [1., 1., 1.]])"
      ]
     },
     "execution_count": 182,
     "metadata": {},
     "output_type": "execute_result"
    }
   ],
   "source": [
    "ones = np.ones((5,3))\n",
    "ones"
   ]
  },
  {
   "cell_type": "code",
   "execution_count": 183,
   "id": "51f0ffb1",
   "metadata": {},
   "outputs": [
    {
     "data": {
      "text/plain": [
       "numpy.ndarray"
      ]
     },
     "execution_count": 183,
     "metadata": {},
     "output_type": "execute_result"
    }
   ],
   "source": [
    "type(ones)"
   ]
  },
  {
   "cell_type": "code",
   "execution_count": 184,
   "id": "a4d882b3",
   "metadata": {},
   "outputs": [
    {
     "data": {
      "text/plain": [
       "array([[0., 0., 0., 0., 0.],\n",
       "       [0., 0., 0., 0., 0.],\n",
       "       [0., 0., 0., 0., 0.]])"
      ]
     },
     "execution_count": 184,
     "metadata": {},
     "output_type": "execute_result"
    }
   ],
   "source": [
    "Zeros =  np.zeros((3,5))\n",
    "Zeros"
   ]
  },
  {
   "cell_type": "code",
   "execution_count": 185,
   "id": "3401c8e7",
   "metadata": {},
   "outputs": [
    {
     "data": {
      "text/plain": [
       "numpy.ndarray"
      ]
     },
     "execution_count": 185,
     "metadata": {},
     "output_type": "execute_result"
    }
   ],
   "source": [
    "type(Zeros)"
   ]
  },
  {
   "cell_type": "code",
   "execution_count": 186,
   "id": "4f4cbce8",
   "metadata": {},
   "outputs": [
    {
     "data": {
      "text/plain": [
       "array([0, 2, 4, 6, 8])"
      ]
     },
     "execution_count": 186,
     "metadata": {},
     "output_type": "execute_result"
    }
   ],
   "source": [
    "## start=0, end=0, step=2\n",
    "array_range = np.arange(0,10,2)\n",
    "\n",
    "array_range"
   ]
  },
  {
   "cell_type": "code",
   "execution_count": 187,
   "id": "32e9f98f",
   "metadata": {},
   "outputs": [
    {
     "data": {
      "text/plain": [
       "array([[0, 1, 7],\n",
       "       [5, 4, 4],\n",
       "       [8, 7, 0],\n",
       "       [2, 5, 4],\n",
       "       [4, 5, 7]])"
      ]
     },
     "execution_count": 187,
     "metadata": {},
     "output_type": "execute_result"
    }
   ],
   "source": [
    "## random numbers between 0&10 with a shape 5,3\n",
    "rand= np.random.randint(0,10, size=(5,3))\n",
    "rand"
   ]
  },
  {
   "cell_type": "code",
   "execution_count": 188,
   "id": "d9fdaedc",
   "metadata": {},
   "outputs": [
    {
     "data": {
      "text/plain": [
       "array([[0.80684155, 0.43493659, 0.31576949, 0.9569404 ],\n",
       "       [0.50761147, 0.75220473, 0.52213661, 0.21359063],\n",
       "       [0.0162355 , 0.0553013 , 0.29276972, 0.42847948],\n",
       "       [0.808367  , 0.64193672, 0.68540717, 0.17383977],\n",
       "       [0.46147644, 0.30179861, 0.81636906, 0.13105439]])"
      ]
     },
     "execution_count": 188,
     "metadata": {},
     "output_type": "execute_result"
    }
   ],
   "source": [
    "randoms= np.random.random((5,4))\n",
    "\n",
    "randoms"
   ]
  },
  {
   "cell_type": "code",
   "execution_count": 189,
   "id": "7698b1ef",
   "metadata": {},
   "outputs": [
    {
     "data": {
      "text/plain": [
       "array([[0.9086667 , 0.84065532, 0.2390355 , 0.75875489],\n",
       "       [0.4127417 , 0.54171125, 0.20012706, 0.24311836],\n",
       "       [0.13720886, 0.47509618, 0.45540221, 0.83727844],\n",
       "       [0.41509323, 0.40653522, 0.2722494 , 0.52787928],\n",
       "       [0.78343931, 0.25351794, 0.48260657, 0.11144476]])"
      ]
     },
     "execution_count": 189,
     "metadata": {},
     "output_type": "execute_result"
    }
   ],
   "source": [
    "#this works almost same as  the Above.\n",
    "\n",
    "a_rand = np.random.rand(5,4)\n",
    "a_rand"
   ]
  },
  {
   "cell_type": "code",
   "execution_count": 190,
   "id": "53850039",
   "metadata": {},
   "outputs": [
    {
     "data": {
      "text/plain": [
       "array([[5, 0, 3, 3],\n",
       "       [7, 9, 3, 5],\n",
       "       [2, 4, 7, 6],\n",
       "       [8, 8, 1, 6],\n",
       "       [7, 7, 8, 1]])"
      ]
     },
     "execution_count": 190,
     "metadata": {},
     "output_type": "execute_result"
    }
   ],
   "source": [
    "### Pseudo Random Numbers\n",
    "np.random.seed(0)\n",
    "#the seed() function prevent a numpy function from generating random numbers once the seed parameter is met so that someone\n",
    "# can run the same code with generating random numbers\n",
    "\n",
    "rand_4 = np.random.randint(0,10, (5,4))\n",
    "rand_4"
   ]
  },
  {
   "cell_type": "code",
   "execution_count": 191,
   "id": "3ee243db",
   "metadata": {},
   "outputs": [
    {
     "data": {
      "text/plain": [
       "array([[0.07630829, 0.77991879, 0.43840923, 0.72346518],\n",
       "       [0.97798951, 0.53849587, 0.50112046, 0.07205113],\n",
       "       [0.26843898, 0.4998825 , 0.67923   , 0.80373904],\n",
       "       [0.38094113, 0.06593635, 0.2881456 , 0.90959353],\n",
       "       [0.21338535, 0.45212396, 0.93120602, 0.02489923]])"
      ]
     },
     "execution_count": 191,
     "metadata": {},
     "output_type": "execute_result"
    }
   ],
   "source": [
    "np.random.seed(7) #the rand numbes are static and can be shareavle\n",
    "a_rand = np.random.rand(5,4)\n",
    "a_rand"
   ]
  },
  {
   "cell_type": "markdown",
   "id": "ebf0ac23",
   "metadata": {},
   "source": [
    "### Viewing Arrays and Metrices "
   ]
  },
  {
   "cell_type": "code",
   "execution_count": 192,
   "id": "76f895d3",
   "metadata": {},
   "outputs": [
    {
     "data": {
      "text/plain": [
       "array([0, 1, 2, 3, 4, 5, 6, 7, 8, 9])"
      ]
     },
     "execution_count": 192,
     "metadata": {},
     "output_type": "execute_result"
    }
   ],
   "source": [
    "## this return the Uniques Number from the random Arrays \n",
    "np.unique(rand_4)"
   ]
  },
  {
   "cell_type": "code",
   "execution_count": 193,
   "id": "e5b89da3",
   "metadata": {},
   "outputs": [
    {
     "data": {
      "text/plain": [
       "array([1, 2, 3])"
      ]
     },
     "execution_count": 193,
     "metadata": {},
     "output_type": "execute_result"
    }
   ],
   "source": [
    "a1"
   ]
  },
  {
   "cell_type": "code",
   "execution_count": 194,
   "id": "6709378f",
   "metadata": {},
   "outputs": [
    {
     "data": {
      "text/plain": [
       "array([[1. , 2.1, 3. ],\n",
       "       [4.1, 5. , 2.7]])"
      ]
     },
     "execution_count": 194,
     "metadata": {},
     "output_type": "execute_result"
    }
   ],
   "source": [
    "a2"
   ]
  },
  {
   "cell_type": "code",
   "execution_count": 195,
   "id": "85e50b0c",
   "metadata": {},
   "outputs": [
    {
     "data": {
      "text/plain": [
       "array([[[1., 2., 3.],\n",
       "        [2., 3., 2.],\n",
       "        [2., 4., 5.]],\n",
       "\n",
       "       [[1., 0., 3.],\n",
       "        [2., 3., 7.],\n",
       "        [2., 4., 6.]]])"
      ]
     },
     "execution_count": 195,
     "metadata": {},
     "output_type": "execute_result"
    }
   ],
   "source": [
    "a3"
   ]
  },
  {
   "cell_type": "markdown",
   "id": "a23ed699",
   "metadata": {},
   "source": [
    "#### Selecting a single array within the columns"
   ]
  },
  {
   "cell_type": "code",
   "execution_count": 196,
   "id": "99b3e39d",
   "metadata": {},
   "outputs": [
    {
     "data": {
      "text/plain": [
       "2"
      ]
     },
     "execution_count": 196,
     "metadata": {},
     "output_type": "execute_result"
    }
   ],
   "source": [
    "a1[1]"
   ]
  },
  {
   "cell_type": "code",
   "execution_count": 197,
   "id": "a1c78c19",
   "metadata": {},
   "outputs": [
    {
     "data": {
      "text/plain": [
       "array([1. , 2.1, 3. ])"
      ]
     },
     "execution_count": 197,
     "metadata": {},
     "output_type": "execute_result"
    }
   ],
   "source": [
    "a2[0] # Returns the firt row"
   ]
  },
  {
   "cell_type": "code",
   "execution_count": 198,
   "id": "41259f6d",
   "metadata": {},
   "outputs": [
    {
     "data": {
      "text/plain": [
       "array([4.1, 5. , 2.7])"
      ]
     },
     "execution_count": 198,
     "metadata": {},
     "output_type": "execute_result"
    }
   ],
   "source": [
    "a2[1] # return the second row"
   ]
  },
  {
   "cell_type": "code",
   "execution_count": 199,
   "id": "569c0b5d",
   "metadata": {},
   "outputs": [
    {
     "data": {
      "text/plain": [
       "array([[1. , 2.1],\n",
       "       [4.1, 5. ]])"
      ]
     },
     "execution_count": 199,
     "metadata": {},
     "output_type": "execute_result"
    }
   ],
   "source": [
    "a2[:2,:2] #return the first two values of each row"
   ]
  },
  {
   "cell_type": "code",
   "execution_count": 200,
   "id": "9328fde2",
   "metadata": {},
   "outputs": [
    {
     "data": {
      "text/plain": [
       "array([[[1., 2., 3.],\n",
       "        [2., 3., 2.],\n",
       "        [2., 4., 5.]],\n",
       "\n",
       "       [[1., 0., 3.],\n",
       "        [2., 3., 7.],\n",
       "        [2., 4., 6.]]])"
      ]
     },
     "execution_count": 200,
     "metadata": {},
     "output_type": "execute_result"
    }
   ],
   "source": [
    "a3"
   ]
  },
  {
   "cell_type": "code",
   "execution_count": 201,
   "id": "bc59b7d1",
   "metadata": {},
   "outputs": [
    {
     "data": {
      "text/plain": [
       "array([[1., 2., 3.],\n",
       "       [2., 3., 2.],\n",
       "       [2., 4., 5.]])"
      ]
     },
     "execution_count": 201,
     "metadata": {},
     "output_type": "execute_result"
    }
   ],
   "source": [
    "a3[0] # returns the entire first row"
   ]
  },
  {
   "cell_type": "code",
   "execution_count": 202,
   "id": "f41e6e40",
   "metadata": {},
   "outputs": [
    {
     "data": {
      "text/plain": [
       "array([1., 2., 3.])"
      ]
     },
     "execution_count": 202,
     "metadata": {},
     "output_type": "execute_result"
    }
   ],
   "source": [
    "a3[0,0] #get the second row from the first row above"
   ]
  },
  {
   "cell_type": "code",
   "execution_count": 203,
   "id": "e0df4c04",
   "metadata": {},
   "outputs": [
    {
     "data": {
      "text/plain": [
       "2.0"
      ]
     },
     "execution_count": 203,
     "metadata": {},
     "output_type": "execute_result"
    }
   ],
   "source": [
    "a3[0,2,0] # Selecting  the last value from the last row in the first index metrix [0]"
   ]
  },
  {
   "cell_type": "markdown",
   "id": "ea9011b7",
   "metadata": {},
   "source": [
    "#### Selecting the Entire Array"
   ]
  },
  {
   "cell_type": "code",
   "execution_count": 204,
   "id": "b46e2a73",
   "metadata": {},
   "outputs": [
    {
     "data": {
      "text/plain": [
       "array([[[1., 2., 3.]]])"
      ]
     },
     "execution_count": 204,
     "metadata": {},
     "output_type": "execute_result"
    }
   ],
   "source": [
    "a3[:1,:1]  # Selecting the Enter Array to return the first cell"
   ]
  },
  {
   "cell_type": "code",
   "execution_count": 205,
   "id": "078b4dd7",
   "metadata": {},
   "outputs": [
    {
     "data": {
      "text/plain": [
       "array([[[1., 2., 3.],\n",
       "        [2., 3., 2.]],\n",
       "\n",
       "       [[1., 0., 3.],\n",
       "        [2., 3., 7.]]])"
      ]
     },
     "execution_count": 205,
     "metadata": {},
     "output_type": "execute_result"
    }
   ],
   "source": [
    "a3[:2,:2]  # Selecting the Enter Array to return the second cell"
   ]
  },
  {
   "cell_type": "code",
   "execution_count": 206,
   "id": "535ce3c5",
   "metadata": {},
   "outputs": [
    {
     "data": {
      "text/plain": [
       "array([[[1., 2.],\n",
       "        [2., 3.]],\n",
       "\n",
       "       [[1., 0.],\n",
       "        [2., 3.]]])"
      ]
     },
     "execution_count": 206,
     "metadata": {},
     "output_type": "execute_result"
    }
   ],
   "source": [
    "a3[:2,:2,:2] ##Select the first Two Rows, and return the first two columns"
   ]
  },
  {
   "cell_type": "code",
   "execution_count": 207,
   "id": "8bceef4d",
   "metadata": {},
   "outputs": [
    {
     "data": {
      "text/plain": [
       "array([[[[0, 2, 8, 9, 6],\n",
       "         [4, 9, 7, 3, 3],\n",
       "         [8, 3, 0, 1, 0],\n",
       "         [0, 6, 7, 7, 9]],\n",
       "\n",
       "        [[3, 0, 7, 7, 7],\n",
       "         [0, 5, 4, 3, 1],\n",
       "         [3, 1, 3, 4, 3],\n",
       "         [1, 9, 5, 9, 1]],\n",
       "\n",
       "        [[2, 3, 2, 2, 5],\n",
       "         [7, 3, 0, 9, 9],\n",
       "         [3, 4, 5, 3, 0],\n",
       "         [4, 8, 6, 7, 2]]],\n",
       "\n",
       "\n",
       "       [[[7, 3, 8, 6, 6],\n",
       "         [5, 6, 5, 7, 1],\n",
       "         [5, 4, 4, 9, 9],\n",
       "         [0, 6, 2, 6, 8]],\n",
       "\n",
       "        [[2, 4, 1, 6, 1],\n",
       "         [5, 1, 6, 9, 8],\n",
       "         [6, 5, 9, 7, 5],\n",
       "         [4, 9, 6, 8, 1]],\n",
       "\n",
       "        [[5, 5, 8, 3, 7],\n",
       "         [7, 9, 4, 7, 5],\n",
       "         [9, 6, 2, 0, 5],\n",
       "         [3, 0, 5, 7, 1]]]])"
      ]
     },
     "execution_count": 207,
     "metadata": {},
     "output_type": "execute_result"
    }
   ],
   "source": [
    "#2,3,4,5 array, alway count backward to get the dim\n",
    "rand_5 = np.random.randint(10,size=(2,3,4,5))\n",
    "rand_5"
   ]
  },
  {
   "cell_type": "code",
   "execution_count": null,
   "id": "28e278b2",
   "metadata": {},
   "outputs": [],
   "source": []
  },
  {
   "cell_type": "code",
   "execution_count": 208,
   "id": "0ffc9f87",
   "metadata": {},
   "outputs": [
    {
     "data": {
      "text/plain": [
       "array([[[0, 2, 8, 9, 6],\n",
       "        [4, 9, 7, 3, 3],\n",
       "        [8, 3, 0, 1, 0],\n",
       "        [0, 6, 7, 7, 9]],\n",
       "\n",
       "       [[3, 0, 7, 7, 7],\n",
       "        [0, 5, 4, 3, 1],\n",
       "        [3, 1, 3, 4, 3],\n",
       "        [1, 9, 5, 9, 1]],\n",
       "\n",
       "       [[2, 3, 2, 2, 5],\n",
       "        [7, 3, 0, 9, 9],\n",
       "        [3, 4, 5, 3, 0],\n",
       "        [4, 8, 6, 7, 2]]])"
      ]
     },
     "execution_count": 208,
     "metadata": {},
     "output_type": "execute_result"
    }
   ],
   "source": [
    "rand_5[0] #first index metrix(0)"
   ]
  },
  {
   "cell_type": "code",
   "execution_count": 209,
   "id": "bc3f9b6f",
   "metadata": {},
   "outputs": [
    {
     "data": {
      "text/plain": [
       "array([[3, 0, 7, 7, 7],\n",
       "       [0, 5, 4, 3, 1],\n",
       "       [3, 1, 3, 4, 3],\n",
       "       [1, 9, 5, 9, 1]])"
      ]
     },
     "execution_count": 209,
     "metadata": {},
     "output_type": "execute_result"
    }
   ],
   "source": [
    "rand_5[0,1] ## getting the second metric from the first index metrix(0)"
   ]
  },
  {
   "cell_type": "code",
   "execution_count": 210,
   "id": "226cdd0a",
   "metadata": {},
   "outputs": [
    {
     "data": {
      "text/plain": [
       "array([[2, 3, 2, 2, 5],\n",
       "       [7, 3, 0, 9, 9],\n",
       "       [3, 4, 5, 3, 0],\n",
       "       [4, 8, 6, 7, 2]])"
      ]
     },
     "execution_count": 210,
     "metadata": {},
     "output_type": "execute_result"
    }
   ],
   "source": [
    "rand_5[0,2] #getting the third metric from the first index metrix(0)"
   ]
  },
  {
   "cell_type": "code",
   "execution_count": 211,
   "id": "e996d065",
   "metadata": {},
   "outputs": [
    {
     "data": {
      "text/plain": [
       "array([3, 4, 5, 3, 0])"
      ]
     },
     "execution_count": 211,
     "metadata": {},
     "output_type": "execute_result"
    }
   ],
   "source": [
    "rand_5[0,2,2] #getting the third row from the third metrix of the first index metrix(0)"
   ]
  },
  {
   "cell_type": "code",
   "execution_count": 212,
   "id": "929cb943",
   "metadata": {},
   "outputs": [
    {
     "data": {
      "text/plain": [
       "array([[2, 3, 2, 2, 5],\n",
       "       [7, 3, 0, 9, 9]])"
      ]
     },
     "execution_count": 212,
     "metadata": {},
     "output_type": "execute_result"
    }
   ],
   "source": [
    "rand_5[0,2,:2]  #getting the first 2 row from the third metrix of the first index metrix(0)"
   ]
  },
  {
   "cell_type": "code",
   "execution_count": 213,
   "id": "2657fdc4",
   "metadata": {},
   "outputs": [
    {
     "data": {
      "text/plain": [
       "array([[[7, 3, 8, 6, 6],\n",
       "        [5, 6, 5, 7, 1],\n",
       "        [5, 4, 4, 9, 9],\n",
       "        [0, 6, 2, 6, 8]],\n",
       "\n",
       "       [[2, 4, 1, 6, 1],\n",
       "        [5, 1, 6, 9, 8],\n",
       "        [6, 5, 9, 7, 5],\n",
       "        [4, 9, 6, 8, 1]],\n",
       "\n",
       "       [[5, 5, 8, 3, 7],\n",
       "        [7, 9, 4, 7, 5],\n",
       "        [9, 6, 2, 0, 5],\n",
       "        [3, 0, 5, 7, 1]]])"
      ]
     },
     "execution_count": 213,
     "metadata": {},
     "output_type": "execute_result"
    }
   ],
   "source": [
    "rand_5[1] #second index metrix(1)"
   ]
  },
  {
   "cell_type": "code",
   "execution_count": 214,
   "id": "1a21e563",
   "metadata": {},
   "outputs": [
    {
     "data": {
      "text/plain": [
       "array([3, 0, 5, 7, 1])"
      ]
     },
     "execution_count": 214,
     "metadata": {},
     "output_type": "execute_result"
    }
   ],
   "source": [
    "rand_5[1,2,3]  #getting the last row from the third metrix in the second index metix(1)"
   ]
  },
  {
   "cell_type": "code",
   "execution_count": 215,
   "id": "cf9d3461",
   "metadata": {},
   "outputs": [
    {
     "data": {
      "text/plain": [
       "array([[0, 6, 2, 6, 8],\n",
       "       [4, 9, 6, 8, 1],\n",
       "       [3, 0, 5, 7, 1]])"
      ]
     },
     "execution_count": 215,
     "metadata": {},
     "output_type": "execute_result"
    }
   ],
   "source": [
    "rand_5[1,:3,-1] #select all the columns and return only the last rows"
   ]
  },
  {
   "cell_type": "code",
   "execution_count": 216,
   "id": "778377bc",
   "metadata": {},
   "outputs": [
    {
     "data": {
      "text/plain": [
       "array([5, 1, 6, 9, 8])"
      ]
     },
     "execution_count": 216,
     "metadata": {},
     "output_type": "execute_result"
    }
   ],
   "source": [
    "rand_5[1,1,1]  #Selecting the second row from the second metrix in the second index metrix(1)"
   ]
  },
  {
   "cell_type": "code",
   "execution_count": 217,
   "id": "3619216c",
   "metadata": {},
   "outputs": [
    {
     "data": {
      "text/plain": [
       "array([[[[0, 2, 8, 9],\n",
       "         [4, 9, 7, 3],\n",
       "         [8, 3, 0, 1],\n",
       "         [0, 6, 7, 7]],\n",
       "\n",
       "        [[3, 0, 7, 7],\n",
       "         [0, 5, 4, 3],\n",
       "         [3, 1, 3, 4],\n",
       "         [1, 9, 5, 9]],\n",
       "\n",
       "        [[2, 3, 2, 2],\n",
       "         [7, 3, 0, 9],\n",
       "         [3, 4, 5, 3],\n",
       "         [4, 8, 6, 7]]],\n",
       "\n",
       "\n",
       "       [[[7, 3, 8, 6],\n",
       "         [5, 6, 5, 7],\n",
       "         [5, 4, 4, 9],\n",
       "         [0, 6, 2, 6]],\n",
       "\n",
       "        [[2, 4, 1, 6],\n",
       "         [5, 1, 6, 9],\n",
       "         [6, 5, 9, 7],\n",
       "         [4, 9, 6, 8]],\n",
       "\n",
       "        [[5, 5, 8, 3],\n",
       "         [7, 9, 4, 7],\n",
       "         [9, 6, 2, 0],\n",
       "         [3, 0, 5, 7]]]])"
      ]
     },
     "execution_count": 217,
     "metadata": {},
     "output_type": "execute_result"
    }
   ],
   "source": [
    "rand_5[:,:,:,:4]  ## Getting the first 4-Numbers of the innermost dimensions from all the index"
   ]
  },
  {
   "cell_type": "code",
   "execution_count": 218,
   "id": "02f45101",
   "metadata": {},
   "outputs": [
    {
     "data": {
      "text/plain": [
       "array([[[[0, 2],\n",
       "         [4, 9],\n",
       "         [8, 3],\n",
       "         [0, 6]],\n",
       "\n",
       "        [[3, 0],\n",
       "         [0, 5],\n",
       "         [3, 1],\n",
       "         [1, 9]],\n",
       "\n",
       "        [[2, 3],\n",
       "         [7, 3],\n",
       "         [3, 4],\n",
       "         [4, 8]]],\n",
       "\n",
       "\n",
       "       [[[7, 3],\n",
       "         [5, 6],\n",
       "         [5, 4],\n",
       "         [0, 6]],\n",
       "\n",
       "        [[2, 4],\n",
       "         [5, 1],\n",
       "         [6, 5],\n",
       "         [4, 9]],\n",
       "\n",
       "        [[5, 5],\n",
       "         [7, 9],\n",
       "         [9, 6],\n",
       "         [3, 0]]]])"
      ]
     },
     "execution_count": 218,
     "metadata": {},
     "output_type": "execute_result"
    }
   ],
   "source": [
    "rand_5[:,:,:,:2]  ## Getting the first 2-column of the innermost dimensions from all the metrix"
   ]
  },
  {
   "cell_type": "code",
   "execution_count": 219,
   "id": "1b9c31aa",
   "metadata": {},
   "outputs": [
    {
     "data": {
      "text/plain": [
       "array([[[[0, 2, 8, 9, 6],\n",
       "         [4, 9, 7, 3, 3],\n",
       "         [8, 3, 0, 1, 0],\n",
       "         [0, 6, 7, 7, 9]],\n",
       "\n",
       "        [[3, 0, 7, 7, 7],\n",
       "         [0, 5, 4, 3, 1],\n",
       "         [3, 1, 3, 4, 3],\n",
       "         [1, 9, 5, 9, 1]],\n",
       "\n",
       "        [[2, 3, 2, 2, 5],\n",
       "         [7, 3, 0, 9, 9],\n",
       "         [3, 4, 5, 3, 0],\n",
       "         [4, 8, 6, 7, 2]]],\n",
       "\n",
       "\n",
       "       [[[7, 3, 8, 6, 6],\n",
       "         [5, 6, 5, 7, 1],\n",
       "         [5, 4, 4, 9, 9],\n",
       "         [0, 6, 2, 6, 8]],\n",
       "\n",
       "        [[2, 4, 1, 6, 1],\n",
       "         [5, 1, 6, 9, 8],\n",
       "         [6, 5, 9, 7, 5],\n",
       "         [4, 9, 6, 8, 1]],\n",
       "\n",
       "        [[5, 5, 8, 3, 7],\n",
       "         [7, 9, 4, 7, 5],\n",
       "         [9, 6, 2, 0, 5],\n",
       "         [3, 0, 5, 7, 1]]]])"
      ]
     },
     "execution_count": 219,
     "metadata": {},
     "output_type": "execute_result"
    }
   ],
   "source": [
    "rand_5"
   ]
  },
  {
   "cell_type": "code",
   "execution_count": 220,
   "id": "c58639f6",
   "metadata": {},
   "outputs": [
    {
     "data": {
      "text/plain": [
       "array([[5, 5, 8, 3, 7],\n",
       "       [7, 9, 4, 7, 5],\n",
       "       [9, 6, 2, 0, 5],\n",
       "       [3, 0, 5, 7, 1]])"
      ]
     },
     "execution_count": 220,
     "metadata": {},
     "output_type": "execute_result"
    }
   ],
   "source": [
    "rand_5[1,2] #third metrix in the second index metrix [1]"
   ]
  },
  {
   "cell_type": "code",
   "execution_count": 221,
   "id": "0477864a",
   "metadata": {},
   "outputs": [
    {
     "data": {
      "text/plain": [
       "3"
      ]
     },
     "execution_count": 221,
     "metadata": {},
     "output_type": "execute_result"
    }
   ],
   "source": [
    "rand_5[1,2,3,0] ## Selecting the last value from the third metrix in the second index metrix [1]"
   ]
  },
  {
   "cell_type": "code",
   "execution_count": 222,
   "id": "08851c3f",
   "metadata": {},
   "outputs": [
    {
     "data": {
      "text/plain": [
       "array([[5, 5, 8, 3, 7],\n",
       "       [7, 9, 4, 7, 5],\n",
       "       [9, 6, 2, 0, 5],\n",
       "       [3, 0, 5, 7, 1]])"
      ]
     },
     "execution_count": 222,
     "metadata": {},
     "output_type": "execute_result"
    }
   ],
   "source": [
    "rand_5[1,2]   #third metrix in the second index metrix [1]"
   ]
  },
  {
   "cell_type": "code",
   "execution_count": 223,
   "id": "93ae0ef7",
   "metadata": {},
   "outputs": [
    {
     "data": {
      "text/plain": [
       "array([[5, 5],\n",
       "       [7, 9],\n",
       "       [9, 6],\n",
       "       [3, 0]])"
      ]
     },
     "execution_count": 223,
     "metadata": {},
     "output_type": "execute_result"
    }
   ],
   "source": [
    "rand_5[1,2,:,:2] ## Selecting the first two columns from the third metrix in the second index metrix [1]"
   ]
  },
  {
   "cell_type": "code",
   "execution_count": 224,
   "id": "3d9668c2",
   "metadata": {},
   "outputs": [
    {
     "data": {
      "text/plain": [
       "array([[5, 5, 8, 3, 7],\n",
       "       [7, 9, 4, 7, 5],\n",
       "       [9, 6, 2, 0, 5],\n",
       "       [3, 0, 5, 7, 1]])"
      ]
     },
     "execution_count": 224,
     "metadata": {},
     "output_type": "execute_result"
    }
   ],
   "source": [
    "rand_5[1,2]   #third metrix in the second index metrix [1]"
   ]
  },
  {
   "cell_type": "code",
   "execution_count": 225,
   "id": "635d8b15",
   "metadata": {},
   "outputs": [
    {
     "data": {
      "text/plain": [
       "array([[9, 6],\n",
       "       [3, 0]])"
      ]
     },
     "execution_count": 225,
     "metadata": {},
     "output_type": "execute_result"
    }
   ],
   "source": [
    "rand_5[1, 2, 2:4,:2] #slicing the 2nd,3rd row & 1st,2nd Column, from the third metrix in the second index metrix [1]"
   ]
  },
  {
   "cell_type": "code",
   "execution_count": 226,
   "id": "01113beb",
   "metadata": {},
   "outputs": [
    {
     "data": {
      "text/plain": [
       "array([[5, 5, 8, 3, 7],\n",
       "       [7, 9, 4, 7, 5],\n",
       "       [9, 6, 2, 0, 5],\n",
       "       [3, 0, 5, 7, 1]])"
      ]
     },
     "execution_count": 226,
     "metadata": {},
     "output_type": "execute_result"
    }
   ],
   "source": [
    "rand_5[1,2]  #third metrix in the second index metrix [1]"
   ]
  },
  {
   "cell_type": "code",
   "execution_count": 227,
   "id": "2932837b",
   "metadata": {},
   "outputs": [
    {
     "data": {
      "text/plain": [
       "array([[6, 2],\n",
       "       [0, 5]])"
      ]
     },
     "execution_count": 227,
     "metadata": {},
     "output_type": "execute_result"
    }
   ],
   "source": [
    "rand_5[1,2,2:4,1:3] #slicing the 2nd,3rd row & 2nd,3rd Column, from the third metrix in the second index metrix [1]"
   ]
  },
  {
   "cell_type": "code",
   "execution_count": 228,
   "id": "a3aadbb2",
   "metadata": {},
   "outputs": [
    {
     "data": {
      "text/plain": [
       "array([[5, 5, 8, 3, 7],\n",
       "       [7, 9, 4, 7, 5],\n",
       "       [9, 6, 2, 0, 5],\n",
       "       [3, 0, 5, 7, 1]])"
      ]
     },
     "execution_count": 228,
     "metadata": {},
     "output_type": "execute_result"
    }
   ],
   "source": [
    "rand_5[1,2]   #third metrix in the second index metrix [1]"
   ]
  },
  {
   "cell_type": "code",
   "execution_count": 229,
   "id": "980a63df",
   "metadata": {},
   "outputs": [
    {
     "data": {
      "text/plain": [
       "array([[0, 5],\n",
       "       [7, 1]])"
      ]
     },
     "execution_count": 229,
     "metadata": {},
     "output_type": "execute_result"
    }
   ],
   "source": [
    "rand_5[1,2,2:4,3:5]  #slicing the 2nd,3rd row & 4th,5th Column, from the third metrix in the second index metrix [1]"
   ]
  },
  {
   "cell_type": "markdown",
   "id": "f60c43ec",
   "metadata": {},
   "source": [
    "\n",
    "### Manipulation of Arrays\n",
    "\n",
    "Arithemetics"
   ]
  },
  {
   "cell_type": "code",
   "execution_count": 230,
   "id": "0870a0be",
   "metadata": {},
   "outputs": [
    {
     "data": {
      "text/plain": [
       "array([1, 2, 3])"
      ]
     },
     "execution_count": 230,
     "metadata": {},
     "output_type": "execute_result"
    }
   ],
   "source": [
    "a1"
   ]
  },
  {
   "cell_type": "code",
   "execution_count": 231,
   "id": "41771dd6",
   "metadata": {},
   "outputs": [
    {
     "data": {
      "text/plain": [
       "array([[1., 1., 1.],\n",
       "       [1., 1., 1.],\n",
       "       [1., 1., 1.],\n",
       "       [1., 1., 1.],\n",
       "       [1., 1., 1.]])"
      ]
     },
     "execution_count": 231,
     "metadata": {},
     "output_type": "execute_result"
    }
   ],
   "source": [
    "ones"
   ]
  },
  {
   "cell_type": "code",
   "execution_count": 232,
   "id": "26b2db00",
   "metadata": {},
   "outputs": [
    {
     "data": {
      "text/plain": [
       "array([[2., 3., 4.],\n",
       "       [2., 3., 4.],\n",
       "       [2., 3., 4.],\n",
       "       [2., 3., 4.],\n",
       "       [2., 3., 4.]])"
      ]
     },
     "execution_count": 232,
     "metadata": {},
     "output_type": "execute_result"
    }
   ],
   "source": [
    "a1+ones"
   ]
  },
  {
   "cell_type": "code",
   "execution_count": 233,
   "id": "9a900541",
   "metadata": {},
   "outputs": [
    {
     "data": {
      "text/plain": [
       "array([[0., 1., 2.],\n",
       "       [0., 1., 2.],\n",
       "       [0., 1., 2.],\n",
       "       [0., 1., 2.],\n",
       "       [0., 1., 2.]])"
      ]
     },
     "execution_count": 233,
     "metadata": {},
     "output_type": "execute_result"
    }
   ],
   "source": [
    "a1-ones"
   ]
  },
  {
   "cell_type": "code",
   "execution_count": 234,
   "id": "3a24496e",
   "metadata": {},
   "outputs": [
    {
     "data": {
      "text/plain": [
       "array([[1. , 2.1, 3. ],\n",
       "       [4.1, 5. , 2.7]])"
      ]
     },
     "execution_count": 234,
     "metadata": {},
     "output_type": "execute_result"
    }
   ],
   "source": [
    "a2"
   ]
  },
  {
   "cell_type": "code",
   "execution_count": 235,
   "id": "81efba74",
   "metadata": {},
   "outputs": [
    {
     "data": {
      "text/plain": [
       "array([1, 2, 3])"
      ]
     },
     "execution_count": 235,
     "metadata": {},
     "output_type": "execute_result"
    }
   ],
   "source": [
    "a1"
   ]
  },
  {
   "cell_type": "code",
   "execution_count": 236,
   "id": "0705dd43",
   "metadata": {},
   "outputs": [
    {
     "data": {
      "text/plain": [
       "array([[ 1. ,  4.2,  9. ],\n",
       "       [ 4.1, 10. ,  8.1]])"
      ]
     },
     "execution_count": 236,
     "metadata": {},
     "output_type": "execute_result"
    }
   ],
   "source": [
    "a1*a2"
   ]
  },
  {
   "cell_type": "code",
   "execution_count": 237,
   "id": "4a41eee9",
   "metadata": {},
   "outputs": [
    {
     "data": {
      "text/plain": [
       "array([[1.        , 0.95238095, 1.        ],\n",
       "       [0.24390244, 0.4       , 1.11111111]])"
      ]
     },
     "execution_count": 237,
     "metadata": {},
     "output_type": "execute_result"
    }
   ],
   "source": [
    "a1/a2"
   ]
  },
  {
   "cell_type": "code",
   "execution_count": 238,
   "id": "2de88b37",
   "metadata": {},
   "outputs": [
    {
     "data": {
      "text/plain": [
       "array([[0. , 2. , 0. ],\n",
       "       [1. , 2. , 0.3]])"
      ]
     },
     "execution_count": 238,
     "metadata": {},
     "output_type": "execute_result"
    }
   ],
   "source": [
    "a1%a2"
   ]
  },
  {
   "cell_type": "code",
   "execution_count": 239,
   "id": "06e71fcd",
   "metadata": {},
   "outputs": [
    {
     "data": {
      "text/plain": [
       "array([[0.5 , 1.05, 1.5 ],\n",
       "       [2.05, 2.5 , 1.35]])"
      ]
     },
     "execution_count": 239,
     "metadata": {},
     "output_type": "execute_result"
    }
   ],
   "source": [
    "a2/2"
   ]
  },
  {
   "cell_type": "code",
   "execution_count": 240,
   "id": "6e20a351",
   "metadata": {},
   "outputs": [
    {
     "data": {
      "text/plain": [
       "array([[1. , 0.1, 1. ],\n",
       "       [0.1, 1. , 0.7]])"
      ]
     },
     "execution_count": 240,
     "metadata": {},
     "output_type": "execute_result"
    }
   ],
   "source": [
    "a2%2 #remainder"
   ]
  },
  {
   "cell_type": "code",
   "execution_count": 241,
   "id": "364bbb02",
   "metadata": {},
   "outputs": [
    {
     "data": {
      "text/plain": [
       "array([[2. , 4.1, 6. ],\n",
       "       [5.1, 7. , 5.7]])"
      ]
     },
     "execution_count": 241,
     "metadata": {},
     "output_type": "execute_result"
    }
   ],
   "source": [
    "np.add(a1,a2) #function can be used as well "
   ]
  },
  {
   "cell_type": "code",
   "execution_count": 242,
   "id": "60849cb8",
   "metadata": {},
   "outputs": [
    {
     "data": {
      "text/plain": [
       "array([[ 1.  ,  4.41,  9.  ],\n",
       "       [16.81, 25.  ,  7.29]])"
      ]
     },
     "execution_count": 242,
     "metadata": {},
     "output_type": "execute_result"
    }
   ],
   "source": [
    "a2**2 "
   ]
  },
  {
   "cell_type": "code",
   "execution_count": 243,
   "id": "9bcf7716",
   "metadata": {},
   "outputs": [
    {
     "data": {
      "text/plain": [
       "array([[ 1.  ,  4.41,  9.  ],\n",
       "       [16.81, 25.  ,  7.29]])"
      ]
     },
     "execution_count": 243,
     "metadata": {},
     "output_type": "execute_result"
    }
   ],
   "source": [
    "np.square(a2)  # this does same above"
   ]
  },
  {
   "cell_type": "code",
   "execution_count": 244,
   "id": "beb7da75",
   "metadata": {},
   "outputs": [
    {
     "data": {
      "text/plain": [
       "array([[  2.71828183,   8.16616991,  20.08553692],\n",
       "       [ 60.3402876 , 148.4131591 ,  14.87973172]])"
      ]
     },
     "execution_count": 244,
     "metadata": {},
     "output_type": "execute_result"
    }
   ],
   "source": [
    "np.exp(a2) #exponetial"
   ]
  },
  {
   "cell_type": "code",
   "execution_count": 245,
   "id": "b3fb0c53",
   "metadata": {},
   "outputs": [
    {
     "ename": "ValueError",
     "evalue": "operands could not be broadcast together with shapes (2,3) (2,3,3) ",
     "output_type": "error",
     "traceback": [
      "\u001b[1;31m---------------------------------------------------------------------------\u001b[0m",
      "\u001b[1;31mValueError\u001b[0m                                Traceback (most recent call last)",
      "Input \u001b[1;32mIn [245]\u001b[0m, in \u001b[0;36m<cell line: 1>\u001b[1;34m()\u001b[0m\n\u001b[1;32m----> 1\u001b[0m \u001b[43ma2\u001b[49m\u001b[38;5;241;43m/\u001b[39;49m\u001b[38;5;241;43m/\u001b[39;49m\u001b[43ma3\u001b[49m\n",
      "\u001b[1;31mValueError\u001b[0m: operands could not be broadcast together with shapes (2,3) (2,3,3) "
     ]
    }
   ],
   "source": [
    "a2//a3\n",
    "\n",
    "##t See Solution in section 7. Reshape and Transpose"
   ]
  },
  {
   "cell_type": "code",
   "execution_count": 246,
   "id": "fe8fa6ab",
   "metadata": {},
   "outputs": [
    {
     "name": "stderr",
     "output_type": "stream",
     "text": [
      "C:\\Users\\sheddyranking\\AppData\\Local\\Temp\\ipykernel_13868\\1844188880.py:1: RuntimeWarning: divide by zero encountered in log\n",
      "  np.log(a3)\n"
     ]
    },
    {
     "data": {
      "text/plain": [
       "array([[[0.        , 0.69314718, 1.09861229],\n",
       "        [0.69314718, 1.09861229, 0.69314718],\n",
       "        [0.69314718, 1.38629436, 1.60943791]],\n",
       "\n",
       "       [[0.        ,       -inf, 1.09861229],\n",
       "        [0.69314718, 1.09861229, 1.94591015],\n",
       "        [0.69314718, 1.38629436, 1.79175947]]])"
      ]
     },
     "execution_count": 246,
     "metadata": {},
     "output_type": "execute_result"
    }
   ],
   "source": [
    "np.log(a3)"
   ]
  },
  {
   "cell_type": "markdown",
   "id": "6404d43b",
   "metadata": {},
   "source": [
    "### Aggregation\n",
    "\n",
    "Use `Sum()` on Python DataTypes and `np.sum()` on Numpy DataTypes\n",
    "See Exampel below."
   ]
  },
  {
   "cell_type": "code",
   "execution_count": 249,
   "id": "933d3b40",
   "metadata": {},
   "outputs": [
    {
     "data": {
      "text/plain": [
       "list"
      ]
     },
     "execution_count": 249,
     "metadata": {},
     "output_type": "execute_result"
    }
   ],
   "source": [
    "#Python datatypes\n",
    "listy_list = [1,2,3]\n",
    "type(listy_list)"
   ]
  },
  {
   "cell_type": "code",
   "execution_count": 250,
   "id": "d290b79f",
   "metadata": {},
   "outputs": [
    {
     "data": {
      "text/plain": [
       "6"
      ]
     },
     "execution_count": 250,
     "metadata": {},
     "output_type": "execute_result"
    }
   ],
   "source": [
    "sum(listy_list)"
   ]
  },
  {
   "cell_type": "code",
   "execution_count": 251,
   "id": "82c872fd",
   "metadata": {},
   "outputs": [
    {
     "data": {
      "text/plain": [
       "array([1, 2, 3])"
      ]
     },
     "execution_count": 251,
     "metadata": {},
     "output_type": "execute_result"
    }
   ],
   "source": [
    "a1"
   ]
  },
  {
   "cell_type": "code",
   "execution_count": 252,
   "id": "22ab1cb5",
   "metadata": {},
   "outputs": [
    {
     "data": {
      "text/plain": [
       "numpy.ndarray"
      ]
     },
     "execution_count": 252,
     "metadata": {},
     "output_type": "execute_result"
    }
   ],
   "source": [
    "type(a1)"
   ]
  },
  {
   "cell_type": "code",
   "execution_count": 253,
   "id": "669ab46d",
   "metadata": {},
   "outputs": [
    {
     "data": {
      "text/plain": [
       "6"
      ]
     },
     "execution_count": 253,
     "metadata": {},
     "output_type": "execute_result"
    }
   ],
   "source": [
    "np.sum(a1)"
   ]
  },
  {
   "cell_type": "markdown",
   "id": "b0e2d031",
   "metadata": {},
   "source": [
    "####  Both the Python and Numpy Datatype return the result but there excecution time diffirers. let's creat a Massive \n",
    "#### array below and see and example."
   ]
  },
  {
   "cell_type": "code",
   "execution_count": 254,
   "id": "666ead25",
   "metadata": {},
   "outputs": [
    {
     "data": {
      "text/plain": [
       "numpy.ndarray"
      ]
     },
     "execution_count": 254,
     "metadata": {},
     "output_type": "execute_result"
    }
   ],
   "source": [
    "massive_a= np.random.random(10000)\n",
    "\n",
    "type(massive_a)"
   ]
  },
  {
   "cell_type": "code",
   "execution_count": 255,
   "id": "8f68e522",
   "metadata": {},
   "outputs": [
    {
     "data": {
      "text/plain": [
       "array([0.79808141, 0.54427185, 0.41841659, 0.01915666, 0.68377373,\n",
       "       0.48809792, 0.22057967, 0.55054305, 0.52259111, 0.48755248])"
      ]
     },
     "execution_count": 255,
     "metadata": {},
     "output_type": "execute_result"
    }
   ],
   "source": [
    "massive_a[:10] # view first 10"
   ]
  },
  {
   "cell_type": "code",
   "execution_count": 256,
   "id": "a744cc4e",
   "metadata": {},
   "outputs": [
    {
     "name": "stdout",
     "output_type": "stream",
     "text": [
      "1.19 ms ± 69.4 µs per loop (mean ± std. dev. of 7 runs, 1,000 loops each)\n",
      "10.2 µs ± 142 ns per loop (mean ± std. dev. of 7 runs, 100,000 loops each)\n"
     ]
    }
   ],
   "source": [
    "# Check the execution\n",
    "\n",
    "%timeit sum(massive_a) ## Python list\n",
    "%timeit np.sum(massive_a) ## Numpy \n",
    "\n",
    "# Results shows that Numpy runs faster"
   ]
  },
  {
   "cell_type": "code",
   "execution_count": 257,
   "id": "8c97d533",
   "metadata": {},
   "outputs": [
    {
     "data": {
      "text/plain": [
       "array([[1. , 2.1, 3. ],\n",
       "       [4.1, 5. , 2.7]])"
      ]
     },
     "execution_count": 257,
     "metadata": {},
     "output_type": "execute_result"
    }
   ],
   "source": [
    "a2"
   ]
  },
  {
   "cell_type": "code",
   "execution_count": 258,
   "id": "f232c231",
   "metadata": {},
   "outputs": [
    {
     "data": {
      "text/plain": [
       "2.983333333333333"
      ]
     },
     "execution_count": 258,
     "metadata": {},
     "output_type": "execute_result"
    }
   ],
   "source": [
    "np.mean(a2)"
   ]
  },
  {
   "cell_type": "code",
   "execution_count": 259,
   "id": "02bc3ad5",
   "metadata": {},
   "outputs": [
    {
     "data": {
      "text/plain": [
       "1.6847222222222218"
      ]
     },
     "execution_count": 259,
     "metadata": {},
     "output_type": "execute_result"
    }
   ],
   "source": [
    "np.var(a2)"
   ]
  },
  {
   "cell_type": "code",
   "execution_count": 260,
   "id": "b6026682",
   "metadata": {},
   "outputs": [
    {
     "data": {
      "text/plain": [
       "1.2979684981625024"
      ]
     },
     "execution_count": 260,
     "metadata": {},
     "output_type": "execute_result"
    }
   ],
   "source": [
    "np.std(a2)"
   ]
  },
  {
   "cell_type": "code",
   "execution_count": 261,
   "id": "a6ad05b4",
   "metadata": {},
   "outputs": [
    {
     "data": {
      "text/plain": [
       "1.2979684981625024"
      ]
     },
     "execution_count": 261,
     "metadata": {},
     "output_type": "execute_result"
    }
   ],
   "source": [
    "np.sqrt(np.var(a2)) #Std is the sqrt of variance. "
   ]
  },
  {
   "cell_type": "markdown",
   "id": "5aa7b249",
   "metadata": {},
   "source": [
    "### Standard Deviation\n",
    "\n",
    "Here will we see how the `var` and `Std` differs when the range between the values is large."
   ]
  },
  {
   "cell_type": "code",
   "execution_count": 262,
   "id": "2e1495b7",
   "metadata": {},
   "outputs": [],
   "source": [
    "high_arrays = np.array([1,100,200,300, 4000, 5000])\n",
    "low_arrays= np.array([1,2,4,6,8,10])"
   ]
  },
  {
   "cell_type": "code",
   "execution_count": 263,
   "id": "c54454b1",
   "metadata": {},
   "outputs": [
    {
     "data": {
      "text/plain": [
       "(4296133.472222221, 10.138888888888888)"
      ]
     },
     "execution_count": 263,
     "metadata": {},
     "output_type": "execute_result"
    }
   ],
   "source": [
    "np.var(high_arrays), np.var(low_arrays)"
   ]
  },
  {
   "cell_type": "code",
   "execution_count": 264,
   "id": "4dec1871",
   "metadata": {},
   "outputs": [
    {
     "data": {
      "text/plain": [
       "(2072.711623024829, 3.1841621957571333)"
      ]
     },
     "execution_count": 264,
     "metadata": {},
     "output_type": "execute_result"
    }
   ],
   "source": [
    "np.std(high_arrays), np.std(low_arrays)"
   ]
  },
  {
   "cell_type": "code",
   "execution_count": 265,
   "id": "82952df3",
   "metadata": {},
   "outputs": [
    {
     "data": {
      "image/png": "[encoded data removed]",
      "text/plain": [
       "<Figure size 432x288 with 1 Axes>"
      ]
     },
     "metadata": {
      "needs_background": "light"
     },
     "output_type": "display_data"
    }
   ],
   "source": [
    "%matplotlib inline\n",
    "import matplotlib.pyplot as plt\n",
    "plt.hist(high_arrays)\n",
    "plt.show()"
   ]
  },
  {
   "cell_type": "code",
   "execution_count": 266,
   "id": "82135a21",
   "metadata": {},
   "outputs": [
    {
     "data": {
      "image/png": "[encoded data removed]",
      "text/plain": [
       "<Figure size 432x288 with 1 Axes>"
      ]
     },
     "metadata": {
      "needs_background": "light"
     },
     "output_type": "display_data"
    }
   ],
   "source": [
    "plt.hist(low_arrays)\n",
    "plt.show()"
   ]
  },
  {
   "cell_type": "markdown",
   "id": "1508ebba",
   "metadata": {},
   "source": [
    "### Reshape and Transpose "
   ]
  },
  {
   "cell_type": "code",
   "execution_count": 267,
   "id": "c164a768",
   "metadata": {},
   "outputs": [
    {
     "data": {
      "text/plain": [
       "array([[1. , 2.1, 3. ],\n",
       "       [4.1, 5. , 2.7]])"
      ]
     },
     "execution_count": 267,
     "metadata": {},
     "output_type": "execute_result"
    }
   ],
   "source": [
    "a2"
   ]
  },
  {
   "cell_type": "code",
   "execution_count": 268,
   "id": "edfc2fa8",
   "metadata": {},
   "outputs": [
    {
     "data": {
      "text/plain": [
       "(2, 3)"
      ]
     },
     "execution_count": 268,
     "metadata": {},
     "output_type": "execute_result"
    }
   ],
   "source": [
    "a2.shape"
   ]
  },
  {
   "cell_type": "code",
   "execution_count": 269,
   "id": "1e2650a6",
   "metadata": {},
   "outputs": [
    {
     "data": {
      "text/plain": [
       "array([[[1., 2., 3.],\n",
       "        [2., 3., 2.],\n",
       "        [2., 4., 5.]],\n",
       "\n",
       "       [[1., 0., 3.],\n",
       "        [2., 3., 7.],\n",
       "        [2., 4., 6.]]])"
      ]
     },
     "execution_count": 269,
     "metadata": {},
     "output_type": "execute_result"
    }
   ],
   "source": [
    "a3"
   ]
  },
  {
   "cell_type": "code",
   "execution_count": 270,
   "id": "37edb431",
   "metadata": {},
   "outputs": [
    {
     "data": {
      "text/plain": [
       "(2, 3, 3)"
      ]
     },
     "execution_count": 270,
     "metadata": {},
     "output_type": "execute_result"
    }
   ],
   "source": [
    "a3.shape"
   ]
  },
  {
   "cell_type": "code",
   "execution_count": 271,
   "id": "6264ba16",
   "metadata": {},
   "outputs": [
    {
     "ename": "ValueError",
     "evalue": "operands could not be broadcast together with shapes (2,3) (2,3,3) ",
     "output_type": "error",
     "traceback": [
      "\u001b[1;31m---------------------------------------------------------------------------\u001b[0m",
      "\u001b[1;31mValueError\u001b[0m                                Traceback (most recent call last)",
      "Input \u001b[1;32mIn [271]\u001b[0m, in \u001b[0;36m<cell line: 1>\u001b[1;34m()\u001b[0m\n\u001b[1;32m----> 1\u001b[0m \u001b[43mnp\u001b[49m\u001b[38;5;241;43m.\u001b[39;49m\u001b[43mmultiply\u001b[49m\u001b[43m(\u001b[49m\u001b[43ma2\u001b[49m\u001b[43m,\u001b[49m\u001b[43ma3\u001b[49m\u001b[43m)\u001b[49m\n",
      "\u001b[1;31mValueError\u001b[0m: operands could not be broadcast together with shapes (2,3) (2,3,3) "
     ]
    }
   ],
   "source": [
    "np.multiply(a2,a3)"
   ]
  },
  {
   "cell_type": "code",
   "execution_count": 272,
   "id": "9a14538c",
   "metadata": {
    "run_control": {
     "marked": true
    }
   },
   "outputs": [],
   "source": [
    "# to solve ths check out the broadcating rule which statte `Two dimensions are compatible when:\n",
    "#1.they are equal, or\n",
    "#2.one of them is 1`\n",
    "\n",
    "#Therefore lets reshape a2. \n",
    "\n",
    "reshaped = a2.reshape(2,3,1)"
   ]
  },
  {
   "cell_type": "code",
   "execution_count": 273,
   "id": "408671c8",
   "metadata": {},
   "outputs": [
    {
     "data": {
      "text/plain": [
       "(2, 3, 1)"
      ]
     },
     "execution_count": 273,
     "metadata": {},
     "output_type": "execute_result"
    }
   ],
   "source": [
    "#check the shape\n",
    "reshaped.shape"
   ]
  },
  {
   "cell_type": "code",
   "execution_count": 274,
   "id": "d7407ea1",
   "metadata": {},
   "outputs": [
    {
     "data": {
      "text/plain": [
       "array([[[ 1. ,  2. ,  3. ],\n",
       "        [ 4.2,  6.3,  4.2],\n",
       "        [ 6. , 12. , 15. ]],\n",
       "\n",
       "       [[ 4.1,  0. , 12.3],\n",
       "        [10. , 15. , 35. ],\n",
       "        [ 5.4, 10.8, 16.2]]])"
      ]
     },
     "execution_count": 274,
     "metadata": {},
     "output_type": "execute_result"
    }
   ],
   "source": [
    "#now try to multiply\n",
    "np.multiply(reshaped,a3)"
   ]
  },
  {
   "cell_type": "code",
   "execution_count": 275,
   "id": "23bf8f8a",
   "metadata": {},
   "outputs": [
    {
     "data": {
      "text/plain": [
       "array([[1. , 2.1, 3. ],\n",
       "       [4.1, 5. , 2.7]])"
      ]
     },
     "execution_count": 275,
     "metadata": {},
     "output_type": "execute_result"
    }
   ],
   "source": [
    "### transpose , ths change the axis=1.\n",
    "\n",
    "a2"
   ]
  },
  {
   "cell_type": "code",
   "execution_count": 276,
   "id": "a0d387ba",
   "metadata": {},
   "outputs": [
    {
     "data": {
      "text/plain": [
       "array([[1. , 4.1],\n",
       "       [2.1, 5. ],\n",
       "       [3. , 2.7]])"
      ]
     },
     "execution_count": 276,
     "metadata": {},
     "output_type": "execute_result"
    }
   ],
   "source": [
    "a2.T"
   ]
  },
  {
   "cell_type": "code",
   "execution_count": 277,
   "id": "554e623c",
   "metadata": {},
   "outputs": [
    {
     "data": {
      "text/plain": [
       "array([[[1., 2., 3.],\n",
       "        [2., 3., 2.],\n",
       "        [2., 4., 5.]],\n",
       "\n",
       "       [[1., 0., 3.],\n",
       "        [2., 3., 7.],\n",
       "        [2., 4., 6.]]])"
      ]
     },
     "execution_count": 277,
     "metadata": {},
     "output_type": "execute_result"
    }
   ],
   "source": [
    "a3"
   ]
  },
  {
   "cell_type": "code",
   "execution_count": 278,
   "id": "609155e8",
   "metadata": {},
   "outputs": [
    {
     "data": {
      "text/plain": [
       "array([[[1., 1.],\n",
       "        [2., 2.],\n",
       "        [2., 2.]],\n",
       "\n",
       "       [[2., 0.],\n",
       "        [3., 3.],\n",
       "        [4., 4.]],\n",
       "\n",
       "       [[3., 3.],\n",
       "        [2., 7.],\n",
       "        [5., 6.]]])"
      ]
     },
     "execution_count": 278,
     "metadata": {},
     "output_type": "execute_result"
    }
   ],
   "source": [
    "a3.T"
   ]
  },
  {
   "cell_type": "markdown",
   "id": "999cd35a",
   "metadata": {},
   "source": [
    "### DOT Product.\n",
    "\n",
    "This can only work on same shape matrix with one `Tranpose`"
   ]
  },
  {
   "cell_type": "code",
   "execution_count": 279,
   "id": "15f0adc5",
   "metadata": {},
   "outputs": [],
   "source": [
    "np.random.seed()\n",
    "\n",
    "mat1 = np.random.randint(5,size=(5,3))\n",
    "\n",
    "mat2 = np.random.randint(10,size=(5,3))"
   ]
  },
  {
   "cell_type": "code",
   "execution_count": 280,
   "id": "44f43245",
   "metadata": {},
   "outputs": [
    {
     "data": {
      "text/plain": [
       "array([[3, 3, 0],\n",
       "       [2, 2, 2],\n",
       "       [4, 4, 0],\n",
       "       [0, 0, 0],\n",
       "       [4, 3, 3]])"
      ]
     },
     "execution_count": 280,
     "metadata": {},
     "output_type": "execute_result"
    }
   ],
   "source": [
    "mat1"
   ]
  },
  {
   "cell_type": "code",
   "execution_count": 281,
   "id": "1fc9d24d",
   "metadata": {},
   "outputs": [
    {
     "data": {
      "text/plain": [
       "(5, 3)"
      ]
     },
     "execution_count": 281,
     "metadata": {},
     "output_type": "execute_result"
    }
   ],
   "source": [
    "mat1.shape"
   ]
  },
  {
   "cell_type": "code",
   "execution_count": 282,
   "id": "4a668406",
   "metadata": {},
   "outputs": [
    {
     "data": {
      "text/plain": [
       "array([[5, 2, 9],\n",
       "       [1, 0, 7],\n",
       "       [1, 1, 9],\n",
       "       [5, 5, 3],\n",
       "       [2, 2, 9]])"
      ]
     },
     "execution_count": 282,
     "metadata": {},
     "output_type": "execute_result"
    }
   ],
   "source": [
    "mat2"
   ]
  },
  {
   "cell_type": "code",
   "execution_count": 283,
   "id": "1e6a4a75",
   "metadata": {},
   "outputs": [
    {
     "data": {
      "text/plain": [
       "(5, 3)"
      ]
     },
     "execution_count": 283,
     "metadata": {},
     "output_type": "execute_result"
    }
   ],
   "source": [
    "mat2.shape"
   ]
  },
  {
   "cell_type": "code",
   "execution_count": 284,
   "id": "033846be",
   "metadata": {},
   "outputs": [
    {
     "data": {
      "text/plain": [
       "array([[15,  6,  0],\n",
       "       [ 2,  0, 14],\n",
       "       [ 4,  4,  0],\n",
       "       [ 0,  0,  0],\n",
       "       [ 8,  6, 27]])"
      ]
     },
     "execution_count": 284,
     "metadata": {},
     "output_type": "execute_result"
    }
   ],
   "source": [
    "mat1*mat2 ## elemet wise cal. will work"
   ]
  },
  {
   "cell_type": "code",
   "execution_count": 285,
   "id": "4dbf2504",
   "metadata": {},
   "outputs": [
    {
     "ename": "ValueError",
     "evalue": "shapes (5,3) and (5,3) not aligned: 3 (dim 1) != 5 (dim 0)",
     "output_type": "error",
     "traceback": [
      "\u001b[1;31m---------------------------------------------------------------------------\u001b[0m",
      "\u001b[1;31mValueError\u001b[0m                                Traceback (most recent call last)",
      "Input \u001b[1;32mIn [285]\u001b[0m, in \u001b[0;36m<cell line: 1>\u001b[1;34m()\u001b[0m\n\u001b[1;32m----> 1\u001b[0m dot \u001b[38;5;241m=\u001b[39m \u001b[43mnp\u001b[49m\u001b[38;5;241;43m.\u001b[39;49m\u001b[43mdot\u001b[49m\u001b[43m(\u001b[49m\u001b[43mmat1\u001b[49m\u001b[43m,\u001b[49m\u001b[43mmat2\u001b[49m\u001b[43m)\u001b[49m\n",
      "File \u001b[1;32m<__array_function__ internals>:180\u001b[0m, in \u001b[0;36mdot\u001b[1;34m(*args, **kwargs)\u001b[0m\n",
      "\u001b[1;31mValueError\u001b[0m: shapes (5,3) and (5,3) not aligned: 3 (dim 1) != 5 (dim 0)"
     ]
    }
   ],
   "source": [
    "dot = np.dot(mat1,mat2) # this wont work. see solution below"
   ]
  },
  {
   "cell_type": "code",
   "execution_count": null,
   "id": "64a5a4a6",
   "metadata": {},
   "outputs": [],
   "source": []
  },
  {
   "cell_type": "markdown",
   "id": "1c8799ab",
   "metadata": {},
   "source": [
    "#### Transpose mat1 and check shape."
   ]
  },
  {
   "cell_type": "code",
   "execution_count": 286,
   "id": "99ec5956",
   "metadata": {},
   "outputs": [
    {
     "data": {
      "text/plain": [
       "(3, 5)"
      ]
     },
     "execution_count": 286,
     "metadata": {},
     "output_type": "execute_result"
    }
   ],
   "source": [
    "mat1.T.shape"
   ]
  },
  {
   "cell_type": "code",
   "execution_count": 287,
   "id": "fbdca775",
   "metadata": {},
   "outputs": [
    {
     "data": {
      "text/plain": [
       "array([[3, 2, 4, 0, 4],\n",
       "       [3, 2, 4, 0, 3],\n",
       "       [0, 2, 0, 0, 3]])"
      ]
     },
     "execution_count": 287,
     "metadata": {},
     "output_type": "execute_result"
    }
   ],
   "source": [
    "mat1.T"
   ]
  },
  {
   "cell_type": "code",
   "execution_count": 288,
   "id": "db59ef13",
   "metadata": {},
   "outputs": [],
   "source": [
    "## we can niow perform a Dot calculation since the Mat1 has been transpose to shape(3,5)\n",
    "## Read more on Numpy.dot to understand her the dot product works"
   ]
  },
  {
   "cell_type": "code",
   "execution_count": null,
   "id": "26f38f2d",
   "metadata": {},
   "outputs": [],
   "source": []
  },
  {
   "cell_type": "code",
   "execution_count": 289,
   "id": "d2bdbe95",
   "metadata": {},
   "outputs": [],
   "source": [
    "dot =  np.dot(mat2,mat1.T)"
   ]
  },
  {
   "cell_type": "code",
   "execution_count": 290,
   "id": "73ed7c07",
   "metadata": {},
   "outputs": [
    {
     "data": {
      "text/plain": [
       "array([[21, 32, 28,  0, 53],\n",
       "       [ 3, 16,  4,  0, 25],\n",
       "       [ 6, 22,  8,  0, 34],\n",
       "       [30, 26, 40,  0, 44],\n",
       "       [12, 26, 16,  0, 41]])"
      ]
     },
     "execution_count": 290,
     "metadata": {},
     "output_type": "execute_result"
    }
   ],
   "source": [
    "dot"
   ]
  },
  {
   "cell_type": "markdown",
   "id": "b7e86049",
   "metadata": {},
   "source": [
    "### Dot Product Peanut Butter Example Excercise"
   ]
  },
  {
   "cell_type": "code",
   "execution_count": 293,
   "id": "03e76790",
   "metadata": {},
   "outputs": [
    {
     "data": {
      "text/plain": [
       "array([[ 0,  6, 15],\n",
       "       [ 1, 13, 12],\n",
       "       [14, 10,  7],\n",
       "       [ 0, 11,  5],\n",
       "       [14, 17,  2]])"
      ]
     },
     "execution_count": 293,
     "metadata": {},
     "output_type": "execute_result"
    }
   ],
   "source": [
    "np.random.seed()\n",
    "\n",
    "##Amount of butter sold.\n",
    "amount_sold= np.random.randint(20,size=(5,3))\n",
    "amount_sold"
   ]
  },
  {
   "cell_type": "code",
   "execution_count": 294,
   "id": "ab2179ca",
   "metadata": {},
   "outputs": [
    {
     "data": {
      "text/html": [
       "<div>\n",
       "<style scoped>\n",
       "    .dataframe tbody tr th:only-of-type {\n",
       "        vertical-align: middle;\n",
       "    }\n",
       "\n",
       "    .dataframe tbody tr th {\n",
       "        vertical-align: top;\n",
       "    }\n",
       "\n",
       "    .dataframe thead th {\n",
       "        text-align: right;\n",
       "    }\n",
       "</style>\n",
       "<table border=\"1\" class=\"dataframe\">\n",
       "  <thead>\n",
       "    <tr style=\"text-align: right;\">\n",
       "      <th></th>\n",
       "      <th>Almond butter</th>\n",
       "      <th>Peanut butter</th>\n",
       "      <th>Cashew butter</th>\n",
       "    </tr>\n",
       "  </thead>\n",
       "  <tbody>\n",
       "    <tr>\n",
       "      <th>Mon</th>\n",
       "      <td>0</td>\n",
       "      <td>6</td>\n",
       "      <td>15</td>\n",
       "    </tr>\n",
       "    <tr>\n",
       "      <th>Tues</th>\n",
       "      <td>1</td>\n",
       "      <td>13</td>\n",
       "      <td>12</td>\n",
       "    </tr>\n",
       "    <tr>\n",
       "      <th>Wed</th>\n",
       "      <td>14</td>\n",
       "      <td>10</td>\n",
       "      <td>7</td>\n",
       "    </tr>\n",
       "    <tr>\n",
       "      <th>Thurs</th>\n",
       "      <td>0</td>\n",
       "      <td>11</td>\n",
       "      <td>5</td>\n",
       "    </tr>\n",
       "    <tr>\n",
       "      <th>Fri</th>\n",
       "      <td>14</td>\n",
       "      <td>17</td>\n",
       "      <td>2</td>\n",
       "    </tr>\n",
       "  </tbody>\n",
       "</table>\n",
       "</div>"
      ],
      "text/plain": [
       "       Almond butter  Peanut butter  Cashew butter\n",
       "Mon                0              6             15\n",
       "Tues               1             13             12\n",
       "Wed               14             10              7\n",
       "Thurs              0             11              5\n",
       "Fri               14             17              2"
      ]
     },
     "execution_count": 294,
     "metadata": {},
     "output_type": "execute_result"
    }
   ],
   "source": [
    "### put it in a dataframe\n",
    "\n",
    "weekly_sales =pd.DataFrame(amount_sold,index=[\"Mon\",\"Tues\",\"Wed\",\"Thurs\",\"Fri\"],\n",
    "                           columns=[\"Almond butter\",\"Peanut butter\",\"Cashew butter\"])\n",
    "weekly_sales"
   ]
  },
  {
   "cell_type": "code",
   "execution_count": 295,
   "id": "9ff2fc0f",
   "metadata": {},
   "outputs": [
    {
     "data": {
      "text/plain": [
       "(5, 3)"
      ]
     },
     "execution_count": 295,
     "metadata": {},
     "output_type": "execute_result"
    }
   ],
   "source": [
    "weekly_sales.shape"
   ]
  },
  {
   "cell_type": "code",
   "execution_count": 296,
   "id": "8db4b9b3",
   "metadata": {},
   "outputs": [
    {
     "data": {
      "text/plain": [
       "array([10,  8, 12])"
      ]
     },
     "execution_count": 296,
     "metadata": {},
     "output_type": "execute_result"
    }
   ],
   "source": [
    "## Create the butter_prices\n",
    "prices = np.array([10,8,12])\n",
    "prices"
   ]
  },
  {
   "cell_type": "code",
   "execution_count": 297,
   "id": "b41e75eb",
   "metadata": {},
   "outputs": [
    {
     "data": {
      "text/plain": [
       "(3,)"
      ]
     },
     "execution_count": 297,
     "metadata": {},
     "output_type": "execute_result"
    }
   ],
   "source": [
    "prices.shape"
   ]
  },
  {
   "cell_type": "code",
   "execution_count": 299,
   "id": "799abf1e",
   "metadata": {},
   "outputs": [
    {
     "data": {
      "text/html": [
       "<div>\n",
       "<style scoped>\n",
       "    .dataframe tbody tr th:only-of-type {\n",
       "        vertical-align: middle;\n",
       "    }\n",
       "\n",
       "    .dataframe tbody tr th {\n",
       "        vertical-align: top;\n",
       "    }\n",
       "\n",
       "    .dataframe thead th {\n",
       "        text-align: right;\n",
       "    }\n",
       "</style>\n",
       "<table border=\"1\" class=\"dataframe\">\n",
       "  <thead>\n",
       "    <tr style=\"text-align: right;\">\n",
       "      <th></th>\n",
       "      <th>Almond butter</th>\n",
       "      <th>Peanut butter</th>\n",
       "      <th>Cashew butter</th>\n",
       "    </tr>\n",
       "  </thead>\n",
       "  <tbody>\n",
       "    <tr>\n",
       "      <th>Prices</th>\n",
       "      <td>10</td>\n",
       "      <td>8</td>\n",
       "      <td>12</td>\n",
       "    </tr>\n",
       "  </tbody>\n",
       "</table>\n",
       "</div>"
      ],
      "text/plain": [
       "        Almond butter  Peanut butter  Cashew butter\n",
       "Prices             10              8             12"
      ]
     },
     "execution_count": 299,
     "metadata": {},
     "output_type": "execute_result"
    }
   ],
   "source": [
    "## Put the Butter_Prices into a df.\n",
    "\n",
    "## change the shape to 1 row, 3 columns (1,3), so that it can fit into df\n",
    "\n",
    "prices_df = pd.DataFrame(prices.reshape(1,3), index=[\"Prices\"], columns=[\"Almond butter\",\"Peanut butter\",\"Cashew butter\"])\n",
    "prices_df"
   ]
  },
  {
   "cell_type": "code",
   "execution_count": 300,
   "id": "78842e7e",
   "metadata": {},
   "outputs": [
    {
     "data": {
      "text/html": [
       "<div>\n",
       "<style scoped>\n",
       "    .dataframe tbody tr th:only-of-type {\n",
       "        vertical-align: middle;\n",
       "    }\n",
       "\n",
       "    .dataframe tbody tr th {\n",
       "        vertical-align: top;\n",
       "    }\n",
       "\n",
       "    .dataframe thead th {\n",
       "        text-align: right;\n",
       "    }\n",
       "</style>\n",
       "<table border=\"1\" class=\"dataframe\">\n",
       "  <thead>\n",
       "    <tr style=\"text-align: right;\">\n",
       "      <th></th>\n",
       "      <th>Almond butter</th>\n",
       "      <th>Peanut butter</th>\n",
       "      <th>Cashew butter</th>\n",
       "    </tr>\n",
       "  </thead>\n",
       "  <tbody>\n",
       "    <tr>\n",
       "      <th>Mon</th>\n",
       "      <td>0</td>\n",
       "      <td>6</td>\n",
       "      <td>15</td>\n",
       "    </tr>\n",
       "    <tr>\n",
       "      <th>Tues</th>\n",
       "      <td>1</td>\n",
       "      <td>13</td>\n",
       "      <td>12</td>\n",
       "    </tr>\n",
       "    <tr>\n",
       "      <th>Wed</th>\n",
       "      <td>14</td>\n",
       "      <td>10</td>\n",
       "      <td>7</td>\n",
       "    </tr>\n",
       "    <tr>\n",
       "      <th>Thurs</th>\n",
       "      <td>0</td>\n",
       "      <td>11</td>\n",
       "      <td>5</td>\n",
       "    </tr>\n",
       "    <tr>\n",
       "      <th>Fri</th>\n",
       "      <td>14</td>\n",
       "      <td>17</td>\n",
       "      <td>2</td>\n",
       "    </tr>\n",
       "  </tbody>\n",
       "</table>\n",
       "</div>"
      ],
      "text/plain": [
       "       Almond butter  Peanut butter  Cashew butter\n",
       "Mon                0              6             15\n",
       "Tues               1             13             12\n",
       "Wed               14             10              7\n",
       "Thurs              0             11              5\n",
       "Fri               14             17              2"
      ]
     },
     "execution_count": 300,
     "metadata": {},
     "output_type": "execute_result"
    }
   ],
   "source": [
    "weekly_sales"
   ]
  },
  {
   "cell_type": "code",
   "execution_count": 306,
   "id": "67b28cdc",
   "metadata": {},
   "outputs": [],
   "source": [
    "### Now do a dot product on the weekly sales and the prices to get the total using the array below.\n",
    "### Transpose the amont sold"
   ]
  },
  {
   "cell_type": "code",
   "execution_count": 305,
   "id": "65afb5ad",
   "metadata": {},
   "outputs": [
    {
     "data": {
      "text/plain": [
       "array([228, 258, 304, 148, 300])"
      ]
     },
     "execution_count": 305,
     "metadata": {},
     "output_type": "execute_result"
    }
   ],
   "source": [
    "total_sales = prices.dot(amount_sold.T)\n",
    "total_sales "
   ]
  },
  {
   "cell_type": "code",
   "execution_count": null,
   "id": "b55c67a2",
   "metadata": {},
   "outputs": [],
   "source": []
  },
  {
   "cell_type": "code",
   "execution_count": null,
   "id": "fa92cce1",
   "metadata": {},
   "outputs": [],
   "source": [
    "## Put in back into the weekly_sales"
   ]
  },
  {
   "cell_type": "code",
   "execution_count": 307,
   "id": "2201edcb",
   "metadata": {},
   "outputs": [],
   "source": [
    "weekly_sales[\"Total($)\"] = total_sales"
   ]
  },
  {
   "cell_type": "code",
   "execution_count": 308,
   "id": "0aaa6395",
   "metadata": {},
   "outputs": [
    {
     "data": {
      "text/html": [
       "<div>\n",
       "<style scoped>\n",
       "    .dataframe tbody tr th:only-of-type {\n",
       "        vertical-align: middle;\n",
       "    }\n",
       "\n",
       "    .dataframe tbody tr th {\n",
       "        vertical-align: top;\n",
       "    }\n",
       "\n",
       "    .dataframe thead th {\n",
       "        text-align: right;\n",
       "    }\n",
       "</style>\n",
       "<table border=\"1\" class=\"dataframe\">\n",
       "  <thead>\n",
       "    <tr style=\"text-align: right;\">\n",
       "      <th></th>\n",
       "      <th>Almond butter</th>\n",
       "      <th>Peanut butter</th>\n",
       "      <th>Cashew butter</th>\n",
       "      <th>Total($)</th>\n",
       "    </tr>\n",
       "  </thead>\n",
       "  <tbody>\n",
       "    <tr>\n",
       "      <th>Mon</th>\n",
       "      <td>0</td>\n",
       "      <td>6</td>\n",
       "      <td>15</td>\n",
       "      <td>228</td>\n",
       "    </tr>\n",
       "    <tr>\n",
       "      <th>Tues</th>\n",
       "      <td>1</td>\n",
       "      <td>13</td>\n",
       "      <td>12</td>\n",
       "      <td>258</td>\n",
       "    </tr>\n",
       "    <tr>\n",
       "      <th>Wed</th>\n",
       "      <td>14</td>\n",
       "      <td>10</td>\n",
       "      <td>7</td>\n",
       "      <td>304</td>\n",
       "    </tr>\n",
       "    <tr>\n",
       "      <th>Thurs</th>\n",
       "      <td>0</td>\n",
       "      <td>11</td>\n",
       "      <td>5</td>\n",
       "      <td>148</td>\n",
       "    </tr>\n",
       "    <tr>\n",
       "      <th>Fri</th>\n",
       "      <td>14</td>\n",
       "      <td>17</td>\n",
       "      <td>2</td>\n",
       "      <td>300</td>\n",
       "    </tr>\n",
       "  </tbody>\n",
       "</table>\n",
       "</div>"
      ],
      "text/plain": [
       "       Almond butter  Peanut butter  Cashew butter  Total($)\n",
       "Mon                0              6             15       228\n",
       "Tues               1             13             12       258\n",
       "Wed               14             10              7       304\n",
       "Thurs              0             11              5       148\n",
       "Fri               14             17              2       300"
      ]
     },
     "execution_count": 308,
     "metadata": {},
     "output_type": "execute_result"
    }
   ],
   "source": [
    "weekly_sales"
   ]
  },
  {
   "cell_type": "code",
   "execution_count": null,
   "id": "ec027e63",
   "metadata": {},
   "outputs": [],
   "source": []
  }
 ],
 "metadata": {
  "kernelspec": {
   "display_name": "Python 3 (ipykernel)",
   "language": "python",
   "name": "python3"
  },
  "language_info": {
   "codemirror_mode": {
    "name": "ipython",
    "version": 3
   },
   "file_extension": ".py",
   "mimetype": "text/x-python",
   "name": "python",
   "nbconvert_exporter": "python",
   "pygments_lexer": "ipython3",
   "version": "3.10.4"
  },
  "toc": {
   "base_numbering": 1,
   "nav_menu": {},
   "number_sections": true,
   "sideBar": true,
   "skip_h1_title": false,
   "title_cell": "Table of Contents",
   "title_sidebar": "Contents",
   "toc_cell": false,
   "toc_position": {},
   "toc_section_display": true,
   "toc_window_display": false
  },
  "varInspector": {
   "cols": {
    "lenName": 16,
    "lenType": 16,
    "lenVar": 40
   },
   "kernels_config": {
    "python": {
     "delete_cmd_postfix": "",
     "delete_cmd_prefix": "del ",
     "library": "var_list.py",
     "varRefreshCmd": "print(var_dic_list())"
    },
    "r": {
     "delete_cmd_postfix": ") ",
     "delete_cmd_prefix": "rm(",
     "library": "var_list.r",
     "varRefreshCmd": "cat(var_dic_list()) "
    }
   },
   "types_to_exclude": [
    "module",
    "function",
    "builtin_function_or_method",
    "instance",
    "_Feature"
   ],
   "window_display": false
  }
 },
 "nbformat": 4,
 "nbformat_minor": 5
}
