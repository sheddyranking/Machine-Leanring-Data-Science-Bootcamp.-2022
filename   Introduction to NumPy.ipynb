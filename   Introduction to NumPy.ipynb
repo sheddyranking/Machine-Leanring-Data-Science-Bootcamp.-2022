{
 "cells": [
  {
   "cell_type": "code",
   "execution_count": 107,
   "id": "4fb8c5a4",
   "metadata": {},
   "outputs": [],
   "source": [
    "import numpy as np"
   ]
  },
  {
   "cell_type": "markdown",
   "id": "afb5134c",
   "metadata": {},
   "source": [
    "###  Attributes and Datatypes"
   ]
  },
  {
   "cell_type": "code",
   "execution_count": 108,
   "id": "c67493f9",
   "metadata": {},
   "outputs": [],
   "source": [
    "### The Main DataType of Numpy is ndarray."
   ]
  },
  {
   "cell_type": "code",
   "execution_count": 109,
   "id": "221dfbab",
   "metadata": {},
   "outputs": [
    {
     "data": {
      "text/plain": [
       "array([1, 2, 3])"
      ]
     },
     "execution_count": 109,
     "metadata": {},
     "output_type": "execute_result"
    }
   ],
   "source": [
    "a1 =  np.array([1,2,3])\n",
    "\n",
    "a1"
   ]
  },
  {
   "cell_type": "code",
   "execution_count": 110,
   "id": "423432fa",
   "metadata": {},
   "outputs": [
    {
     "data": {
      "text/plain": [
       "numpy.ndarray"
      ]
     },
     "execution_count": 110,
     "metadata": {},
     "output_type": "execute_result"
    }
   ],
   "source": [
    "type(al)"
   ]
  },
  {
   "cell_type": "code",
   "execution_count": 111,
   "id": "c03a7ceb",
   "metadata": {},
   "outputs": [
    {
     "data": {
      "text/plain": [
       "array([[1. , 2.1, 3. ],\n",
       "       [4.1, 5. , 2.7]])"
      ]
     },
     "execution_count": 111,
     "metadata": {},
     "output_type": "execute_result"
    }
   ],
   "source": [
    "a2 =  np.array([[1,2.1,3.0],\n",
    "                [4.1,5,2.7]])\n",
    "a2"
   ]
  },
  {
   "cell_type": "code",
   "execution_count": 112,
   "id": "e896e798",
   "metadata": {},
   "outputs": [
    {
     "data": {
      "text/plain": [
       "array([[[1., 2., 3.],\n",
       "        [2., 3., 2.],\n",
       "        [2., 4., 5.]],\n",
       "\n",
       "       [[1., 0., 3.],\n",
       "        [2., 3., 7.],\n",
       "        [2., 4., 6.]]])"
      ]
     },
     "execution_count": 112,
     "metadata": {},
     "output_type": "execute_result"
    }
   ],
   "source": [
    "a3 = np.array([\n",
    "    [[1,2,3],[2.0,3.0,2],[2,4,5]],\n",
    "                \n",
    "     [[1,0,3],[2.0,3.0,7],[2,4,6]]\n",
    "           ])\n",
    "\n",
    "a3"
   ]
  },
  {
   "cell_type": "code",
   "execution_count": 113,
   "id": "6f31d50f",
   "metadata": {},
   "outputs": [
    {
     "data": {
      "text/plain": [
       "(3, 6, 18)"
      ]
     },
     "execution_count": 113,
     "metadata": {},
     "output_type": "execute_result"
    }
   ],
   "source": [
    "a1.size, a2.size, a3.size"
   ]
  },
  {
   "cell_type": "code",
   "execution_count": 114,
   "id": "cf11486b",
   "metadata": {},
   "outputs": [
    {
     "data": {
      "text/plain": [
       "((3,), (2, 3), (2, 3, 3))"
      ]
     },
     "execution_count": 114,
     "metadata": {},
     "output_type": "execute_result"
    }
   ],
   "source": [
    "a1.shape, a2.shape, a3.shape"
   ]
  },
  {
   "cell_type": "code",
   "execution_count": 115,
   "id": "02f2bc99",
   "metadata": {},
   "outputs": [
    {
     "data": {
      "text/plain": [
       "(1, 2, 3)"
      ]
     },
     "execution_count": 115,
     "metadata": {},
     "output_type": "execute_result"
    }
   ],
   "source": [
    "a1.ndim, a2.ndim, a3.ndim"
   ]
  },
  {
   "cell_type": "code",
   "execution_count": 116,
   "id": "7da392cc",
   "metadata": {},
   "outputs": [
    {
     "data": {
      "text/plain": [
       "(dtype('int32'), dtype('float64'), dtype('float64'))"
      ]
     },
     "execution_count": 116,
     "metadata": {},
     "output_type": "execute_result"
    }
   ],
   "source": [
    "a1.dtype, a2.dtype, a3.dtype"
   ]
  },
  {
   "cell_type": "code",
   "execution_count": 117,
   "id": "ed893b0c",
   "metadata": {},
   "outputs": [
    {
     "data": {
      "text/plain": [
       "(numpy.ndarray, numpy.ndarray, numpy.ndarray)"
      ]
     },
     "execution_count": 117,
     "metadata": {},
     "output_type": "execute_result"
    }
   ],
   "source": [
    "type(a1), type(a2), type(a3)"
   ]
  },
  {
   "cell_type": "code",
   "execution_count": 118,
   "id": "1c593457",
   "metadata": {},
   "outputs": [],
   "source": [
    "import pandas as pd "
   ]
  },
  {
   "cell_type": "code",
   "execution_count": 119,
   "id": "f4f34efb",
   "metadata": {},
   "outputs": [
    {
     "data": {
      "text/html": [
       "<div>\n",
       "<style scoped>\n",
       "    .dataframe tbody tr th:only-of-type {\n",
       "        vertical-align: middle;\n",
       "    }\n",
       "\n",
       "    .dataframe tbody tr th {\n",
       "        vertical-align: top;\n",
       "    }\n",
       "\n",
       "    .dataframe thead th {\n",
       "        text-align: right;\n",
       "    }\n",
       "</style>\n",
       "<table border=\"1\" class=\"dataframe\">\n",
       "  <thead>\n",
       "    <tr style=\"text-align: right;\">\n",
       "      <th></th>\n",
       "      <th>0</th>\n",
       "      <th>1</th>\n",
       "      <th>2</th>\n",
       "    </tr>\n",
       "  </thead>\n",
       "  <tbody>\n",
       "    <tr>\n",
       "      <th>0</th>\n",
       "      <td>1.0</td>\n",
       "      <td>2.1</td>\n",
       "      <td>3.0</td>\n",
       "    </tr>\n",
       "    <tr>\n",
       "      <th>1</th>\n",
       "      <td>4.1</td>\n",
       "      <td>5.0</td>\n",
       "      <td>2.7</td>\n",
       "    </tr>\n",
       "  </tbody>\n",
       "</table>\n",
       "</div>"
      ],
      "text/plain": [
       "     0    1    2\n",
       "0  1.0  2.1  3.0\n",
       "1  4.1  5.0  2.7"
      ]
     },
     "execution_count": 119,
     "metadata": {},
     "output_type": "execute_result"
    }
   ],
   "source": [
    "df = pd.DataFrame(a2)\n",
    "df"
   ]
  },
  {
   "cell_type": "markdown",
   "id": "5b119c09",
   "metadata": {},
   "source": [
    "   ### Creating arrays from Functions"
   ]
  },
  {
   "cell_type": "code",
   "execution_count": 120,
   "id": "857fe18c",
   "metadata": {},
   "outputs": [
    {
     "data": {
      "text/plain": [
       "array([[1., 1., 1.],\n",
       "       [1., 1., 1.],\n",
       "       [1., 1., 1.],\n",
       "       [1., 1., 1.],\n",
       "       [1., 1., 1.]])"
      ]
     },
     "execution_count": 120,
     "metadata": {},
     "output_type": "execute_result"
    }
   ],
   "source": [
    "ones = np.ones((5,3))\n",
    "ones"
   ]
  },
  {
   "cell_type": "code",
   "execution_count": 121,
   "id": "f5da0562",
   "metadata": {},
   "outputs": [
    {
     "data": {
      "text/plain": [
       "numpy.ndarray"
      ]
     },
     "execution_count": 121,
     "metadata": {},
     "output_type": "execute_result"
    }
   ],
   "source": [
    "type(ones)"
   ]
  },
  {
   "cell_type": "code",
   "execution_count": 122,
   "id": "9b62e0d4",
   "metadata": {},
   "outputs": [
    {
     "data": {
      "text/plain": [
       "array([[0., 0., 0., 0., 0.],\n",
       "       [0., 0., 0., 0., 0.],\n",
       "       [0., 0., 0., 0., 0.]])"
      ]
     },
     "execution_count": 122,
     "metadata": {},
     "output_type": "execute_result"
    }
   ],
   "source": [
    "Zeros =  np.zeros((3,5))\n",
    "Zeros"
   ]
  },
  {
   "cell_type": "code",
   "execution_count": 123,
   "id": "3a4d6fe8",
   "metadata": {},
   "outputs": [
    {
     "data": {
      "text/plain": [
       "numpy.ndarray"
      ]
     },
     "execution_count": 123,
     "metadata": {},
     "output_type": "execute_result"
    }
   ],
   "source": [
    "type(Zeros)"
   ]
  },
  {
   "cell_type": "code",
   "execution_count": 124,
   "id": "99b63651",
   "metadata": {},
   "outputs": [
    {
     "data": {
      "text/plain": [
       "array([0, 2, 4, 6, 8])"
      ]
     },
     "execution_count": 124,
     "metadata": {},
     "output_type": "execute_result"
    }
   ],
   "source": [
    "## start=0, end=0, step=2\n",
    "array_range = np.arange(0,10,2)\n",
    "\n",
    "array_range"
   ]
  },
  {
   "cell_type": "code",
   "execution_count": 125,
   "id": "76277812",
   "metadata": {},
   "outputs": [
    {
     "data": {
      "text/plain": [
       "array([[0, 2, 8],\n",
       "       [9, 6, 4],\n",
       "       [9, 7, 3],\n",
       "       [3, 8, 3],\n",
       "       [0, 1, 0]])"
      ]
     },
     "execution_count": 125,
     "metadata": {},
     "output_type": "execute_result"
    }
   ],
   "source": [
    "## random numbers between 0&10 with a shape 5,3\n",
    "rand= np.random.randint(0,10, size=(5,3))\n",
    "rand"
   ]
  },
  {
   "cell_type": "code",
   "execution_count": 126,
   "id": "79f5b71e",
   "metadata": {},
   "outputs": [
    {
     "data": {
      "text/plain": [
       "array([[0.10047397, 0.4826369 , 0.61370347, 0.95124834],\n",
       "       [0.34875638, 0.27651471, 0.4465059 , 0.95791373],\n",
       "       [0.17957689, 0.14271575, 0.0835081 , 0.54723513],\n",
       "       [0.31020924, 0.28271973, 0.92099354, 0.43334216],\n",
       "       [0.41875723, 0.98622315, 0.79357   , 0.3433051 ]])"
      ]
     },
     "execution_count": 126,
     "metadata": {},
     "output_type": "execute_result"
    }
   ],
   "source": [
    "randoms= np.random.random((5,4))\n",
    "\n",
    "randoms"
   ]
  },
  {
   "cell_type": "code",
   "execution_count": 127,
   "id": "8c3b1710",
   "metadata": {},
   "outputs": [
    {
     "data": {
      "text/plain": [
       "array([[0.30033908, 0.50395514, 0.62325582, 0.65697232],\n",
       "       [0.25913577, 0.40519906, 0.66726077, 0.43950131],\n",
       "       [0.78173551, 0.68462892, 0.73667446, 0.48942286],\n",
       "       [0.95399141, 0.15373916, 0.64911885, 0.55741353],\n",
       "       [0.86853158, 0.14362802, 0.44790435, 0.65923332]])"
      ]
     },
     "execution_count": 127,
     "metadata": {},
     "output_type": "execute_result"
    }
   ],
   "source": [
    "#this works almost same as  the Above.\n",
    "\n",
    "a_rand = np.random.rand(5,4)\n",
    "a_rand"
   ]
  },
  {
   "cell_type": "code",
   "execution_count": 128,
   "id": "e406e7fd",
   "metadata": {},
   "outputs": [
    {
     "data": {
      "text/plain": [
       "array([[5, 0, 3, 3],\n",
       "       [7, 9, 3, 5],\n",
       "       [2, 4, 7, 6],\n",
       "       [8, 8, 1, 6],\n",
       "       [7, 7, 8, 1]])"
      ]
     },
     "execution_count": 128,
     "metadata": {},
     "output_type": "execute_result"
    }
   ],
   "source": [
    "### Pseudo Random Numbers\n",
    "np.random.seed(0)\n",
    "#the seed() function prevent a numpy function from generating random numbers once the seed parameter is met so that someone\n",
    "# can run the same code with generating random numbers\n",
    "\n",
    "rand_4 = np.random.randint(0,10, (5,4))\n",
    "rand_4"
   ]
  },
  {
   "cell_type": "code",
   "execution_count": 129,
   "id": "98836fc1",
   "metadata": {},
   "outputs": [
    {
     "data": {
      "text/plain": [
       "array([[0.07630829, 0.77991879, 0.43840923, 0.72346518],\n",
       "       [0.97798951, 0.53849587, 0.50112046, 0.07205113],\n",
       "       [0.26843898, 0.4998825 , 0.67923   , 0.80373904],\n",
       "       [0.38094113, 0.06593635, 0.2881456 , 0.90959353],\n",
       "       [0.21338535, 0.45212396, 0.93120602, 0.02489923]])"
      ]
     },
     "execution_count": 129,
     "metadata": {},
     "output_type": "execute_result"
    }
   ],
   "source": [
    "np.random.seed(7) #the rand numbes are static and can be shareavle\n",
    "a_rand = np.random.rand(5,4)\n",
    "a_rand"
   ]
  },
  {
   "cell_type": "markdown",
   "id": "0ea30336",
   "metadata": {},
   "source": [
    "### Viewing Arrays and Metrices "
   ]
  },
  {
   "cell_type": "code",
   "execution_count": 130,
   "id": "ba0b1019",
   "metadata": {},
   "outputs": [
    {
     "data": {
      "text/plain": [
       "array([0, 1, 2, 3, 4, 5, 6, 7, 8, 9])"
      ]
     },
     "execution_count": 130,
     "metadata": {},
     "output_type": "execute_result"
    }
   ],
   "source": [
    "## this return the Uniques Number from the random Arrays \n",
    "np.unique(rand_4)"
   ]
  },
  {
   "cell_type": "code",
   "execution_count": 131,
   "id": "19f65bfb",
   "metadata": {},
   "outputs": [
    {
     "data": {
      "text/plain": [
       "array([1, 2, 3])"
      ]
     },
     "execution_count": 131,
     "metadata": {},
     "output_type": "execute_result"
    }
   ],
   "source": [
    "a1"
   ]
  },
  {
   "cell_type": "code",
   "execution_count": 132,
   "id": "ca59054f",
   "metadata": {},
   "outputs": [
    {
     "data": {
      "text/plain": [
       "array([[1. , 2.1, 3. ],\n",
       "       [4.1, 5. , 2.7]])"
      ]
     },
     "execution_count": 132,
     "metadata": {},
     "output_type": "execute_result"
    }
   ],
   "source": [
    "a2"
   ]
  },
  {
   "cell_type": "code",
   "execution_count": 133,
   "id": "de7c3830",
   "metadata": {},
   "outputs": [
    {
     "data": {
      "text/plain": [
       "array([[[1., 2., 3.],\n",
       "        [2., 3., 2.],\n",
       "        [2., 4., 5.]],\n",
       "\n",
       "       [[1., 0., 3.],\n",
       "        [2., 3., 7.],\n",
       "        [2., 4., 6.]]])"
      ]
     },
     "execution_count": 133,
     "metadata": {},
     "output_type": "execute_result"
    }
   ],
   "source": [
    "a3"
   ]
  },
  {
   "cell_type": "markdown",
   "id": "f95fd2b2",
   "metadata": {},
   "source": [
    "#### Selecting a single array within the columns"
   ]
  },
  {
   "cell_type": "code",
   "execution_count": 134,
   "id": "3d40e8c6",
   "metadata": {},
   "outputs": [
    {
     "data": {
      "text/plain": [
       "2"
      ]
     },
     "execution_count": 134,
     "metadata": {},
     "output_type": "execute_result"
    }
   ],
   "source": [
    "a1[1]"
   ]
  },
  {
   "cell_type": "code",
   "execution_count": 135,
   "id": "4208921f",
   "metadata": {},
   "outputs": [
    {
     "data": {
      "text/plain": [
       "array([1. , 2.1, 3. ])"
      ]
     },
     "execution_count": 135,
     "metadata": {},
     "output_type": "execute_result"
    }
   ],
   "source": [
    "a2[0] # Returns the firt row"
   ]
  },
  {
   "cell_type": "code",
   "execution_count": 136,
   "id": "f550f7b7",
   "metadata": {},
   "outputs": [
    {
     "data": {
      "text/plain": [
       "array([4.1, 5. , 2.7])"
      ]
     },
     "execution_count": 136,
     "metadata": {},
     "output_type": "execute_result"
    }
   ],
   "source": [
    "a2[1] # return the second row"
   ]
  },
  {
   "cell_type": "code",
   "execution_count": 137,
   "id": "77036f75",
   "metadata": {},
   "outputs": [
    {
     "data": {
      "text/plain": [
       "array([[1. , 2.1],\n",
       "       [4.1, 5. ]])"
      ]
     },
     "execution_count": 137,
     "metadata": {},
     "output_type": "execute_result"
    }
   ],
   "source": [
    "a2[:2,:2] #return the first two values of each row"
   ]
  },
  {
   "cell_type": "code",
   "execution_count": 138,
   "id": "3bf4b080",
   "metadata": {},
   "outputs": [
    {
     "data": {
      "text/plain": [
       "array([[[1., 2., 3.],\n",
       "        [2., 3., 2.],\n",
       "        [2., 4., 5.]],\n",
       "\n",
       "       [[1., 0., 3.],\n",
       "        [2., 3., 7.],\n",
       "        [2., 4., 6.]]])"
      ]
     },
     "execution_count": 138,
     "metadata": {},
     "output_type": "execute_result"
    }
   ],
   "source": [
    "a3"
   ]
  },
  {
   "cell_type": "code",
   "execution_count": 141,
   "id": "fe0da47c",
   "metadata": {},
   "outputs": [
    {
     "data": {
      "text/plain": [
       "array([[1., 2., 3.],\n",
       "       [2., 3., 2.],\n",
       "       [2., 4., 5.]])"
      ]
     },
     "execution_count": 141,
     "metadata": {},
     "output_type": "execute_result"
    }
   ],
   "source": [
    "a3[0] # returns the entire first row"
   ]
  },
  {
   "cell_type": "code",
   "execution_count": 150,
   "id": "9227f133",
   "metadata": {},
   "outputs": [
    {
     "data": {
      "text/plain": [
       "array([1., 2., 3.])"
      ]
     },
     "execution_count": 150,
     "metadata": {},
     "output_type": "execute_result"
    }
   ],
   "source": [
    "a3[0,0] #get the second row from the first row above"
   ]
  },
  {
   "cell_type": "markdown",
   "id": "138914a9",
   "metadata": {},
   "source": [
    "#### Selecting the Entire Array"
   ]
  },
  {
   "cell_type": "code",
   "execution_count": 148,
   "id": "70c43b25",
   "metadata": {},
   "outputs": [
    {
     "data": {
      "text/plain": [
       "array([[[1., 2., 3.]]])"
      ]
     },
     "execution_count": 148,
     "metadata": {},
     "output_type": "execute_result"
    }
   ],
   "source": [
    "a3[:1,:1]  # Selecting the Enter Array to return the first cell"
   ]
  },
  {
   "cell_type": "code",
   "execution_count": 153,
   "id": "6ab5cda5",
   "metadata": {},
   "outputs": [
    {
     "data": {
      "text/plain": [
       "array([[[1., 2., 3.],\n",
       "        [2., 3., 2.]],\n",
       "\n",
       "       [[1., 0., 3.],\n",
       "        [2., 3., 7.]]])"
      ]
     },
     "execution_count": 153,
     "metadata": {},
     "output_type": "execute_result"
    }
   ],
   "source": [
    "a3[:2,:2]  # Selecting the Enter Array to return the second cell"
   ]
  },
  {
   "cell_type": "code",
   "execution_count": 154,
   "id": "e37efc3e",
   "metadata": {},
   "outputs": [
    {
     "data": {
      "text/plain": [
       "array([[[1., 2.],\n",
       "        [2., 3.]],\n",
       "\n",
       "       [[1., 0.],\n",
       "        [2., 3.]]])"
      ]
     },
     "execution_count": 154,
     "metadata": {},
     "output_type": "execute_result"
    }
   ],
   "source": [
    "a3[:2,:2,:2] ##Select the first Two Rows, and return the first two columns"
   ]
  },
  {
   "cell_type": "code",
   "execution_count": 158,
   "id": "c06edae5",
   "metadata": {},
   "outputs": [
    {
     "data": {
      "text/plain": [
       "array([[[[8, 4, 9, 0, 2],\n",
       "         [0, 7, 6, 2, 9],\n",
       "         [9, 5, 1, 0, 0],\n",
       "         [9, 1, 1, 5, 3]],\n",
       "\n",
       "        [[2, 0, 4, 8, 7],\n",
       "         [1, 4, 9, 3, 6],\n",
       "         [7, 1, 0, 2, 7],\n",
       "         [0, 0, 9, 8, 2]],\n",
       "\n",
       "        [[0, 5, 5, 0, 9],\n",
       "         [0, 8, 4, 5, 1],\n",
       "         [4, 0, 7, 2, 0],\n",
       "         [3, 9, 8, 3, 7]]],\n",
       "\n",
       "\n",
       "       [[[1, 0, 1, 4, 6],\n",
       "         [1, 0, 1, 0, 1],\n",
       "         [8, 4, 1, 6, 8],\n",
       "         [5, 2, 4, 7, 4]],\n",
       "\n",
       "        [[1, 2, 8, 5, 2],\n",
       "         [9, 6, 2, 5, 7],\n",
       "         [7, 5, 5, 6, 0],\n",
       "         [6, 4, 6, 2, 6]],\n",
       "\n",
       "        [[8, 7, 0, 5, 8],\n",
       "         [9, 7, 7, 6, 2],\n",
       "         [5, 6, 1, 9, 3],\n",
       "         [4, 0, 3, 5, 6]]]])"
      ]
     },
     "execution_count": 158,
     "metadata": {},
     "output_type": "execute_result"
    }
   ],
   "source": [
    "#2,3,4,5 array, alway count backward to get the dim\n",
    "rand_5 = np.random.randint(10,size=(2,3,4,5))\n",
    "rand_5"
   ]
  },
  {
   "cell_type": "code",
   "execution_count": null,
   "id": "183a8c79",
   "metadata": {},
   "outputs": [],
   "source": []
  },
  {
   "cell_type": "code",
   "execution_count": 166,
   "id": "f613a73a",
   "metadata": {},
   "outputs": [
    {
     "data": {
      "text/plain": [
       "array([[[8, 4, 9, 0, 2],\n",
       "        [0, 7, 6, 2, 9],\n",
       "        [9, 5, 1, 0, 0],\n",
       "        [9, 1, 1, 5, 3]],\n",
       "\n",
       "       [[2, 0, 4, 8, 7],\n",
       "        [1, 4, 9, 3, 6],\n",
       "        [7, 1, 0, 2, 7],\n",
       "        [0, 0, 9, 8, 2]],\n",
       "\n",
       "       [[0, 5, 5, 0, 9],\n",
       "        [0, 8, 4, 5, 1],\n",
       "        [4, 0, 7, 2, 0],\n",
       "        [3, 9, 8, 3, 7]]])"
      ]
     },
     "execution_count": 166,
     "metadata": {},
     "output_type": "execute_result"
    }
   ],
   "source": [
    "rand_5[0] #first index metrix(0)"
   ]
  },
  {
   "cell_type": "code",
   "execution_count": 161,
   "id": "3ff16778",
   "metadata": {},
   "outputs": [
    {
     "data": {
      "text/plain": [
       "array([[2, 0, 4, 8, 7],\n",
       "       [1, 4, 9, 3, 6],\n",
       "       [7, 1, 0, 2, 7],\n",
       "       [0, 0, 9, 8, 2]])"
      ]
     },
     "execution_count": 161,
     "metadata": {},
     "output_type": "execute_result"
    }
   ],
   "source": [
    "rand_5[0,1] ## getting the second metric from the first index metrix(0)"
   ]
  },
  {
   "cell_type": "code",
   "execution_count": 162,
   "id": "5a501456",
   "metadata": {},
   "outputs": [
    {
     "data": {
      "text/plain": [
       "array([[0, 5, 5, 0, 9],\n",
       "       [0, 8, 4, 5, 1],\n",
       "       [4, 0, 7, 2, 0],\n",
       "       [3, 9, 8, 3, 7]])"
      ]
     },
     "execution_count": 162,
     "metadata": {},
     "output_type": "execute_result"
    }
   ],
   "source": [
    "rand_5[0,2] #getting the third metric from the first index metrix(0)"
   ]
  },
  {
   "cell_type": "code",
   "execution_count": 163,
   "id": "d05fc19d",
   "metadata": {},
   "outputs": [
    {
     "data": {
      "text/plain": [
       "array([4, 0, 7, 2, 0])"
      ]
     },
     "execution_count": 163,
     "metadata": {},
     "output_type": "execute_result"
    }
   ],
   "source": [
    "rand_5[0,2,2] #getting the third row from the third metrix of the first index metrix(0)"
   ]
  },
  {
   "cell_type": "code",
   "execution_count": 164,
   "id": "109fd77b",
   "metadata": {},
   "outputs": [
    {
     "data": {
      "text/plain": [
       "array([[0, 5, 5, 0, 9],\n",
       "       [0, 8, 4, 5, 1]])"
      ]
     },
     "execution_count": 164,
     "metadata": {},
     "output_type": "execute_result"
    }
   ],
   "source": [
    "rand_5[0,2,:2]  #getting the first 2 row from the third metrix of the first index metrix(0)"
   ]
  },
  {
   "cell_type": "code",
   "execution_count": 165,
   "id": "bf2b66db",
   "metadata": {},
   "outputs": [
    {
     "data": {
      "text/plain": [
       "array([[[1, 0, 1, 4, 6],\n",
       "        [1, 0, 1, 0, 1],\n",
       "        [8, 4, 1, 6, 8],\n",
       "        [5, 2, 4, 7, 4]],\n",
       "\n",
       "       [[1, 2, 8, 5, 2],\n",
       "        [9, 6, 2, 5, 7],\n",
       "        [7, 5, 5, 6, 0],\n",
       "        [6, 4, 6, 2, 6]],\n",
       "\n",
       "       [[8, 7, 0, 5, 8],\n",
       "        [9, 7, 7, 6, 2],\n",
       "        [5, 6, 1, 9, 3],\n",
       "        [4, 0, 3, 5, 6]]])"
      ]
     },
     "execution_count": 165,
     "metadata": {},
     "output_type": "execute_result"
    }
   ],
   "source": [
    "rand_5[1] #second index metrix(1)"
   ]
  },
  {
   "cell_type": "code",
   "execution_count": 168,
   "id": "b4a4389a",
   "metadata": {},
   "outputs": [
    {
     "data": {
      "text/plain": [
       "array([4, 0, 3, 5, 6])"
      ]
     },
     "execution_count": 168,
     "metadata": {},
     "output_type": "execute_result"
    }
   ],
   "source": [
    "rand_5[1,2,3]  #getting the last row from the third metrix in the second index metix(1)"
   ]
  },
  {
   "cell_type": "code",
   "execution_count": 172,
   "id": "90af7f73",
   "metadata": {},
   "outputs": [
    {
     "data": {
      "text/plain": [
       "array([[5, 2, 4, 7, 4],\n",
       "       [6, 4, 6, 2, 6],\n",
       "       [4, 0, 3, 5, 6]])"
      ]
     },
     "execution_count": 172,
     "metadata": {},
     "output_type": "execute_result"
    }
   ],
   "source": [
    "rand_5[1,:3,-1] #select all the columns and return only the last rows"
   ]
  },
  {
   "cell_type": "code",
   "execution_count": 173,
   "id": "030fb97f",
   "metadata": {},
   "outputs": [
    {
     "data": {
      "text/plain": [
       "array([9, 6, 2, 5, 7])"
      ]
     },
     "execution_count": 173,
     "metadata": {},
     "output_type": "execute_result"
    }
   ],
   "source": [
    "rand_5[1,1,1]  #Selecting the second row from the second metrix in the second index metrix(1)"
   ]
  },
  {
   "cell_type": "code",
   "execution_count": 177,
   "id": "851b2519",
   "metadata": {},
   "outputs": [
    {
     "data": {
      "text/plain": [
       "array([[[[8, 4, 9, 0],\n",
       "         [0, 7, 6, 2],\n",
       "         [9, 5, 1, 0],\n",
       "         [9, 1, 1, 5]],\n",
       "\n",
       "        [[2, 0, 4, 8],\n",
       "         [1, 4, 9, 3],\n",
       "         [7, 1, 0, 2],\n",
       "         [0, 0, 9, 8]],\n",
       "\n",
       "        [[0, 5, 5, 0],\n",
       "         [0, 8, 4, 5],\n",
       "         [4, 0, 7, 2],\n",
       "         [3, 9, 8, 3]]],\n",
       "\n",
       "\n",
       "       [[[1, 0, 1, 4],\n",
       "         [1, 0, 1, 0],\n",
       "         [8, 4, 1, 6],\n",
       "         [5, 2, 4, 7]],\n",
       "\n",
       "        [[1, 2, 8, 5],\n",
       "         [9, 6, 2, 5],\n",
       "         [7, 5, 5, 6],\n",
       "         [6, 4, 6, 2]],\n",
       "\n",
       "        [[8, 7, 0, 5],\n",
       "         [9, 7, 7, 6],\n",
       "         [5, 6, 1, 9],\n",
       "         [4, 0, 3, 5]]]])"
      ]
     },
     "execution_count": 177,
     "metadata": {},
     "output_type": "execute_result"
    }
   ],
   "source": [
    "rand_5[:,:,:,:4]  ## Getting the first 4-Numbers of the innermost dimensions from all the index"
   ]
  },
  {
   "cell_type": "code",
   "execution_count": 178,
   "id": "0924edcc",
   "metadata": {},
   "outputs": [
    {
     "data": {
      "text/plain": [
       "array([[[[8, 4],\n",
       "         [0, 7],\n",
       "         [9, 5],\n",
       "         [9, 1]],\n",
       "\n",
       "        [[2, 0],\n",
       "         [1, 4],\n",
       "         [7, 1],\n",
       "         [0, 0]],\n",
       "\n",
       "        [[0, 5],\n",
       "         [0, 8],\n",
       "         [4, 0],\n",
       "         [3, 9]]],\n",
       "\n",
       "\n",
       "       [[[1, 0],\n",
       "         [1, 0],\n",
       "         [8, 4],\n",
       "         [5, 2]],\n",
       "\n",
       "        [[1, 2],\n",
       "         [9, 6],\n",
       "         [7, 5],\n",
       "         [6, 4]],\n",
       "\n",
       "        [[8, 7],\n",
       "         [9, 7],\n",
       "         [5, 6],\n",
       "         [4, 0]]]])"
      ]
     },
     "execution_count": 178,
     "metadata": {},
     "output_type": "execute_result"
    }
   ],
   "source": [
    "rand_5[:,:,:,:2]  ## Getting the first 2-Numbers of the innermost dimensions from all the metrix"
   ]
  },
  {
   "cell_type": "code",
   "execution_count": null,
   "id": "cd54c998",
   "metadata": {},
   "outputs": [],
   "source": []
  },
  {
   "cell_type": "code",
   "execution_count": null,
   "id": "51cd6c90",
   "metadata": {},
   "outputs": [],
   "source": []
  },
  {
   "cell_type": "code",
   "execution_count": null,
   "id": "c26e425d",
   "metadata": {},
   "outputs": [],
   "source": []
  },
  {
   "cell_type": "code",
   "execution_count": null,
   "id": "eefc2d49",
   "metadata": {},
   "outputs": [],
   "source": []
  }
 ],
 "metadata": {
  "kernelspec": {
   "display_name": "Python 3 (ipykernel)",
   "language": "python",
   "name": "python3"
  },
  "language_info": {
   "codemirror_mode": {
    "name": "ipython",
    "version": 3
   },
   "file_extension": ".py",
   "mimetype": "text/x-python",
   "name": "python",
   "nbconvert_exporter": "python",
   "pygments_lexer": "ipython3",
   "version": "3.10.4"
  },
  "toc": {
   "base_numbering": 1,
   "nav_menu": {},
   "number_sections": true,
   "sideBar": true,
   "skip_h1_title": false,
   "title_cell": "Table of Contents",
   "title_sidebar": "Contents",
   "toc_cell": false,
   "toc_position": {},
   "toc_section_display": true,
   "toc_window_display": false
  },
  "varInspector": {
   "cols": {
    "lenName": 16,
    "lenType": 16,
    "lenVar": 40
   },
   "kernels_config": {
    "python": {
     "delete_cmd_postfix": "",
     "delete_cmd_prefix": "del ",
     "library": "var_list.py",
     "varRefreshCmd": "print(var_dic_list())"
    },
    "r": {
     "delete_cmd_postfix": ") ",
     "delete_cmd_prefix": "rm(",
     "library": "var_list.r",
     "varRefreshCmd": "cat(var_dic_list()) "
    }
   },
   "types_to_exclude": [
    "module",
    "function",
    "builtin_function_or_method",
    "instance",
    "_Feature"
   ],
   "window_display": false
  }
 },
 "nbformat": 4,
 "nbformat_minor": 5
}
