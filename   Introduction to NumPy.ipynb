{
 "cells": [
  {
   "cell_type": "code",
   "execution_count": 179,
   "id": "3b5fbc90",
   "metadata": {},
   "outputs": [],
   "source": [
    "import numpy as np"
   ]
  },
  {
   "cell_type": "markdown",
   "id": "30f76f2b",
   "metadata": {},
   "source": [
    "###  Attributes and Datatypes"
   ]
  },
  {
   "cell_type": "code",
   "execution_count": 180,
   "id": "a94f2be2",
   "metadata": {},
   "outputs": [],
   "source": [
    "### The Main DataType of Numpy is ndarray."
   ]
  },
  {
   "cell_type": "code",
   "execution_count": 181,
   "id": "ef2dfb93",
   "metadata": {},
   "outputs": [
    {
     "data": {
      "text/plain": [
       "array([1, 2, 3])"
      ]
     },
     "execution_count": 181,
     "metadata": {},
     "output_type": "execute_result"
    }
   ],
   "source": [
    "a1 =  np.array([1,2,3])\n",
    "\n",
    "a1"
   ]
  },
  {
   "cell_type": "code",
   "execution_count": 182,
   "id": "5e7ea4f3",
   "metadata": {},
   "outputs": [
    {
     "data": {
      "text/plain": [
       "numpy.ndarray"
      ]
     },
     "execution_count": 182,
     "metadata": {},
     "output_type": "execute_result"
    }
   ],
   "source": [
    "type(al)"
   ]
  },
  {
   "cell_type": "code",
   "execution_count": 183,
   "id": "ddd0b42e",
   "metadata": {},
   "outputs": [
    {
     "data": {
      "text/plain": [
       "array([[1. , 2.1, 3. ],\n",
       "       [4.1, 5. , 2.7]])"
      ]
     },
     "execution_count": 183,
     "metadata": {},
     "output_type": "execute_result"
    }
   ],
   "source": [
    "a2 =  np.array([[1,2.1,3.0],\n",
    "                [4.1,5,2.7]])\n",
    "a2"
   ]
  },
  {
   "cell_type": "code",
   "execution_count": 184,
   "id": "1c89b149",
   "metadata": {},
   "outputs": [
    {
     "data": {
      "text/plain": [
       "array([[[1., 2., 3.],\n",
       "        [2., 3., 2.],\n",
       "        [2., 4., 5.]],\n",
       "\n",
       "       [[1., 0., 3.],\n",
       "        [2., 3., 7.],\n",
       "        [2., 4., 6.]]])"
      ]
     },
     "execution_count": 184,
     "metadata": {},
     "output_type": "execute_result"
    }
   ],
   "source": [
    "a3 = np.array([\n",
    "    [[1,2,3],[2.0,3.0,2],[2,4,5]],\n",
    "                \n",
    "     [[1,0,3],[2.0,3.0,7],[2,4,6]]\n",
    "           ])\n",
    "\n",
    "a3"
   ]
  },
  {
   "cell_type": "code",
   "execution_count": 185,
   "id": "15816470",
   "metadata": {},
   "outputs": [
    {
     "data": {
      "text/plain": [
       "(3, 6, 18)"
      ]
     },
     "execution_count": 185,
     "metadata": {},
     "output_type": "execute_result"
    }
   ],
   "source": [
    "a1.size, a2.size, a3.size"
   ]
  },
  {
   "cell_type": "code",
   "execution_count": 186,
   "id": "84411d6a",
   "metadata": {},
   "outputs": [
    {
     "data": {
      "text/plain": [
       "((3,), (2, 3), (2, 3, 3))"
      ]
     },
     "execution_count": 186,
     "metadata": {},
     "output_type": "execute_result"
    }
   ],
   "source": [
    "a1.shape, a2.shape, a3.shape"
   ]
  },
  {
   "cell_type": "code",
   "execution_count": 187,
   "id": "54f9a0ca",
   "metadata": {},
   "outputs": [
    {
     "data": {
      "text/plain": [
       "(1, 2, 3)"
      ]
     },
     "execution_count": 187,
     "metadata": {},
     "output_type": "execute_result"
    }
   ],
   "source": [
    "a1.ndim, a2.ndim, a3.ndim"
   ]
  },
  {
   "cell_type": "code",
   "execution_count": 188,
   "id": "142a6b16",
   "metadata": {},
   "outputs": [
    {
     "data": {
      "text/plain": [
       "(dtype('int32'), dtype('float64'), dtype('float64'))"
      ]
     },
     "execution_count": 188,
     "metadata": {},
     "output_type": "execute_result"
    }
   ],
   "source": [
    "a1.dtype, a2.dtype, a3.dtype"
   ]
  },
  {
   "cell_type": "code",
   "execution_count": 189,
   "id": "233be6b2",
   "metadata": {},
   "outputs": [
    {
     "data": {
      "text/plain": [
       "(numpy.ndarray, numpy.ndarray, numpy.ndarray)"
      ]
     },
     "execution_count": 189,
     "metadata": {},
     "output_type": "execute_result"
    }
   ],
   "source": [
    "type(a1), type(a2), type(a3)"
   ]
  },
  {
   "cell_type": "code",
   "execution_count": 190,
   "id": "a4a019bf",
   "metadata": {},
   "outputs": [],
   "source": [
    "import pandas as pd "
   ]
  },
  {
   "cell_type": "code",
   "execution_count": 191,
   "id": "680569f9",
   "metadata": {},
   "outputs": [
    {
     "data": {
      "text/html": [
       "<div>\n",
       "<style scoped>\n",
       "    .dataframe tbody tr th:only-of-type {\n",
       "        vertical-align: middle;\n",
       "    }\n",
       "\n",
       "    .dataframe tbody tr th {\n",
       "        vertical-align: top;\n",
       "    }\n",
       "\n",
       "    .dataframe thead th {\n",
       "        text-align: right;\n",
       "    }\n",
       "</style>\n",
       "<table border=\"1\" class=\"dataframe\">\n",
       "  <thead>\n",
       "    <tr style=\"text-align: right;\">\n",
       "      <th></th>\n",
       "      <th>0</th>\n",
       "      <th>1</th>\n",
       "      <th>2</th>\n",
       "    </tr>\n",
       "  </thead>\n",
       "  <tbody>\n",
       "    <tr>\n",
       "      <th>0</th>\n",
       "      <td>1.0</td>\n",
       "      <td>2.1</td>\n",
       "      <td>3.0</td>\n",
       "    </tr>\n",
       "    <tr>\n",
       "      <th>1</th>\n",
       "      <td>4.1</td>\n",
       "      <td>5.0</td>\n",
       "      <td>2.7</td>\n",
       "    </tr>\n",
       "  </tbody>\n",
       "</table>\n",
       "</div>"
      ],
      "text/plain": [
       "     0    1    2\n",
       "0  1.0  2.1  3.0\n",
       "1  4.1  5.0  2.7"
      ]
     },
     "execution_count": 191,
     "metadata": {},
     "output_type": "execute_result"
    }
   ],
   "source": [
    "df = pd.DataFrame(a2)\n",
    "df"
   ]
  },
  {
   "cell_type": "markdown",
   "id": "146b18c7",
   "metadata": {},
   "source": [
    "   ### Creating arrays from Functions"
   ]
  },
  {
   "cell_type": "code",
   "execution_count": 192,
   "id": "127afc49",
   "metadata": {},
   "outputs": [
    {
     "data": {
      "text/plain": [
       "array([[1., 1., 1.],\n",
       "       [1., 1., 1.],\n",
       "       [1., 1., 1.],\n",
       "       [1., 1., 1.],\n",
       "       [1., 1., 1.]])"
      ]
     },
     "execution_count": 192,
     "metadata": {},
     "output_type": "execute_result"
    }
   ],
   "source": [
    "ones = np.ones((5,3))\n",
    "ones"
   ]
  },
  {
   "cell_type": "code",
   "execution_count": 193,
   "id": "1c327ac4",
   "metadata": {},
   "outputs": [
    {
     "data": {
      "text/plain": [
       "numpy.ndarray"
      ]
     },
     "execution_count": 193,
     "metadata": {},
     "output_type": "execute_result"
    }
   ],
   "source": [
    "type(ones)"
   ]
  },
  {
   "cell_type": "code",
   "execution_count": 194,
   "id": "4a09f4c2",
   "metadata": {},
   "outputs": [
    {
     "data": {
      "text/plain": [
       "array([[0., 0., 0., 0., 0.],\n",
       "       [0., 0., 0., 0., 0.],\n",
       "       [0., 0., 0., 0., 0.]])"
      ]
     },
     "execution_count": 194,
     "metadata": {},
     "output_type": "execute_result"
    }
   ],
   "source": [
    "Zeros =  np.zeros((3,5))\n",
    "Zeros"
   ]
  },
  {
   "cell_type": "code",
   "execution_count": 195,
   "id": "8d360a48",
   "metadata": {},
   "outputs": [
    {
     "data": {
      "text/plain": [
       "numpy.ndarray"
      ]
     },
     "execution_count": 195,
     "metadata": {},
     "output_type": "execute_result"
    }
   ],
   "source": [
    "type(Zeros)"
   ]
  },
  {
   "cell_type": "code",
   "execution_count": 196,
   "id": "d849d49f",
   "metadata": {},
   "outputs": [
    {
     "data": {
      "text/plain": [
       "array([0, 2, 4, 6, 8])"
      ]
     },
     "execution_count": 196,
     "metadata": {},
     "output_type": "execute_result"
    }
   ],
   "source": [
    "## start=0, end=0, step=2\n",
    "array_range = np.arange(0,10,2)\n",
    "\n",
    "array_range"
   ]
  },
  {
   "cell_type": "code",
   "execution_count": 197,
   "id": "e90afa2e",
   "metadata": {},
   "outputs": [
    {
     "data": {
      "text/plain": [
       "array([[4, 0, 4],\n",
       "       [1, 5, 2],\n",
       "       [4, 8, 7],\n",
       "       [5, 7, 5],\n",
       "       [3, 7, 6]])"
      ]
     },
     "execution_count": 197,
     "metadata": {},
     "output_type": "execute_result"
    }
   ],
   "source": [
    "## random numbers between 0&10 with a shape 5,3\n",
    "rand= np.random.randint(0,10, size=(5,3))\n",
    "rand"
   ]
  },
  {
   "cell_type": "code",
   "execution_count": 198,
   "id": "a6a12b41",
   "metadata": {},
   "outputs": [
    {
     "data": {
      "text/plain": [
       "array([[0.56505187, 0.3038221 , 0.48092528, 0.3150298 ],\n",
       "       [0.03802221, 0.56894916, 0.98576413, 0.37323235],\n",
       "       [0.67976854, 0.12209437, 0.09265119, 0.63295346],\n",
       "       [0.28088024, 0.27140348, 0.89021819, 0.20350881],\n",
       "       [0.29111026, 0.54722999, 0.71629064, 0.51835422]])"
      ]
     },
     "execution_count": 198,
     "metadata": {},
     "output_type": "execute_result"
    }
   ],
   "source": [
    "randoms= np.random.random((5,4))\n",
    "\n",
    "randoms"
   ]
  },
  {
   "cell_type": "code",
   "execution_count": 199,
   "id": "4036d09c",
   "metadata": {},
   "outputs": [
    {
     "data": {
      "text/plain": [
       "array([[0.7335823 , 0.05897287, 0.58623112, 0.58279402],\n",
       "       [0.6280577 , 0.71518211, 0.24324772, 0.72598572],\n",
       "       [0.97045799, 0.37776588, 0.16968004, 0.3548634 ],\n",
       "       [0.60486355, 0.56297084, 0.62413032, 0.69169301],\n",
       "       [0.43177954, 0.1799175 , 0.61705049, 0.42296652]])"
      ]
     },
     "execution_count": 199,
     "metadata": {},
     "output_type": "execute_result"
    }
   ],
   "source": [
    "#this works almost same as  the Above.\n",
    "\n",
    "a_rand = np.random.rand(5,4)\n",
    "a_rand"
   ]
  },
  {
   "cell_type": "code",
   "execution_count": 200,
   "id": "9a54b1c3",
   "metadata": {},
   "outputs": [
    {
     "data": {
      "text/plain": [
       "array([[5, 0, 3, 3],\n",
       "       [7, 9, 3, 5],\n",
       "       [2, 4, 7, 6],\n",
       "       [8, 8, 1, 6],\n",
       "       [7, 7, 8, 1]])"
      ]
     },
     "execution_count": 200,
     "metadata": {},
     "output_type": "execute_result"
    }
   ],
   "source": [
    "### Pseudo Random Numbers\n",
    "np.random.seed(0)\n",
    "#the seed() function prevent a numpy function from generating random numbers once the seed parameter is met so that someone\n",
    "# can run the same code with generating random numbers\n",
    "\n",
    "rand_4 = np.random.randint(0,10, (5,4))\n",
    "rand_4"
   ]
  },
  {
   "cell_type": "code",
   "execution_count": 201,
   "id": "7765b3e5",
   "metadata": {},
   "outputs": [
    {
     "data": {
      "text/plain": [
       "array([[0.07630829, 0.77991879, 0.43840923, 0.72346518],\n",
       "       [0.97798951, 0.53849587, 0.50112046, 0.07205113],\n",
       "       [0.26843898, 0.4998825 , 0.67923   , 0.80373904],\n",
       "       [0.38094113, 0.06593635, 0.2881456 , 0.90959353],\n",
       "       [0.21338535, 0.45212396, 0.93120602, 0.02489923]])"
      ]
     },
     "execution_count": 201,
     "metadata": {},
     "output_type": "execute_result"
    }
   ],
   "source": [
    "np.random.seed(7) #the rand numbes are static and can be shareavle\n",
    "a_rand = np.random.rand(5,4)\n",
    "a_rand"
   ]
  },
  {
   "cell_type": "markdown",
   "id": "c0e270f4",
   "metadata": {},
   "source": [
    "### Viewing Arrays and Metrices "
   ]
  },
  {
   "cell_type": "code",
   "execution_count": 202,
   "id": "d2529113",
   "metadata": {},
   "outputs": [
    {
     "data": {
      "text/plain": [
       "array([0, 1, 2, 3, 4, 5, 6, 7, 8, 9])"
      ]
     },
     "execution_count": 202,
     "metadata": {},
     "output_type": "execute_result"
    }
   ],
   "source": [
    "## this return the Uniques Number from the random Arrays \n",
    "np.unique(rand_4)"
   ]
  },
  {
   "cell_type": "code",
   "execution_count": 203,
   "id": "b8b50694",
   "metadata": {},
   "outputs": [
    {
     "data": {
      "text/plain": [
       "array([1, 2, 3])"
      ]
     },
     "execution_count": 203,
     "metadata": {},
     "output_type": "execute_result"
    }
   ],
   "source": [
    "a1"
   ]
  },
  {
   "cell_type": "code",
   "execution_count": 204,
   "id": "75f04e68",
   "metadata": {},
   "outputs": [
    {
     "data": {
      "text/plain": [
       "array([[1. , 2.1, 3. ],\n",
       "       [4.1, 5. , 2.7]])"
      ]
     },
     "execution_count": 204,
     "metadata": {},
     "output_type": "execute_result"
    }
   ],
   "source": [
    "a2"
   ]
  },
  {
   "cell_type": "code",
   "execution_count": 205,
   "id": "5d35c2b7",
   "metadata": {},
   "outputs": [
    {
     "data": {
      "text/plain": [
       "array([[[1., 2., 3.],\n",
       "        [2., 3., 2.],\n",
       "        [2., 4., 5.]],\n",
       "\n",
       "       [[1., 0., 3.],\n",
       "        [2., 3., 7.],\n",
       "        [2., 4., 6.]]])"
      ]
     },
     "execution_count": 205,
     "metadata": {},
     "output_type": "execute_result"
    }
   ],
   "source": [
    "a3"
   ]
  },
  {
   "cell_type": "markdown",
   "id": "3e6de963",
   "metadata": {},
   "source": [
    "#### Selecting a single array within the columns"
   ]
  },
  {
   "cell_type": "code",
   "execution_count": 206,
   "id": "d62f065e",
   "metadata": {},
   "outputs": [
    {
     "data": {
      "text/plain": [
       "2"
      ]
     },
     "execution_count": 206,
     "metadata": {},
     "output_type": "execute_result"
    }
   ],
   "source": [
    "a1[1]"
   ]
  },
  {
   "cell_type": "code",
   "execution_count": 207,
   "id": "aeb9e775",
   "metadata": {},
   "outputs": [
    {
     "data": {
      "text/plain": [
       "array([1. , 2.1, 3. ])"
      ]
     },
     "execution_count": 207,
     "metadata": {},
     "output_type": "execute_result"
    }
   ],
   "source": [
    "a2[0] # Returns the firt row"
   ]
  },
  {
   "cell_type": "code",
   "execution_count": 208,
   "id": "466d1974",
   "metadata": {},
   "outputs": [
    {
     "data": {
      "text/plain": [
       "array([4.1, 5. , 2.7])"
      ]
     },
     "execution_count": 208,
     "metadata": {},
     "output_type": "execute_result"
    }
   ],
   "source": [
    "a2[1] # return the second row"
   ]
  },
  {
   "cell_type": "code",
   "execution_count": 209,
   "id": "7bda2bfa",
   "metadata": {},
   "outputs": [
    {
     "data": {
      "text/plain": [
       "array([[1. , 2.1],\n",
       "       [4.1, 5. ]])"
      ]
     },
     "execution_count": 209,
     "metadata": {},
     "output_type": "execute_result"
    }
   ],
   "source": [
    "a2[:2,:2] #return the first two values of each row"
   ]
  },
  {
   "cell_type": "code",
   "execution_count": 210,
   "id": "14e5e431",
   "metadata": {},
   "outputs": [
    {
     "data": {
      "text/plain": [
       "array([[[1., 2., 3.],\n",
       "        [2., 3., 2.],\n",
       "        [2., 4., 5.]],\n",
       "\n",
       "       [[1., 0., 3.],\n",
       "        [2., 3., 7.],\n",
       "        [2., 4., 6.]]])"
      ]
     },
     "execution_count": 210,
     "metadata": {},
     "output_type": "execute_result"
    }
   ],
   "source": [
    "a3"
   ]
  },
  {
   "cell_type": "code",
   "execution_count": 211,
   "id": "9a19c9e5",
   "metadata": {},
   "outputs": [
    {
     "data": {
      "text/plain": [
       "array([[1., 2., 3.],\n",
       "       [2., 3., 2.],\n",
       "       [2., 4., 5.]])"
      ]
     },
     "execution_count": 211,
     "metadata": {},
     "output_type": "execute_result"
    }
   ],
   "source": [
    "a3[0] # returns the entire first row"
   ]
  },
  {
   "cell_type": "code",
   "execution_count": 212,
   "id": "aa0c3143",
   "metadata": {},
   "outputs": [
    {
     "data": {
      "text/plain": [
       "array([1., 2., 3.])"
      ]
     },
     "execution_count": 212,
     "metadata": {},
     "output_type": "execute_result"
    }
   ],
   "source": [
    "a3[0,0] #get the second row from the first row above"
   ]
  },
  {
   "cell_type": "code",
   "execution_count": 236,
   "id": "e3d7be98",
   "metadata": {},
   "outputs": [
    {
     "data": {
      "text/plain": [
       "2.0"
      ]
     },
     "execution_count": 236,
     "metadata": {},
     "output_type": "execute_result"
    }
   ],
   "source": [
    "a3[0,2,0] # Selecting  the last value from the last row in the first index metrix [0]"
   ]
  },
  {
   "cell_type": "markdown",
   "id": "cd8a07ea",
   "metadata": {},
   "source": [
    "#### Selecting the Entire Array"
   ]
  },
  {
   "cell_type": "code",
   "execution_count": 213,
   "id": "473d0c04",
   "metadata": {},
   "outputs": [
    {
     "data": {
      "text/plain": [
       "array([[[1., 2., 3.]]])"
      ]
     },
     "execution_count": 213,
     "metadata": {},
     "output_type": "execute_result"
    }
   ],
   "source": [
    "a3[:1,:1]  # Selecting the Enter Array to return the first cell"
   ]
  },
  {
   "cell_type": "code",
   "execution_count": 214,
   "id": "a947dead",
   "metadata": {},
   "outputs": [
    {
     "data": {
      "text/plain": [
       "array([[[1., 2., 3.],\n",
       "        [2., 3., 2.]],\n",
       "\n",
       "       [[1., 0., 3.],\n",
       "        [2., 3., 7.]]])"
      ]
     },
     "execution_count": 214,
     "metadata": {},
     "output_type": "execute_result"
    }
   ],
   "source": [
    "a3[:2,:2]  # Selecting the Enter Array to return the second cell"
   ]
  },
  {
   "cell_type": "code",
   "execution_count": 215,
   "id": "7b46b580",
   "metadata": {},
   "outputs": [
    {
     "data": {
      "text/plain": [
       "array([[[1., 2.],\n",
       "        [2., 3.]],\n",
       "\n",
       "       [[1., 0.],\n",
       "        [2., 3.]]])"
      ]
     },
     "execution_count": 215,
     "metadata": {},
     "output_type": "execute_result"
    }
   ],
   "source": [
    "a3[:2,:2,:2] ##Select the first Two Rows, and return the first two columns"
   ]
  },
  {
   "cell_type": "code",
   "execution_count": 216,
   "id": "62ab5c19",
   "metadata": {},
   "outputs": [
    {
     "data": {
      "text/plain": [
       "array([[[[0, 2, 8, 9, 6],\n",
       "         [4, 9, 7, 3, 3],\n",
       "         [8, 3, 0, 1, 0],\n",
       "         [0, 6, 7, 7, 9]],\n",
       "\n",
       "        [[3, 0, 7, 7, 7],\n",
       "         [0, 5, 4, 3, 1],\n",
       "         [3, 1, 3, 4, 3],\n",
       "         [1, 9, 5, 9, 1]],\n",
       "\n",
       "        [[2, 3, 2, 2, 5],\n",
       "         [7, 3, 0, 9, 9],\n",
       "         [3, 4, 5, 3, 0],\n",
       "         [4, 8, 6, 7, 2]]],\n",
       "\n",
       "\n",
       "       [[[7, 3, 8, 6, 6],\n",
       "         [5, 6, 5, 7, 1],\n",
       "         [5, 4, 4, 9, 9],\n",
       "         [0, 6, 2, 6, 8]],\n",
       "\n",
       "        [[2, 4, 1, 6, 1],\n",
       "         [5, 1, 6, 9, 8],\n",
       "         [6, 5, 9, 7, 5],\n",
       "         [4, 9, 6, 8, 1]],\n",
       "\n",
       "        [[5, 5, 8, 3, 7],\n",
       "         [7, 9, 4, 7, 5],\n",
       "         [9, 6, 2, 0, 5],\n",
       "         [3, 0, 5, 7, 1]]]])"
      ]
     },
     "execution_count": 216,
     "metadata": {},
     "output_type": "execute_result"
    }
   ],
   "source": [
    "#2,3,4,5 array, alway count backward to get the dim\n",
    "rand_5 = np.random.randint(10,size=(2,3,4,5))\n",
    "rand_5"
   ]
  },
  {
   "cell_type": "code",
   "execution_count": null,
   "id": "0192ca16",
   "metadata": {},
   "outputs": [],
   "source": []
  },
  {
   "cell_type": "code",
   "execution_count": 217,
   "id": "aa45c1a7",
   "metadata": {},
   "outputs": [
    {
     "data": {
      "text/plain": [
       "array([[[0, 2, 8, 9, 6],\n",
       "        [4, 9, 7, 3, 3],\n",
       "        [8, 3, 0, 1, 0],\n",
       "        [0, 6, 7, 7, 9]],\n",
       "\n",
       "       [[3, 0, 7, 7, 7],\n",
       "        [0, 5, 4, 3, 1],\n",
       "        [3, 1, 3, 4, 3],\n",
       "        [1, 9, 5, 9, 1]],\n",
       "\n",
       "       [[2, 3, 2, 2, 5],\n",
       "        [7, 3, 0, 9, 9],\n",
       "        [3, 4, 5, 3, 0],\n",
       "        [4, 8, 6, 7, 2]]])"
      ]
     },
     "execution_count": 217,
     "metadata": {},
     "output_type": "execute_result"
    }
   ],
   "source": [
    "rand_5[0] #first index metrix(0)"
   ]
  },
  {
   "cell_type": "code",
   "execution_count": 218,
   "id": "a9982948",
   "metadata": {},
   "outputs": [
    {
     "data": {
      "text/plain": [
       "array([[3, 0, 7, 7, 7],\n",
       "       [0, 5, 4, 3, 1],\n",
       "       [3, 1, 3, 4, 3],\n",
       "       [1, 9, 5, 9, 1]])"
      ]
     },
     "execution_count": 218,
     "metadata": {},
     "output_type": "execute_result"
    }
   ],
   "source": [
    "rand_5[0,1] ## getting the second metric from the first index metrix(0)"
   ]
  },
  {
   "cell_type": "code",
   "execution_count": 219,
   "id": "7cf76ae5",
   "metadata": {},
   "outputs": [
    {
     "data": {
      "text/plain": [
       "array([[2, 3, 2, 2, 5],\n",
       "       [7, 3, 0, 9, 9],\n",
       "       [3, 4, 5, 3, 0],\n",
       "       [4, 8, 6, 7, 2]])"
      ]
     },
     "execution_count": 219,
     "metadata": {},
     "output_type": "execute_result"
    }
   ],
   "source": [
    "rand_5[0,2] #getting the third metric from the first index metrix(0)"
   ]
  },
  {
   "cell_type": "code",
   "execution_count": 220,
   "id": "46731488",
   "metadata": {},
   "outputs": [
    {
     "data": {
      "text/plain": [
       "array([3, 4, 5, 3, 0])"
      ]
     },
     "execution_count": 220,
     "metadata": {},
     "output_type": "execute_result"
    }
   ],
   "source": [
    "rand_5[0,2,2] #getting the third row from the third metrix of the first index metrix(0)"
   ]
  },
  {
   "cell_type": "code",
   "execution_count": 221,
   "id": "8e305123",
   "metadata": {},
   "outputs": [
    {
     "data": {
      "text/plain": [
       "array([[2, 3, 2, 2, 5],\n",
       "       [7, 3, 0, 9, 9]])"
      ]
     },
     "execution_count": 221,
     "metadata": {},
     "output_type": "execute_result"
    }
   ],
   "source": [
    "rand_5[0,2,:2]  #getting the first 2 row from the third metrix of the first index metrix(0)"
   ]
  },
  {
   "cell_type": "code",
   "execution_count": 222,
   "id": "09dd636c",
   "metadata": {},
   "outputs": [
    {
     "data": {
      "text/plain": [
       "array([[[7, 3, 8, 6, 6],\n",
       "        [5, 6, 5, 7, 1],\n",
       "        [5, 4, 4, 9, 9],\n",
       "        [0, 6, 2, 6, 8]],\n",
       "\n",
       "       [[2, 4, 1, 6, 1],\n",
       "        [5, 1, 6, 9, 8],\n",
       "        [6, 5, 9, 7, 5],\n",
       "        [4, 9, 6, 8, 1]],\n",
       "\n",
       "       [[5, 5, 8, 3, 7],\n",
       "        [7, 9, 4, 7, 5],\n",
       "        [9, 6, 2, 0, 5],\n",
       "        [3, 0, 5, 7, 1]]])"
      ]
     },
     "execution_count": 222,
     "metadata": {},
     "output_type": "execute_result"
    }
   ],
   "source": [
    "rand_5[1] #second index metrix(1)"
   ]
  },
  {
   "cell_type": "code",
   "execution_count": 223,
   "id": "8f129497",
   "metadata": {},
   "outputs": [
    {
     "data": {
      "text/plain": [
       "array([3, 0, 5, 7, 1])"
      ]
     },
     "execution_count": 223,
     "metadata": {},
     "output_type": "execute_result"
    }
   ],
   "source": [
    "rand_5[1,2,3]  #getting the last row from the third metrix in the second index metix(1)"
   ]
  },
  {
   "cell_type": "code",
   "execution_count": 224,
   "id": "65c03dbf",
   "metadata": {},
   "outputs": [
    {
     "data": {
      "text/plain": [
       "array([[0, 6, 2, 6, 8],\n",
       "       [4, 9, 6, 8, 1],\n",
       "       [3, 0, 5, 7, 1]])"
      ]
     },
     "execution_count": 224,
     "metadata": {},
     "output_type": "execute_result"
    }
   ],
   "source": [
    "rand_5[1,:3,-1] #select all the columns and return only the last rows"
   ]
  },
  {
   "cell_type": "code",
   "execution_count": 225,
   "id": "8dbf9679",
   "metadata": {},
   "outputs": [
    {
     "data": {
      "text/plain": [
       "array([5, 1, 6, 9, 8])"
      ]
     },
     "execution_count": 225,
     "metadata": {},
     "output_type": "execute_result"
    }
   ],
   "source": [
    "rand_5[1,1,1]  #Selecting the second row from the second metrix in the second index metrix(1)"
   ]
  },
  {
   "cell_type": "code",
   "execution_count": 226,
   "id": "c30b687a",
   "metadata": {},
   "outputs": [
    {
     "data": {
      "text/plain": [
       "array([[[[0, 2, 8, 9],\n",
       "         [4, 9, 7, 3],\n",
       "         [8, 3, 0, 1],\n",
       "         [0, 6, 7, 7]],\n",
       "\n",
       "        [[3, 0, 7, 7],\n",
       "         [0, 5, 4, 3],\n",
       "         [3, 1, 3, 4],\n",
       "         [1, 9, 5, 9]],\n",
       "\n",
       "        [[2, 3, 2, 2],\n",
       "         [7, 3, 0, 9],\n",
       "         [3, 4, 5, 3],\n",
       "         [4, 8, 6, 7]]],\n",
       "\n",
       "\n",
       "       [[[7, 3, 8, 6],\n",
       "         [5, 6, 5, 7],\n",
       "         [5, 4, 4, 9],\n",
       "         [0, 6, 2, 6]],\n",
       "\n",
       "        [[2, 4, 1, 6],\n",
       "         [5, 1, 6, 9],\n",
       "         [6, 5, 9, 7],\n",
       "         [4, 9, 6, 8]],\n",
       "\n",
       "        [[5, 5, 8, 3],\n",
       "         [7, 9, 4, 7],\n",
       "         [9, 6, 2, 0],\n",
       "         [3, 0, 5, 7]]]])"
      ]
     },
     "execution_count": 226,
     "metadata": {},
     "output_type": "execute_result"
    }
   ],
   "source": [
    "rand_5[:,:,:,:4]  ## Getting the first 4-Numbers of the innermost dimensions from all the index"
   ]
  },
  {
   "cell_type": "code",
   "execution_count": 227,
   "id": "da74e110",
   "metadata": {},
   "outputs": [
    {
     "data": {
      "text/plain": [
       "array([[[[0, 2],\n",
       "         [4, 9],\n",
       "         [8, 3],\n",
       "         [0, 6]],\n",
       "\n",
       "        [[3, 0],\n",
       "         [0, 5],\n",
       "         [3, 1],\n",
       "         [1, 9]],\n",
       "\n",
       "        [[2, 3],\n",
       "         [7, 3],\n",
       "         [3, 4],\n",
       "         [4, 8]]],\n",
       "\n",
       "\n",
       "       [[[7, 3],\n",
       "         [5, 6],\n",
       "         [5, 4],\n",
       "         [0, 6]],\n",
       "\n",
       "        [[2, 4],\n",
       "         [5, 1],\n",
       "         [6, 5],\n",
       "         [4, 9]],\n",
       "\n",
       "        [[5, 5],\n",
       "         [7, 9],\n",
       "         [9, 6],\n",
       "         [3, 0]]]])"
      ]
     },
     "execution_count": 227,
     "metadata": {},
     "output_type": "execute_result"
    }
   ],
   "source": [
    "rand_5[:,:,:,:2]  ## Getting the first 2-Numbers of the innermost dimensions from all the metrix"
   ]
  },
  {
   "cell_type": "code",
   "execution_count": 230,
   "id": "b246b3e4",
   "metadata": {},
   "outputs": [
    {
     "data": {
      "text/plain": [
       "array([[[[0, 2, 8, 9, 6],\n",
       "         [4, 9, 7, 3, 3],\n",
       "         [8, 3, 0, 1, 0],\n",
       "         [0, 6, 7, 7, 9]],\n",
       "\n",
       "        [[3, 0, 7, 7, 7],\n",
       "         [0, 5, 4, 3, 1],\n",
       "         [3, 1, 3, 4, 3],\n",
       "         [1, 9, 5, 9, 1]],\n",
       "\n",
       "        [[2, 3, 2, 2, 5],\n",
       "         [7, 3, 0, 9, 9],\n",
       "         [3, 4, 5, 3, 0],\n",
       "         [4, 8, 6, 7, 2]]],\n",
       "\n",
       "\n",
       "       [[[7, 3, 8, 6, 6],\n",
       "         [5, 6, 5, 7, 1],\n",
       "         [5, 4, 4, 9, 9],\n",
       "         [0, 6, 2, 6, 8]],\n",
       "\n",
       "        [[2, 4, 1, 6, 1],\n",
       "         [5, 1, 6, 9, 8],\n",
       "         [6, 5, 9, 7, 5],\n",
       "         [4, 9, 6, 8, 1]],\n",
       "\n",
       "        [[5, 5, 8, 3, 7],\n",
       "         [7, 9, 4, 7, 5],\n",
       "         [9, 6, 2, 0, 5],\n",
       "         [3, 0, 5, 7, 1]]]])"
      ]
     },
     "execution_count": 230,
     "metadata": {},
     "output_type": "execute_result"
    }
   ],
   "source": [
    "rand_5"
   ]
  },
  {
   "cell_type": "code",
   "execution_count": 298,
   "id": "4d8d376b",
   "metadata": {},
   "outputs": [
    {
     "data": {
      "text/plain": [
       "array([[5, 5, 8, 3, 7],\n",
       "       [7, 9, 4, 7, 5],\n",
       "       [9, 6, 2, 0, 5],\n",
       "       [3, 0, 5, 7, 1]])"
      ]
     },
     "execution_count": 298,
     "metadata": {},
     "output_type": "execute_result"
    }
   ],
   "source": [
    "rand_5[1,2] #third metrix in the second index metrix [1]"
   ]
  },
  {
   "cell_type": "code",
   "execution_count": 238,
   "id": "248eb49f",
   "metadata": {},
   "outputs": [
    {
     "data": {
      "text/plain": [
       "3"
      ]
     },
     "execution_count": 238,
     "metadata": {},
     "output_type": "execute_result"
    }
   ],
   "source": [
    "rand_5[1,2,3,0] ## Selecting the last value from the third metrix in the second index metrix [1]"
   ]
  },
  {
   "cell_type": "code",
   "execution_count": 299,
   "id": "d8ff8c53",
   "metadata": {},
   "outputs": [
    {
     "data": {
      "text/plain": [
       "array([[5, 5, 8, 3, 7],\n",
       "       [7, 9, 4, 7, 5],\n",
       "       [9, 6, 2, 0, 5],\n",
       "       [3, 0, 5, 7, 1]])"
      ]
     },
     "execution_count": 299,
     "metadata": {},
     "output_type": "execute_result"
    }
   ],
   "source": [
    "rand_5[1,2]   #third metrix in the second index metrix [1]"
   ]
  },
  {
   "cell_type": "code",
   "execution_count": 279,
   "id": "e3e8961f",
   "metadata": {},
   "outputs": [
    {
     "data": {
      "text/plain": [
       "array([[5, 5],\n",
       "       [7, 9],\n",
       "       [9, 6],\n",
       "       [3, 0]])"
      ]
     },
     "execution_count": 279,
     "metadata": {},
     "output_type": "execute_result"
    }
   ],
   "source": [
    "rand_5[1,2,:,:2] ## Selecting the first two columns from the third metrix in the second index metrix [1]"
   ]
  },
  {
   "cell_type": "code",
   "execution_count": 300,
   "id": "958ab400",
   "metadata": {},
   "outputs": [
    {
     "data": {
      "text/plain": [
       "array([[5, 5, 8, 3, 7],\n",
       "       [7, 9, 4, 7, 5],\n",
       "       [9, 6, 2, 0, 5],\n",
       "       [3, 0, 5, 7, 1]])"
      ]
     },
     "execution_count": 300,
     "metadata": {},
     "output_type": "execute_result"
    }
   ],
   "source": [
    "rand_5[1,2]   #third metrix in the second index metrix [1]"
   ]
  },
  {
   "cell_type": "code",
   "execution_count": 286,
   "id": "b82228d2",
   "metadata": {},
   "outputs": [
    {
     "data": {
      "text/plain": [
       "array([[9, 6],\n",
       "       [3, 0]])"
      ]
     },
     "execution_count": 286,
     "metadata": {},
     "output_type": "execute_result"
    }
   ],
   "source": [
    "rand_5[1, 2, 2:4,:2] #slicing the 2nd,3rd row & 1st,2nd Column, from the third metrix in the second index metrix [1]"
   ]
  },
  {
   "cell_type": "code",
   "execution_count": 301,
   "id": "ebbfe08d",
   "metadata": {},
   "outputs": [
    {
     "data": {
      "text/plain": [
       "array([[5, 5, 8, 3, 7],\n",
       "       [7, 9, 4, 7, 5],\n",
       "       [9, 6, 2, 0, 5],\n",
       "       [3, 0, 5, 7, 1]])"
      ]
     },
     "execution_count": 301,
     "metadata": {},
     "output_type": "execute_result"
    }
   ],
   "source": [
    "rand_5[1,2]  #third metrix in the second index metrix [1]"
   ]
  },
  {
   "cell_type": "code",
   "execution_count": 307,
   "id": "9efc8577",
   "metadata": {},
   "outputs": [
    {
     "data": {
      "text/plain": [
       "array([[6, 2],\n",
       "       [0, 5]])"
      ]
     },
     "execution_count": 307,
     "metadata": {},
     "output_type": "execute_result"
    }
   ],
   "source": [
    "rand_5[1,2,2:4,1:3] #slicing the 2nd,3rd row & 2nd,3rd Column, from the third metrix in the second index metrix [1]"
   ]
  },
  {
   "cell_type": "code",
   "execution_count": 304,
   "id": "5956189a",
   "metadata": {},
   "outputs": [
    {
     "data": {
      "text/plain": [
       "array([[5, 5, 8, 3, 7],\n",
       "       [7, 9, 4, 7, 5],\n",
       "       [9, 6, 2, 0, 5],\n",
       "       [3, 0, 5, 7, 1]])"
      ]
     },
     "execution_count": 304,
     "metadata": {},
     "output_type": "execute_result"
    }
   ],
   "source": [
    "rand_5[1,2]   #third metrix in the second index metrix [1]"
   ]
  },
  {
   "cell_type": "code",
   "execution_count": 297,
   "id": "2c47c607",
   "metadata": {},
   "outputs": [
    {
     "data": {
      "text/plain": [
       "array([[0, 5],\n",
       "       [7, 1]])"
      ]
     },
     "execution_count": 297,
     "metadata": {},
     "output_type": "execute_result"
    }
   ],
   "source": [
    "rand_5[1,2,2:4,3:5]  #slicing the 2nd,3rd row & 4th,5th Column, from the third metrix in the second index metrix [1]"
   ]
  },
  {
   "cell_type": "markdown",
   "id": "29e6e9da",
   "metadata": {},
   "source": [
    "\n",
    "### Manipulation of Arrays\n",
    "\n",
    "Arithemetics"
   ]
  },
  {
   "cell_type": "code",
   "execution_count": 309,
   "id": "a216d4c1",
   "metadata": {},
   "outputs": [
    {
     "data": {
      "text/plain": [
       "array([1, 2, 3])"
      ]
     },
     "execution_count": 309,
     "metadata": {},
     "output_type": "execute_result"
    }
   ],
   "source": [
    "a1"
   ]
  },
  {
   "cell_type": "code",
   "execution_count": 314,
   "id": "0a378677",
   "metadata": {},
   "outputs": [
    {
     "data": {
      "text/plain": [
       "array([[1., 1., 1.],\n",
       "       [1., 1., 1.],\n",
       "       [1., 1., 1.],\n",
       "       [1., 1., 1.],\n",
       "       [1., 1., 1.]])"
      ]
     },
     "execution_count": 314,
     "metadata": {},
     "output_type": "execute_result"
    }
   ],
   "source": [
    "ones"
   ]
  },
  {
   "cell_type": "code",
   "execution_count": 316,
   "id": "7d8c66ee",
   "metadata": {},
   "outputs": [
    {
     "data": {
      "text/plain": [
       "array([[2., 3., 4.],\n",
       "       [2., 3., 4.],\n",
       "       [2., 3., 4.],\n",
       "       [2., 3., 4.],\n",
       "       [2., 3., 4.]])"
      ]
     },
     "execution_count": 316,
     "metadata": {},
     "output_type": "execute_result"
    }
   ],
   "source": [
    "a1+ones"
   ]
  },
  {
   "cell_type": "code",
   "execution_count": 317,
   "id": "89121835",
   "metadata": {},
   "outputs": [
    {
     "data": {
      "text/plain": [
       "array([[0., 1., 2.],\n",
       "       [0., 1., 2.],\n",
       "       [0., 1., 2.],\n",
       "       [0., 1., 2.],\n",
       "       [0., 1., 2.]])"
      ]
     },
     "execution_count": 317,
     "metadata": {},
     "output_type": "execute_result"
    }
   ],
   "source": [
    "a1-ones"
   ]
  },
  {
   "cell_type": "code",
   "execution_count": 318,
   "id": "510a46d2",
   "metadata": {},
   "outputs": [
    {
     "data": {
      "text/plain": [
       "array([[1. , 2.1, 3. ],\n",
       "       [4.1, 5. , 2.7]])"
      ]
     },
     "execution_count": 318,
     "metadata": {},
     "output_type": "execute_result"
    }
   ],
   "source": [
    "a2"
   ]
  },
  {
   "cell_type": "code",
   "execution_count": 320,
   "id": "019a3787",
   "metadata": {},
   "outputs": [
    {
     "data": {
      "text/plain": [
       "array([1, 2, 3])"
      ]
     },
     "execution_count": 320,
     "metadata": {},
     "output_type": "execute_result"
    }
   ],
   "source": [
    "a1"
   ]
  },
  {
   "cell_type": "code",
   "execution_count": 319,
   "id": "32db6257",
   "metadata": {},
   "outputs": [
    {
     "data": {
      "text/plain": [
       "array([[ 1. ,  4.2,  9. ],\n",
       "       [ 4.1, 10. ,  8.1]])"
      ]
     },
     "execution_count": 319,
     "metadata": {},
     "output_type": "execute_result"
    }
   ],
   "source": [
    "a1*a2"
   ]
  },
  {
   "cell_type": "code",
   "execution_count": 321,
   "id": "c283cade",
   "metadata": {},
   "outputs": [
    {
     "data": {
      "text/plain": [
       "array([[1.        , 0.95238095, 1.        ],\n",
       "       [0.24390244, 0.4       , 1.11111111]])"
      ]
     },
     "execution_count": 321,
     "metadata": {},
     "output_type": "execute_result"
    }
   ],
   "source": [
    "a1/a2"
   ]
  },
  {
   "cell_type": "code",
   "execution_count": 322,
   "id": "0cad6329",
   "metadata": {},
   "outputs": [
    {
     "data": {
      "text/plain": [
       "array([[0. , 2. , 0. ],\n",
       "       [1. , 2. , 0.3]])"
      ]
     },
     "execution_count": 322,
     "metadata": {},
     "output_type": "execute_result"
    }
   ],
   "source": [
    "a1%a2"
   ]
  },
  {
   "cell_type": "code",
   "execution_count": 323,
   "id": "81f82d38",
   "metadata": {},
   "outputs": [
    {
     "data": {
      "text/plain": [
       "array([[0.5 , 1.05, 1.5 ],\n",
       "       [2.05, 2.5 , 1.35]])"
      ]
     },
     "execution_count": 323,
     "metadata": {},
     "output_type": "execute_result"
    }
   ],
   "source": [
    "a2/2"
   ]
  },
  {
   "cell_type": "code",
   "execution_count": 324,
   "id": "19de5d69",
   "metadata": {},
   "outputs": [
    {
     "data": {
      "text/plain": [
       "array([[1. , 0.1, 1. ],\n",
       "       [0.1, 1. , 0.7]])"
      ]
     },
     "execution_count": 324,
     "metadata": {},
     "output_type": "execute_result"
    }
   ],
   "source": [
    "a2%2 #remainder"
   ]
  },
  {
   "cell_type": "code",
   "execution_count": 325,
   "id": "f3edf78d",
   "metadata": {},
   "outputs": [
    {
     "data": {
      "text/plain": [
       "array([[2. , 4.1, 6. ],\n",
       "       [5.1, 7. , 5.7]])"
      ]
     },
     "execution_count": 325,
     "metadata": {},
     "output_type": "execute_result"
    }
   ],
   "source": [
    "np.add(a1,a2) #function can be used as well "
   ]
  },
  {
   "cell_type": "code",
   "execution_count": 326,
   "id": "ac8e96a2",
   "metadata": {},
   "outputs": [
    {
     "data": {
      "text/plain": [
       "array([[ 1.  ,  4.41,  9.  ],\n",
       "       [16.81, 25.  ,  7.29]])"
      ]
     },
     "execution_count": 326,
     "metadata": {},
     "output_type": "execute_result"
    }
   ],
   "source": [
    "a2**2 "
   ]
  },
  {
   "cell_type": "code",
   "execution_count": 327,
   "id": "55462350",
   "metadata": {},
   "outputs": [
    {
     "data": {
      "text/plain": [
       "array([[ 1.  ,  4.41,  9.  ],\n",
       "       [16.81, 25.  ,  7.29]])"
      ]
     },
     "execution_count": 327,
     "metadata": {},
     "output_type": "execute_result"
    }
   ],
   "source": [
    "np.square(a2)  # this does same above"
   ]
  },
  {
   "cell_type": "code",
   "execution_count": 328,
   "id": "615a5aea",
   "metadata": {},
   "outputs": [
    {
     "data": {
      "text/plain": [
       "array([[  2.71828183,   8.16616991,  20.08553692],\n",
       "       [ 60.3402876 , 148.4131591 ,  14.87973172]])"
      ]
     },
     "execution_count": 328,
     "metadata": {},
     "output_type": "execute_result"
    }
   ],
   "source": [
    "np.exp(a2) #exponetial"
   ]
  },
  {
   "cell_type": "code",
   "execution_count": 330,
   "id": "bc45c1dd",
   "metadata": {},
   "outputs": [
    {
     "ename": "ValueError",
     "evalue": "operands could not be broadcast together with shapes (2,3) (2,3,3) ",
     "output_type": "error",
     "traceback": [
      "\u001b[1;31m---------------------------------------------------------------------------\u001b[0m",
      "\u001b[1;31mValueError\u001b[0m                                Traceback (most recent call last)",
      "Input \u001b[1;32mIn [330]\u001b[0m, in \u001b[0;36m<cell line: 1>\u001b[1;34m()\u001b[0m\n\u001b[1;32m----> 1\u001b[0m \u001b[43ma2\u001b[49m\u001b[38;5;241;43m/\u001b[39;49m\u001b[38;5;241;43m/\u001b[39;49m\u001b[43ma3\u001b[49m\n",
      "\u001b[1;31mValueError\u001b[0m: operands could not be broadcast together with shapes (2,3) (2,3,3) "
     ]
    }
   ],
   "source": [
    "a2//a3\n",
    "\n",
    "##this dosent work see solution below"
   ]
  },
  {
   "cell_type": "code",
   "execution_count": null,
   "id": "4c4e72dd",
   "metadata": {},
   "outputs": [],
   "source": [
    " "
   ]
  },
  {
   "cell_type": "code",
   "execution_count": null,
   "id": "36a2cf50",
   "metadata": {},
   "outputs": [],
   "source": []
  },
  {
   "cell_type": "code",
   "execution_count": null,
   "id": "d6c62136",
   "metadata": {},
   "outputs": [],
   "source": [
    " "
   ]
  },
  {
   "cell_type": "code",
   "execution_count": null,
   "id": "caf47583",
   "metadata": {},
   "outputs": [],
   "source": []
  },
  {
   "cell_type": "code",
   "execution_count": null,
   "id": "55867c08",
   "metadata": {},
   "outputs": [],
   "source": []
  },
  {
   "cell_type": "code",
   "execution_count": null,
   "id": "dc08f3ea",
   "metadata": {},
   "outputs": [],
   "source": []
  },
  {
   "cell_type": "code",
   "execution_count": null,
   "id": "677d9033",
   "metadata": {},
   "outputs": [],
   "source": []
  }
 ],
 "metadata": {
  "kernelspec": {
   "display_name": "Python 3 (ipykernel)",
   "language": "python",
   "name": "python3"
  },
  "language_info": {
   "codemirror_mode": {
    "name": "ipython",
    "version": 3
   },
   "file_extension": ".py",
   "mimetype": "text/x-python",
   "name": "python",
   "nbconvert_exporter": "python",
   "pygments_lexer": "ipython3",
   "version": "3.10.4"
  },
  "toc": {
   "base_numbering": 1,
   "nav_menu": {},
   "number_sections": true,
   "sideBar": true,
   "skip_h1_title": false,
   "title_cell": "Table of Contents",
   "title_sidebar": "Contents",
   "toc_cell": false,
   "toc_position": {},
   "toc_section_display": true,
   "toc_window_display": false
  },
  "varInspector": {
   "cols": {
    "lenName": 16,
    "lenType": 16,
    "lenVar": 40
   },
   "kernels_config": {
    "python": {
     "delete_cmd_postfix": "",
     "delete_cmd_prefix": "del ",
     "library": "var_list.py",
     "varRefreshCmd": "print(var_dic_list())"
    },
    "r": {
     "delete_cmd_postfix": ") ",
     "delete_cmd_prefix": "rm(",
     "library": "var_list.r",
     "varRefreshCmd": "cat(var_dic_list()) "
    }
   },
   "types_to_exclude": [
    "module",
    "function",
    "builtin_function_or_method",
    "instance",
    "_Feature"
   ],
   "window_display": false
  }
 },
 "nbformat": 4,
 "nbformat_minor": 5
}
